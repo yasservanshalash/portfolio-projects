{
 "cells": [
  {
   "cell_type": "markdown",
   "metadata": {
    "collapsed": true
   },
   "source": [
    "# Analysing post activities to make Hacker News top rated"
   ]
  },
  {
   "cell_type": "markdown",
   "metadata": {},
   "source": [
    "# Introduction\n",
    "Hacker News is a site started by the startup incubator Y Combinator, where user-submitted stories (known as \"posts\") are voted and commented upon, similar to reddit. Hacker News is extremely popular in technology and startup circles, and posts that make it to the top of Hacker News' listings can get hundreds of thousands of visitors as a result.\n",
    "\n",
    "You can find the data set [here](https://www.kaggle.com/hacker-news/hacker-news-posts)\n",
    "\n",
    "# Objective\n",
    "We'll compare these two types of posts to determine the following:\n",
    "\n",
    "* Do Ask HN or Show HN receive more comments and points on average?\n",
    "* Do posts created at a certain time receive more comments and points on average?\n",
    "\n",
    "## Summary of Results\n",
    "After analyzing the data, we can say that Ask HM has higher comments than Show HM post. Moreover, the time of posting has an impact on the average number of comments; Ask post, posted at 15:00 receives, on average, the highest number of comments. On the other hand, points average is higher for Show posts at 23.00. For more details, please refer to the full analysis below."
   ]
  },
  {
   "cell_type": "markdown",
   "metadata": {},
   "source": [
    "# Exploring existing data\n",
    "\n",
    "## Import necessary libraries"
   ]
  },
  {
   "cell_type": "code",
   "execution_count": 1,
   "metadata": {},
   "outputs": [],
   "source": [
    "# import csv module to read data\n",
    "from csv import reader \n",
    "\n",
    "# import datetime module to convert date \n",
    "from datetime import datetime as dt "
   ]
  },
  {
   "cell_type": "markdown",
   "metadata": {},
   "source": [
    "## Load the dataset as list"
   ]
  },
  {
   "cell_type": "code",
   "execution_count": 2,
   "metadata": {},
   "outputs": [],
   "source": [
    "opened_file = open('HN_posts_year_to_Sep_26_2016.csv')\n",
    "\n",
    "# read file with reader method from csv module\n",
    "read_file = reader(opened_file)\n",
    "\n",
    "# Set opened file as a list of list in a variable name hacker news as hn\n",
    "hn = list(read_file)"
   ]
  },
  {
   "cell_type": "markdown",
   "metadata": {},
   "source": [
    "## Datasets Short Description\n",
    "Below are descriptions of the columns:\n",
    "\n",
    "* id: The unique identifier from Hacker News for the post\n",
    "* title: The title of the post\n",
    "* url: The URL that the posts links to, if the post has a URL\n",
    "* num_points: The number of points the post acquired, calculated as the total number of upvotes minus the total number of downvotes\n",
    "* num_comments: The number of comments that were made on the post\n",
    "* author: The username of the person who submitted the post\n",
    "* created_at: The date and time at which the post was submitted"
   ]
  },
  {
   "cell_type": "markdown",
   "metadata": {},
   "source": [
    "## Display the first five rows of dataset"
   ]
  },
  {
   "cell_type": "code",
   "execution_count": 3,
   "metadata": {},
   "outputs": [
    {
     "name": "stdout",
     "output_type": "stream",
     "text": [
      "['id', 'title', 'url', 'num_points', 'num_comments', 'author', 'created_at']\n",
      "\n",
      "\n",
      "['12579008', 'You have two days to comment if you want stem cells to be classified as your own', 'http://www.regulations.gov/document?D=FDA-2015-D-3719-0018', '1', '0', 'altstar', '9/26/2016 3:26']\n",
      "\n",
      "\n",
      "['12579005', 'SQLAR  the SQLite Archiver', 'https://www.sqlite.org/sqlar/doc/trunk/README.md', '1', '0', 'blacksqr', '9/26/2016 3:24']\n",
      "\n",
      "\n",
      "['12578997', 'What if we just printed a flatscreen television on the side of our boxes?', 'https://medium.com/vanmoof/our-secrets-out-f21c1f03fdc8#.ietxmez43', '1', '0', 'pavel_lishin', '9/26/2016 3:19']\n",
      "\n",
      "\n",
      "['12578989', 'algorithmic music', 'http://cacm.acm.org/magazines/2011/7/109891-algorithmic-composition/fulltext', '1', '0', 'poindontcare', '9/26/2016 3:16']\n",
      "\n",
      "\n",
      "The data set has 293120 rows.\n",
      "Each row has 7 columns.\n"
     ]
    }
   ],
   "source": [
    "# First 5 rows of dataset including header\n",
    "for row in hn[:5]:\n",
    "    print(row)\n",
    "    print('\\n')\n",
    "    \n",
    "# Show the number of rows and columns in dataset\n",
    "\n",
    "print('The data set has '+ str(len(hn))+' rows.')\n",
    "print(\"Each row has \"+ str(len(hn[0]))+ ' columns.')"
   ]
  },
  {
   "cell_type": "markdown",
   "metadata": {},
   "source": [
    "## Extract the first row of data as headers and remove the header from main dataset"
   ]
  },
  {
   "cell_type": "code",
   "execution_count": 23,
   "metadata": {},
   "outputs": [
    {
     "name": "stdout",
     "output_type": "stream",
     "text": [
      "The header is :  ['12579008', 'You have two days to comment if you want stem cells to be classified as your own', 'http://www.regulations.gov/document?D=FDA-2015-D-3719-0018', '1', '0', 'altstar', '9/26/2016 3:26']\n",
      "\n",
      "Rows without header : [['12579005', 'SQLAR  the SQLite Archiver', 'https://www.sqlite.org/sqlar/doc/trunk/README.md', '1', '0', 'blacksqr', '9/26/2016 3:24'], ['12578997', 'What if we just printed a flatscreen television on the side of our boxes?', 'https://medium.com/vanmoof/our-secrets-out-f21c1f03fdc8#.ietxmez43', '1', '0', 'pavel_lishin', '9/26/2016 3:19'], ['12578989', 'algorithmic music', 'http://cacm.acm.org/magazines/2011/7/109891-algorithmic-composition/fulltext', '1', '0', 'poindontcare', '9/26/2016 3:16'], ['12578979', 'How the Data Vault Enables the Next-Gen Data Warehouse and Data Lake', 'https://www.talend.com/blog/2016/05/12/talend-and-Â\\x93the-data-vaultÂ\\x94', '1', '0', 'markgainor1', '9/26/2016 3:14'], ['12578975', 'Saving the Hassle of Shopping', 'https://blog.menswr.com/2016/09/07/whats-new-with-your-style-feed/', '1', '1', 'bdoux', '9/26/2016 3:13']]\n"
     ]
    }
   ],
   "source": [
    "# set 0 index for header and rest index for rows \n",
    "header, hn = hn[0], hn[1:]\n",
    "print(\"The header is : \", header)\n",
    "print()\n",
    "print(\"Rows without header :\", hn[:5])"
   ]
  },
  {
   "cell_type": "markdown",
   "metadata": {},
   "source": [
    "## Separate posts beginning with Ask HN and Show HN  into two different lists"
   ]
  },
  {
   "cell_type": "code",
   "execution_count": 6,
   "metadata": {},
   "outputs": [],
   "source": [
    "# Create  three empty lists\n",
    "ask_posts = []\n",
    "show_posts = []\n",
    "other_posts = []\n",
    "for row in hn:\n",
    "    title = row[1]\n",
    "    if title.lower().startswith(\"ask hn\"):\n",
    "        ask_posts.append(row)\n",
    "    elif title.lower().startswith(\"show hn\"):\n",
    "        show_posts.append(row)\n",
    "    else:\n",
    "        other_posts.append(row)"
   ]
  },
  {
   "cell_type": "markdown",
   "metadata": {},
   "source": [
    "## The amount of posts on each list"
   ]
  },
  {
   "cell_type": "code",
   "execution_count": 24,
   "metadata": {},
   "outputs": [
    {
     "name": "stdout",
     "output_type": "stream",
     "text": [
      "There are 9139 Ask HN posts\n",
      "There are 10158 Show HN posts\n",
      "There are 273822 other posts\n"
     ]
    }
   ],
   "source": [
    "print(\"There are \"+ str(len(ask_posts))+\" Ask HN posts\")\n",
    "print(\"There are \"+ str(len(show_posts))+\" Show HN posts\")\n",
    "print(\"There are \"+ str(len(other_posts))+\" other posts\") "
   ]
  },
  {
   "cell_type": "markdown",
   "metadata": {},
   "source": [
    "We can see that average posts in ask_posts is greater than show_posts.\n",
    "## Show first 5 rows of ask and show posts list"
   ]
  },
  {
   "cell_type": "code",
   "execution_count": 27,
   "metadata": {},
   "outputs": [
    {
     "name": "stdout",
     "output_type": "stream",
     "text": [
      "The first five rows of ask posts : \n",
      " [['12578908', 'Ask HN: What TLD do you use for local development?', '', '4', '7', 'Sevrene', '9/26/2016 2:53'], ['12578522', 'Ask HN: How do you pass on your work when you die?', '', '6', '3', 'PascLeRasc', '9/26/2016 1:17'], ['12577908', 'Ask HN: How a DNS problem can be limited to a geographic region?', '', '1', '0', 'kuon', '9/25/2016 22:57'], ['12577870', 'Ask HN: Why join a fund when you can be an angel?', '', '1', '3', 'anthony_james', '9/25/2016 22:48'], ['12577647', 'Ask HN: Someone uses stock trading as passive income?', '', '5', '2', '00taffe', '9/25/2016 21:50']]\n"
     ]
    }
   ],
   "source": [
    "print(\"The first five rows of ask posts : \\n\", ask_posts[:5])"
   ]
  },
  {
   "cell_type": "code",
   "execution_count": 28,
   "metadata": {},
   "outputs": [
    {
     "name": "stdout",
     "output_type": "stream",
     "text": [
      "The first five rows of show posts : \n",
      " [['12578335', 'Show HN: Finding puns computationally', 'http://puns.samueltaylor.org/', '2', '0', 'saamm', '9/26/2016 0:36'], ['12578182', 'Show HN: A simple library for complicated animations', 'https://christinecha.github.io/choreographer-js/', '1', '0', 'christinecha', '9/26/2016 0:01'], ['12578098', 'Show HN: WebGL visualization of DNA sequences', 'http://grondilu.github.io/dna.html', '1', '0', 'grondilu', '9/25/2016 23:44'], ['12577991', 'Show HN: Pomodoro-centric, heirarchical project management with ES6 modules', 'https://github.com/jakebian/zeal', '2', '0', 'dbranes', '9/25/2016 23:17'], ['12577142', 'Show HN: Jumble  Essays on the go #PaulInYourPocket', 'https://itunes.apple.com/us/app/jumble-find-startup-essay/id1150939197?ls=1&mt=8', '1', '1', 'ryderj', '9/25/2016 20:06']]\n"
     ]
    }
   ],
   "source": [
    "print(\"The first five rows of show posts : \\n\", show_posts[:5])"
   ]
  },
  {
   "cell_type": "markdown",
   "metadata": {},
   "source": [
    "# Let's determine if ask_posts or show_posts receive more comments on average.\n",
    "\n"
   ]
  },
  {
   "cell_type": "code",
   "execution_count": 30,
   "metadata": {},
   "outputs": [
    {
     "name": "stdout",
     "output_type": "stream",
     "text": [
      "Total ask post 94,986\n",
      "Average ask post  10.39\n"
     ]
    }
   ],
   "source": [
    "# calculate total and average ask_post comments\n",
    "\n",
    "total_ask_comments = 0\n",
    "for row in ask_posts:\n",
    "    num_comments = int(row[4])\n",
    "    total_ask_comments +=num_comments\n",
    "avg_ask_comments = total_ask_comments/len(ask_posts)\n",
    "print(\"Total ask post {:,}\".format(total_ask_comments))\n",
    "print(\"Average ask post \", round(avg_ask_comments,2))\n",
    "    "
   ]
  },
  {
   "cell_type": "code",
   "execution_count": 31,
   "metadata": {},
   "outputs": [
    {
     "name": "stdout",
     "output_type": "stream",
     "text": [
      "Total show posts 49,633\n",
      "Average show posts  4.89\n"
     ]
    }
   ],
   "source": [
    "# calculate total and average show_post comments\n",
    "\n",
    "total_show_comments = 0\n",
    "for row in show_posts:\n",
    "    num_comments = int(row[4])\n",
    "    total_show_comments +=num_comments\n",
    "avg_show_comments = total_show_comments/len(show_posts)\n",
    "print(\"Total show posts {:,}\".format(total_show_comments))\n",
    "print(\"Average show posts \", round(avg_show_comments,2))"
   ]
  },
  {
   "cell_type": "markdown",
   "metadata": {},
   "source": [
    "## HN posts breakdown by comments\n",
    "| HN Posts  |  Total |  Average |   |   |\n",
    "|---|---|---|---|---|\n",
    "| ask_post  | 94,986  |  10.34 |   |   |\n",
    "|  show_post | 49,633  | 4.89  |   |   |\n",
    "|   |   |   |   |   |\n",
    "\n",
    "From the above two posts we can see that average posts of ask_post have more comments than show_posts. \n",
    "\n",
    "Since ask posts are more likely to receive comments, we'll focus our remaining analysis just on these posts.\n",
    "\n",
    "Next, we'll determine if ask posts created at a certain time are more likely to attract comments. We'll use the following steps to perform this analysis:\n",
    "\n",
    "* Calculate the amount of ask_posts created in each hour of the day, along with the number of comments received.\n",
    "* Calculate the average number of comments ask_posts receive by hour created."
   ]
  },
  {
   "cell_type": "code",
   "execution_count": 32,
   "metadata": {},
   "outputs": [],
   "source": [
    "# Create an empty list where we load new columns\n",
    "result_list = []\n",
    "\n",
    "for post in ask_posts:\n",
    "    result_list.append([post[6], int(post[4])])"
   ]
  },
  {
   "cell_type": "markdown",
   "metadata": {},
   "source": [
    "## Show total number of hour and comments in different dictionary"
   ]
  },
  {
   "cell_type": "code",
   "execution_count": 13,
   "metadata": {},
   "outputs": [
    {
     "name": "stdout",
     "output_type": "stream",
     "text": [
      "Hourly comments number :  {'02': 2996, '01': 2089, '22': 3372, '21': 4500, '19': 3954, '17': 5547, '15': 18525, '14': 4972, '13': 7245, '11': 2797, '10': 3013, '09': 1477, '07': 1585, '03': 2154, '23': 2297, '20': 4462, '16': 4466, '08': 2362, '00': 2277, '18': 4877, '12': 4234, '04': 2360, '06': 1587, '05': 1838}\n",
      "\n",
      "\n",
      "Hourly counted number : {'02': 269, '01': 282, '22': 383, '21': 518, '19': 552, '17': 587, '15': 646, '14': 513, '13': 444, '11': 312, '10': 282, '09': 222, '07': 226, '03': 271, '23': 343, '20': 510, '16': 579, '08': 257, '00': 301, '18': 614, '12': 342, '04': 243, '06': 234, '05': 209}\n"
     ]
    }
   ],
   "source": [
    "comments_by_hour = {}\n",
    "counts_by_hour = {}\n",
    "date_format = \"%m/%d/%Y %H:%M\"\n",
    "\n",
    "for each_row in result_list:\n",
    "    dt_created = each_row[0]\n",
    "    num_comment = each_row[1]\n",
    "    time = dt.datetime.strptime(dt_created, date_format).strftime(\"%H\")\n",
    "    if time in counts_by_hour:\n",
    "        comments_by_hour[time] += num_comment\n",
    "        counts_by_hour[time] += 1\n",
    "    else:\n",
    "        comments_by_hour[time] = num_comment\n",
    "        counts_by_hour[time] = 1\n",
    "\n",
    "print(\"Hourly comments number : \", comments_by_hour)\n",
    "print(\"\\n\")\n",
    "print(\"Hourly counted number :\", counts_by_hour)"
   ]
  },
  {
   "cell_type": "markdown",
   "metadata": {},
   "source": [
    "The data shows that most ask posts recieve more comments around 15:00pm.\n",
    "\n",
    "## Show the average number of comments by hour"
   ]
  },
  {
   "cell_type": "code",
   "execution_count": 33,
   "metadata": {},
   "outputs": [
    {
     "data": {
      "text/plain": [
       "[['02', 14.334928229665072],\n",
       " ['01', 8.45748987854251],\n",
       " ['22', 8.944297082228116],\n",
       " ['21', 10.465116279069768],\n",
       " ['19', 7.111510791366906],\n",
       " ['17', 7.289093298291721],\n",
       " ['15', 22.15909090909091],\n",
       " ['14', 7.14367816091954],\n",
       " ['13', 11.87704918032787],\n",
       " ['11', 6.95771144278607],\n",
       " ['10', 9.328173374613003],\n",
       " ['09', 4.8907284768211925],\n",
       " ['07', 6.716101694915254],\n",
       " ['03', 10.45631067961165],\n",
       " ['23', 7.200626959247649],\n",
       " ['20', 8.49904761904762],\n",
       " ['16', 5.575530586766542],\n",
       " ['08', 7.474683544303797],\n",
       " ['00', 8.25],\n",
       " ['18', 7.434451219512195],\n",
       " ['12', 8.205426356589147],\n",
       " ['04', 12.164948453608247],\n",
       " ['06', 8.265625],\n",
       " ['05', 10.686046511627907]]"
      ]
     },
     "execution_count": 33,
     "metadata": {},
     "output_type": "execute_result"
    }
   ],
   "source": [
    "# Calculate the average number of comments by ask_posts\n",
    "avg_by_hour = []\n",
    "\n",
    "for hr in comments_by_hour:\n",
    "    avg_by_hour.append([hr, comments_by_hour[hr] / counts_by_hour[hr]])\n",
    "\n",
    "avg_by_hour"
   ]
  },
  {
   "cell_type": "markdown",
   "metadata": {},
   "source": [
    "## Swap the average hour"
   ]
  },
  {
   "cell_type": "code",
   "execution_count": 34,
   "metadata": {},
   "outputs": [
    {
     "name": "stdout",
     "output_type": "stream",
     "text": [
      "[[14.334928229665072, '02'], [8.45748987854251, '01'], [8.944297082228116, '22'], [10.465116279069768, '21'], [7.111510791366906, '19'], [7.289093298291721, '17'], [22.15909090909091, '15'], [7.14367816091954, '14'], [11.87704918032787, '13'], [6.95771144278607, '11'], [9.328173374613003, '10'], [4.8907284768211925, '09'], [6.716101694915254, '07'], [10.45631067961165, '03'], [7.200626959247649, '23'], [8.49904761904762, '20'], [5.575530586766542, '16'], [7.474683544303797, '08'], [8.25, '00'], [7.434451219512195, '18'], [8.205426356589147, '12'], [12.164948453608247, '04'], [8.265625, '06'], [10.686046511627907, '05']]\n"
     ]
    }
   ],
   "source": [
    "swap_avg_by_hour = []\n",
    "for row in avg_by_hour:\n",
    "    swap_avg_by_hour.append([row[1], row[0]])\n",
    "print(swap_avg_by_hour)"
   ]
  },
  {
   "cell_type": "markdown",
   "metadata": {},
   "source": [
    "## Show top most 5 comments average"
   ]
  },
  {
   "cell_type": "code",
   "execution_count": 35,
   "metadata": {},
   "outputs": [
    {
     "name": "stdout",
     "output_type": "stream",
     "text": [
      "Top 5 Hours for Ask Posts Comments : [[22.15909090909091, '15'], [14.334928229665072, '02'], [12.164948453608247, '04'], [11.87704918032787, '13'], [10.686046511627907, '05']]\n"
     ]
    }
   ],
   "source": [
    "sorted_swap = sorted(swap_avg_by_hour, reverse = True)\n",
    "print(\"Top 5 Hours for Ask Posts Comments :\", sorted_swap[:5])"
   ]
  },
  {
   "cell_type": "code",
   "execution_count": 36,
   "metadata": {},
   "outputs": [
    {
     "name": "stdout",
     "output_type": "stream",
     "text": [
      "15:00:22.16\n",
      "02:00:14.33\n",
      "04:00:12.16\n",
      "13:00:11.88\n",
      "05:00:10.69\n"
     ]
    }
   ],
   "source": [
    "for avg, hr in sorted_swap[:5]:\n",
    "    print(\"{}:{:.2f}\".format(\n",
    "        dt.datetime.strptime(hr, \"%H\").strftime(\"%H:%M\"), avg))"
   ]
  },
  {
   "cell_type": "markdown",
   "metadata": {},
   "source": [
    "Based on the dataset documentation, the timezone used is the eastern time in the US, 15:00 will be equivalent to 3:00 pm est. The top 5 hours for most comments on Ask Posts are 15:00, 02:00, 20.00, 16:00 and 21.00. The hour that receives the most comments on average is 15:00 with thirty nine comments per post."
   ]
  },
  {
   "cell_type": "markdown",
   "metadata": {},
   "source": [
    "# Determine HN posts points on average"
   ]
  },
  {
   "cell_type": "code",
   "execution_count": 38,
   "metadata": {},
   "outputs": [
    {
     "name": "stdout",
     "output_type": "stream",
     "text": [
      " Total ask points 103,378\n",
      "Average ask points : 11.31\n"
     ]
    }
   ],
   "source": [
    "# calculate total and average ask_post points\n",
    "\n",
    "total_ask_points= 0\n",
    "for row in ask_posts:\n",
    "    num_points = int(row[3])\n",
    "    total_ask_points +=num_points\n",
    "avg_ask_points= total_ask_points/len(ask_posts)\n",
    "print(\" Total ask points {:,}\".format(total_ask_points))\n",
    "print(\"Average ask points :\", round(avg_ask_points,2))"
   ]
  },
  {
   "cell_type": "code",
   "execution_count": 39,
   "metadata": {},
   "outputs": [
    {
     "name": "stdout",
     "output_type": "stream",
     "text": [
      "Total show posts 150,781\n",
      "Average show posts : 14.84\n"
     ]
    }
   ],
   "source": [
    "# calculate total and average show_post points\n",
    "\n",
    "total_show_points = 0\n",
    "for row in show_posts:\n",
    "    num_points = int(row[3])\n",
    "    total_show_points +=num_points\n",
    "avg_show_points = total_show_points/len(show_posts)\n",
    "print(\"Total show posts {:,}\".format(total_show_points))\n",
    "print(\"Average show posts :\", round(avg_show_points,2))"
   ]
  },
  {
   "cell_type": "markdown",
   "metadata": {},
   "source": [
    "The average posts from ask and show its easily describle that show post recieve more points on average than ask post points where the average ask posts comments were more than show posts. \n",
    "\n",
    "| Post type  |points(total)   | points(avg)  |\n",
    "|------------|----------------|--------------|\n",
    "| Ask HN     | 103,378         |11.31         |\n",
    "| Show HN    | 150,781         | 14.84       |"
   ]
  },
  {
   "cell_type": "markdown",
   "metadata": {},
   "source": [
    "## Show the number of hour and number of points by hour  in different dictionaries\n",
    "Though show post average number is high so we will analysis show posts part."
   ]
  },
  {
   "cell_type": "code",
   "execution_count": 40,
   "metadata": {},
   "outputs": [
    {
     "name": "stdout",
     "output_type": "stream",
     "text": [
      "Hourly points number :  {'00': 4291, '23': 5060, '20': 6948, '19': 8928, '18': 9935, '16': 11487, '14': 10503, '10': 4303, '09': 3762, '08': 4640, '06': 3071, '03': 2168, '21': 5990, '17': 10563, '15': 11657, '11': 7742, '07': 3303, '04': 2707, '13': 10381, '12': 10787, '01': 2931, '22': 5026, '02': 2764, '05': 1834}\n",
      "\n",
      "\n",
      "Hourly counted number : {'00': 276, '23': 319, '20': 525, '19': 556, '18': 656, '16': 801, '14': 696, '10': 323, '09': 302, '08': 316, '06': 192, '03': 206, '21': 430, '17': 761, '15': 836, '11': 402, '07': 236, '04': 194, '13': 610, '12': 516, '01': 247, '22': 377, '02': 209, '05': 172}\n"
     ]
    }
   ],
   "source": [
    "# create an empty list where we will load columns we need for analysis\n",
    "result_list = []\n",
    "\n",
    "for post in show_posts:\n",
    "    result_list.append([post[6], int(post[3])])\n",
    "\n",
    "points_by_hour = {}\n",
    "counts_by_hour = {}\n",
    "date_format = \"%m/%d/%Y %H:%M\"\n",
    "\n",
    "for each_row in result_list:\n",
    "    dt_created = each_row[0]\n",
    "    num_points = each_row[1]\n",
    "    time = dt.datetime.strptime(dt_created, date_format).strftime(\"%H\")\n",
    "    if time in counts_by_hour:\n",
    "        points_by_hour[time] += num_points\n",
    "        counts_by_hour[time] += 1\n",
    "    else:\n",
    "        points_by_hour[time] = num_points\n",
    "        counts_by_hour[time] = 1\n",
    "\n",
    "print(\"Hourly points number : \", points_by_hour)\n",
    "print(\"\\n\")\n",
    "print(\"Hourly counted number :\", counts_by_hour)"
   ]
  },
  {
   "cell_type": "markdown",
   "metadata": {},
   "source": [
    "## Average points by hour"
   ]
  },
  {
   "cell_type": "code",
   "execution_count": 41,
   "metadata": {},
   "outputs": [
    {
     "data": {
      "text/plain": [
       "[['00', 15.547101449275363],\n",
       " ['23', 15.862068965517242],\n",
       " ['20', 13.234285714285715],\n",
       " ['19', 16.057553956834532],\n",
       " ['18', 15.144817073170731],\n",
       " ['16', 14.340823970037453],\n",
       " ['14', 15.09051724137931],\n",
       " ['10', 13.321981424148607],\n",
       " ['09', 12.456953642384105],\n",
       " ['08', 14.683544303797468],\n",
       " ['06', 15.994791666666666],\n",
       " ['03', 10.524271844660195],\n",
       " ['21', 13.930232558139535],\n",
       " ['17', 13.88042049934297],\n",
       " ['15', 13.94377990430622],\n",
       " ['11', 19.258706467661693],\n",
       " ['07', 13.995762711864407],\n",
       " ['04', 13.95360824742268],\n",
       " ['13', 17.018032786885247],\n",
       " ['12', 20.905038759689923],\n",
       " ['01', 11.866396761133604],\n",
       " ['22', 13.331564986737401],\n",
       " ['02', 13.224880382775119],\n",
       " ['05', 10.662790697674419]]"
      ]
     },
     "execution_count": 41,
     "metadata": {},
     "output_type": "execute_result"
    }
   ],
   "source": [
    "# Create an empty list for average points by hour\n",
    "avg_by_hour = []\n",
    "\n",
    "for hr in points_by_hour:\n",
    "    avg_by_hour.append([hr, points_by_hour[hr] / counts_by_hour[hr]])\n",
    "\n",
    "avg_by_hour"
   ]
  },
  {
   "cell_type": "markdown",
   "metadata": {},
   "source": [
    "The hour that receives the most points for show posts on average is 12:00. \n",
    "\n",
    "## Show top most 5 points average\n"
   ]
  },
  {
   "cell_type": "code",
   "execution_count": 22,
   "metadata": {},
   "outputs": [
    {
     "name": "stdout",
     "output_type": "stream",
     "text": [
      "Top 5 hours for points on 'Show HN' posts\n",
      "12:00: 20.91\n",
      "11:00: 19.26\n",
      "13:00: 17.02\n",
      "19:00: 16.06\n",
      "06:00: 15.99\n"
     ]
    }
   ],
   "source": [
    "# Create an empty list\n",
    "points_avg_by_hour = []\n",
    "\n",
    "# Add columns in that list\n",
    "for row in avg_by_hour:\n",
    "    points_avg_by_hour.append([row[1], row[0]])\n",
    "sorted_list = sorted(points_avg_by_hour, reverse=True)\n",
    "\n",
    "print(\"Top 5 hours for points on 'Show HN' posts\")\n",
    "for avg, hr in sorted_list[:5]:\n",
    "    print(\n",
    "        \"{}: {:.2f}\".format(\n",
    "            dt.datetime.strptime(hr, \"%H\").strftime(\"%H:%M\"),avg\n",
    "        )\n",
    "    )"
   ]
  },
  {
   "cell_type": "markdown",
   "metadata": {},
   "source": [
    "The top 5 hours for most upvotes from the hacker news community for show posts are 11:00, 12 noon, 13.00, 19:00 and 06.00."
   ]
  },
  {
   "cell_type": "markdown",
   "metadata": {},
   "source": [
    "# Result Summary\n",
    "This project analysed ask posts and show posts on the hacker news platform to determine which type of post and time period received the most comments and points on average.\n",
    "\n",
    "Based on the analysis, to optimise the possibility of receiving more comments, we'd recommend users to post on the hacker news platform using the 'ask hn' title and possibly create the post sometime between the time period of 15:00pm and 16:00pm EST. This time period in my timezone is between 20:00pm and 21:00pm WAT.\n",
    "\n",
    "Furthermore, on comparing both types of posts based on the points / upvotes recieved, the data shows that there are more points on average for show posts than there are for ask posts. This suggests that while 'ask hn' posts are more likely to recieve more comments from the hacker news community, 'show hn' posts tend to recieve more points average.\n",
    "The table shows: \n",
    "\n",
    "|Post type   | points(total)  | points(avg)  | comments(total)  |comments(avg)   |\n",
    "|---|---|---|---|---|\n",
    "| Ask HN  | 103,378  | 11.31  |94,986   | 10.34  |\n",
    "| Show HN  | 150,781  | 14.34  | 49,633  | 4.89  |"
   ]
  },
  {
   "cell_type": "markdown",
   "metadata": {},
   "source": [
    "# Conclusion: \n",
    "We accomplished the following task in this guided project:\n",
    "\n",
    "* We set a goal for the project.\n",
    "* We collected and sorted the data.\n",
    "* We reformatted and cleaned the data to prepare it for analysis.\n",
    "* We analyzed the data."
   ]
  }
 ],
 "metadata": {
  "kernelspec": {
   "display_name": "Python 3",
   "language": "python",
   "name": "python3"
  },
  "language_info": {
   "codemirror_mode": {
    "name": "ipython",
    "version": 3
   },
   "file_extension": ".py",
   "mimetype": "text/x-python",
   "name": "python",
   "nbconvert_exporter": "python",
   "pygments_lexer": "ipython3",
   "version": "3.7.6"
  }
 },
 "nbformat": 4,
 "nbformat_minor": 2
}
