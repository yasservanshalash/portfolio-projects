{
  "nbformat": 4,
  "nbformat_minor": 0,
  "metadata": {
    "colab": {
      "name": "Untitled9.ipynb",
      "provenance": [],
      "collapsed_sections": [],
      "authorship_tag": "ABX9TyOBuZW+1oYzi/xr/ZhH6dDn",
      "include_colab_link": true
    },
    "kernelspec": {
      "name": "python3",
      "display_name": "Python 3"
    }
  },
  "cells": [
    {
      "cell_type": "markdown",
      "metadata": {
        "id": "view-in-github",
        "colab_type": "text"
      },
      "source": [
        "<a href=\"https://colab.research.google.com/github/mamun216/portfolio-projects/blob/master/classification%20problem%20of%20bank%20loan%20data.ipynb\" target=\"_parent\"><img src=\"https://colab.research.google.com/assets/colab-badge.svg\" alt=\"Open In Colab\"/></a>"
      ]
    },
    {
      "cell_type": "markdown",
      "metadata": {
        "id": "t01y54XcHqy8"
      },
      "source": [
        "# Classification problem solving with python"
      ]
    },
    {
      "cell_type": "markdown",
      "metadata": {
        "id": "w_-vs75VHcSZ"
      },
      "source": [
        "This dataset is about past loans. The __Loan_train.csv__ data set includes details of 346 customers whose loan are already paid off or defaulted. It includes following fields:\n",
        "\n",
        "| Field          | Description                                                                           |\n",
        "|----------------|---------------------------------------------------------------------------------------|\n",
        "| Loan_status    | Whether a loan is paid off on in collection                                           |\n",
        "| Principal      | Basic principal loan amount at the                                                    |\n",
        "| Terms          | Origination terms which can be weekly (7 days), biweekly, and monthly payoff schedule |\n",
        "| Effective_date | When the loan got originated and took effects                                         |\n",
        "| Due_date       | Since it’s one-time payoff schedule, each loan has one single due date                |\n",
        "| Age            | Age of applicant                                                                      |\n",
        "| Education      | Education of applicant                                                                |\n",
        "| Gender         | The gender of applicant                                                               |"
      ]
    },
    {
      "cell_type": "markdown",
      "metadata": {
        "id": "wrvkHU--H08J"
      },
      "source": [
        "# Import libraries"
      ]
    },
    {
      "cell_type": "code",
      "metadata": {
        "id": "nq0Nj8m1HKkY"
      },
      "source": [
        "import itertools\n",
        "import numpy as np\n",
        "import matplotlib.pyplot as plt\n",
        "from matplotlib.ticker import NullFormatter\n",
        "import pandas as pd\n",
        "import numpy as np\n",
        "import matplotlib.ticker as ticker\n",
        "from sklearn import preprocessing\n",
        "%matplotlib inline"
      ],
      "execution_count": 77,
      "outputs": []
    },
    {
      "cell_type": "code",
      "metadata": {
        "id": "ENYGk4D5HQQZ",
        "outputId": "998e76dd-fe47-499c-b18b-d6d7864b7984",
        "colab": {
          "base_uri": "https://localhost:8080/",
          "height": 202
        }
      },
      "source": [
        "!wget -O loan_train.csv https://s3-api.us-geo.objectstorage.softlayer.net/cf-courses-data/CognitiveClass/ML0101ENv3/labs/loan_train.csv"
      ],
      "execution_count": 78,
      "outputs": [
        {
          "output_type": "stream",
          "text": [
            "--2020-10-28 09:14:38--  https://s3-api.us-geo.objectstorage.softlayer.net/cf-courses-data/CognitiveClass/ML0101ENv3/labs/loan_train.csv\n",
            "Resolving s3-api.us-geo.objectstorage.softlayer.net (s3-api.us-geo.objectstorage.softlayer.net)... 67.228.254.196\n",
            "Connecting to s3-api.us-geo.objectstorage.softlayer.net (s3-api.us-geo.objectstorage.softlayer.net)|67.228.254.196|:443... connected.\n",
            "HTTP request sent, awaiting response... 200 OK\n",
            "Length: 23101 (23K) [text/csv]\n",
            "Saving to: ‘loan_train.csv’\n",
            "\n",
            "loan_train.csv      100%[===================>]  22.56K  --.-KB/s    in 0.08s   \n",
            "\n",
            "2020-10-28 09:14:38 (271 KB/s) - ‘loan_train.csv’ saved [23101/23101]\n",
            "\n"
          ],
          "name": "stdout"
        }
      ]
    },
    {
      "cell_type": "markdown",
      "metadata": {
        "id": "AFbS4V06H9B3"
      },
      "source": [
        "# load data from csv file"
      ]
    },
    {
      "cell_type": "code",
      "metadata": {
        "id": "P88YCrZcHVEv",
        "outputId": "a32f6081-62cf-4ea1-dee9-6815d44ffde0",
        "colab": {
          "base_uri": "https://localhost:8080/",
          "height": 195
        }
      },
      "source": [
        "df = pd.read_csv('loan_train.csv')\n",
        "df.head()"
      ],
      "execution_count": 79,
      "outputs": [
        {
          "output_type": "execute_result",
          "data": {
            "text/html": [
              "<div>\n",
              "<style scoped>\n",
              "    .dataframe tbody tr th:only-of-type {\n",
              "        vertical-align: middle;\n",
              "    }\n",
              "\n",
              "    .dataframe tbody tr th {\n",
              "        vertical-align: top;\n",
              "    }\n",
              "\n",
              "    .dataframe thead th {\n",
              "        text-align: right;\n",
              "    }\n",
              "</style>\n",
              "<table border=\"1\" class=\"dataframe\">\n",
              "  <thead>\n",
              "    <tr style=\"text-align: right;\">\n",
              "      <th></th>\n",
              "      <th>Unnamed: 0</th>\n",
              "      <th>Unnamed: 0.1</th>\n",
              "      <th>loan_status</th>\n",
              "      <th>Principal</th>\n",
              "      <th>terms</th>\n",
              "      <th>effective_date</th>\n",
              "      <th>due_date</th>\n",
              "      <th>age</th>\n",
              "      <th>education</th>\n",
              "      <th>Gender</th>\n",
              "    </tr>\n",
              "  </thead>\n",
              "  <tbody>\n",
              "    <tr>\n",
              "      <th>0</th>\n",
              "      <td>0</td>\n",
              "      <td>0</td>\n",
              "      <td>PAIDOFF</td>\n",
              "      <td>1000</td>\n",
              "      <td>30</td>\n",
              "      <td>9/8/2016</td>\n",
              "      <td>10/7/2016</td>\n",
              "      <td>45</td>\n",
              "      <td>High School or Below</td>\n",
              "      <td>male</td>\n",
              "    </tr>\n",
              "    <tr>\n",
              "      <th>1</th>\n",
              "      <td>2</td>\n",
              "      <td>2</td>\n",
              "      <td>PAIDOFF</td>\n",
              "      <td>1000</td>\n",
              "      <td>30</td>\n",
              "      <td>9/8/2016</td>\n",
              "      <td>10/7/2016</td>\n",
              "      <td>33</td>\n",
              "      <td>Bechalor</td>\n",
              "      <td>female</td>\n",
              "    </tr>\n",
              "    <tr>\n",
              "      <th>2</th>\n",
              "      <td>3</td>\n",
              "      <td>3</td>\n",
              "      <td>PAIDOFF</td>\n",
              "      <td>1000</td>\n",
              "      <td>15</td>\n",
              "      <td>9/8/2016</td>\n",
              "      <td>9/22/2016</td>\n",
              "      <td>27</td>\n",
              "      <td>college</td>\n",
              "      <td>male</td>\n",
              "    </tr>\n",
              "    <tr>\n",
              "      <th>3</th>\n",
              "      <td>4</td>\n",
              "      <td>4</td>\n",
              "      <td>PAIDOFF</td>\n",
              "      <td>1000</td>\n",
              "      <td>30</td>\n",
              "      <td>9/9/2016</td>\n",
              "      <td>10/8/2016</td>\n",
              "      <td>28</td>\n",
              "      <td>college</td>\n",
              "      <td>female</td>\n",
              "    </tr>\n",
              "    <tr>\n",
              "      <th>4</th>\n",
              "      <td>6</td>\n",
              "      <td>6</td>\n",
              "      <td>PAIDOFF</td>\n",
              "      <td>1000</td>\n",
              "      <td>30</td>\n",
              "      <td>9/9/2016</td>\n",
              "      <td>10/8/2016</td>\n",
              "      <td>29</td>\n",
              "      <td>college</td>\n",
              "      <td>male</td>\n",
              "    </tr>\n",
              "  </tbody>\n",
              "</table>\n",
              "</div>"
            ],
            "text/plain": [
              "   Unnamed: 0  Unnamed: 0.1 loan_status  ...  age             education  Gender\n",
              "0           0             0     PAIDOFF  ...   45  High School or Below    male\n",
              "1           2             2     PAIDOFF  ...   33              Bechalor  female\n",
              "2           3             3     PAIDOFF  ...   27               college    male\n",
              "3           4             4     PAIDOFF  ...   28               college  female\n",
              "4           6             6     PAIDOFF  ...   29               college    male\n",
              "\n",
              "[5 rows x 10 columns]"
            ]
          },
          "metadata": {
            "tags": []
          },
          "execution_count": 79
        }
      ]
    },
    {
      "cell_type": "code",
      "metadata": {
        "id": "s0xNOe5hHaD9",
        "outputId": "6577d630-fd61-453a-f15a-3727e98110e4",
        "colab": {
          "base_uri": "https://localhost:8080/",
          "height": 34
        }
      },
      "source": [
        "df.shape"
      ],
      "execution_count": 80,
      "outputs": [
        {
          "output_type": "execute_result",
          "data": {
            "text/plain": [
              "(346, 10)"
            ]
          },
          "metadata": {
            "tags": []
          },
          "execution_count": 80
        }
      ]
    },
    {
      "cell_type": "markdown",
      "metadata": {
        "id": "ijkOKjwzIFo1"
      },
      "source": [
        "# Convert to date time object"
      ]
    },
    {
      "cell_type": "code",
      "metadata": {
        "id": "VQ4BdAiXIBdB",
        "outputId": "088c5e2e-0334-4099-ee56-ca529252cd31",
        "colab": {
          "base_uri": "https://localhost:8080/",
          "height": 195
        }
      },
      "source": [
        "df['due_date'] = pd.to_datetime(df['due_date'])\n",
        "df['effective_date'] = pd.to_datetime(df['effective_date'])\n",
        "df.head()"
      ],
      "execution_count": 81,
      "outputs": [
        {
          "output_type": "execute_result",
          "data": {
            "text/html": [
              "<div>\n",
              "<style scoped>\n",
              "    .dataframe tbody tr th:only-of-type {\n",
              "        vertical-align: middle;\n",
              "    }\n",
              "\n",
              "    .dataframe tbody tr th {\n",
              "        vertical-align: top;\n",
              "    }\n",
              "\n",
              "    .dataframe thead th {\n",
              "        text-align: right;\n",
              "    }\n",
              "</style>\n",
              "<table border=\"1\" class=\"dataframe\">\n",
              "  <thead>\n",
              "    <tr style=\"text-align: right;\">\n",
              "      <th></th>\n",
              "      <th>Unnamed: 0</th>\n",
              "      <th>Unnamed: 0.1</th>\n",
              "      <th>loan_status</th>\n",
              "      <th>Principal</th>\n",
              "      <th>terms</th>\n",
              "      <th>effective_date</th>\n",
              "      <th>due_date</th>\n",
              "      <th>age</th>\n",
              "      <th>education</th>\n",
              "      <th>Gender</th>\n",
              "    </tr>\n",
              "  </thead>\n",
              "  <tbody>\n",
              "    <tr>\n",
              "      <th>0</th>\n",
              "      <td>0</td>\n",
              "      <td>0</td>\n",
              "      <td>PAIDOFF</td>\n",
              "      <td>1000</td>\n",
              "      <td>30</td>\n",
              "      <td>2016-09-08</td>\n",
              "      <td>2016-10-07</td>\n",
              "      <td>45</td>\n",
              "      <td>High School or Below</td>\n",
              "      <td>male</td>\n",
              "    </tr>\n",
              "    <tr>\n",
              "      <th>1</th>\n",
              "      <td>2</td>\n",
              "      <td>2</td>\n",
              "      <td>PAIDOFF</td>\n",
              "      <td>1000</td>\n",
              "      <td>30</td>\n",
              "      <td>2016-09-08</td>\n",
              "      <td>2016-10-07</td>\n",
              "      <td>33</td>\n",
              "      <td>Bechalor</td>\n",
              "      <td>female</td>\n",
              "    </tr>\n",
              "    <tr>\n",
              "      <th>2</th>\n",
              "      <td>3</td>\n",
              "      <td>3</td>\n",
              "      <td>PAIDOFF</td>\n",
              "      <td>1000</td>\n",
              "      <td>15</td>\n",
              "      <td>2016-09-08</td>\n",
              "      <td>2016-09-22</td>\n",
              "      <td>27</td>\n",
              "      <td>college</td>\n",
              "      <td>male</td>\n",
              "    </tr>\n",
              "    <tr>\n",
              "      <th>3</th>\n",
              "      <td>4</td>\n",
              "      <td>4</td>\n",
              "      <td>PAIDOFF</td>\n",
              "      <td>1000</td>\n",
              "      <td>30</td>\n",
              "      <td>2016-09-09</td>\n",
              "      <td>2016-10-08</td>\n",
              "      <td>28</td>\n",
              "      <td>college</td>\n",
              "      <td>female</td>\n",
              "    </tr>\n",
              "    <tr>\n",
              "      <th>4</th>\n",
              "      <td>6</td>\n",
              "      <td>6</td>\n",
              "      <td>PAIDOFF</td>\n",
              "      <td>1000</td>\n",
              "      <td>30</td>\n",
              "      <td>2016-09-09</td>\n",
              "      <td>2016-10-08</td>\n",
              "      <td>29</td>\n",
              "      <td>college</td>\n",
              "      <td>male</td>\n",
              "    </tr>\n",
              "  </tbody>\n",
              "</table>\n",
              "</div>"
            ],
            "text/plain": [
              "   Unnamed: 0  Unnamed: 0.1 loan_status  ...  age             education  Gender\n",
              "0           0             0     PAIDOFF  ...   45  High School or Below    male\n",
              "1           2             2     PAIDOFF  ...   33              Bechalor  female\n",
              "2           3             3     PAIDOFF  ...   27               college    male\n",
              "3           4             4     PAIDOFF  ...   28               college  female\n",
              "4           6             6     PAIDOFF  ...   29               college    male\n",
              "\n",
              "[5 rows x 10 columns]"
            ]
          },
          "metadata": {
            "tags": []
          },
          "execution_count": 81
        }
      ]
    },
    {
      "cell_type": "markdown",
      "metadata": {
        "id": "XKzYXvHtIZ7-"
      },
      "source": [
        "# Data visualization and preprocessing"
      ]
    },
    {
      "cell_type": "code",
      "metadata": {
        "id": "6-9nOfTvIQA0",
        "outputId": "0a9a7777-c4de-4b82-f431-c3bfdd9a4f46",
        "colab": {
          "base_uri": "https://localhost:8080/",
          "height": 67
        }
      },
      "source": [
        "df['loan_status'].value_counts()"
      ],
      "execution_count": 82,
      "outputs": [
        {
          "output_type": "execute_result",
          "data": {
            "text/plain": [
              "PAIDOFF       260\n",
              "COLLECTION     86\n",
              "Name: loan_status, dtype: int64"
            ]
          },
          "metadata": {
            "tags": []
          },
          "execution_count": 82
        }
      ]
    },
    {
      "cell_type": "markdown",
      "metadata": {
        "id": "S8D4d4NxImeo"
      },
      "source": [
        "260 people have paid off the loan on time while 86 have gone into collection \n"
      ]
    },
    {
      "cell_type": "code",
      "metadata": {
        "id": "o9-E1Io1Ik3s",
        "outputId": "0e27359d-b46c-4bf7-d989-a7966bd56cea",
        "colab": {
          "base_uri": "https://localhost:8080/",
          "height": 225
        }
      },
      "source": [
        "import seaborn as sns\n",
        "\n",
        "bins = np.linspace(df.Principal.min(), df.Principal.max(), 10)\n",
        "g = sns.FacetGrid(df, col=\"Gender\", hue=\"loan_status\", palette=\"Set1\", col_wrap=2)\n",
        "g.map(plt.hist, 'Principal', bins=bins, ec=\"k\")\n",
        "\n",
        "g.axes[-1].legend()\n",
        "plt.show()"
      ],
      "execution_count": 83,
      "outputs": [
        {
          "output_type": "display_data",
          "data": {
            "image/png": "[encoded data removed]",
            "text/plain": [
              "<Figure size 432x216 with 2 Axes>"
            ]
          },
          "metadata": {
            "tags": [],
            "needs_background": "light"
          }
        }
      ]
    },
    {
      "cell_type": "code",
      "metadata": {
        "id": "iULtkz1AIxEm",
        "outputId": "89c14fe1-9e9e-4b49-b4ed-3ffa01cff49a",
        "colab": {
          "base_uri": "https://localhost:8080/",
          "height": 225
        }
      },
      "source": [
        "bins = np.linspace(df.age.min(), df.age.max(), 10)\n",
        "g = sns.FacetGrid(df, col=\"Gender\", hue=\"loan_status\", palette=\"Set1\", col_wrap=2)\n",
        "g.map(plt.hist, 'age', bins=bins, ec=\"k\")\n",
        "\n",
        "g.axes[-1].legend()\n",
        "plt.show()"
      ],
      "execution_count": 84,
      "outputs": [
        {
          "output_type": "display_data",
          "data": {
            "image/png": "[encoded data removed]",
            "text/plain": [
              "<Figure size 432x216 with 2 Axes>"
            ]
          },
          "metadata": {
            "tags": [],
            "needs_background": "light"
          }
        }
      ]
    },
    {
      "cell_type": "code",
      "metadata": {
        "id": "YqdSr0iJI2st",
        "outputId": "7dece9f3-da17-49c0-9a4f-7662f2e025fa",
        "colab": {
          "base_uri": "https://localhost:8080/",
          "height": 225
        }
      },
      "source": [
        "df['dayofweek'] = df['effective_date'].dt.dayofweek\n",
        "bins = np.linspace(df.dayofweek.min(), df.dayofweek.max(), 10)\n",
        "g = sns.FacetGrid(df, col=\"Gender\", hue=\"loan_status\", palette=\"Set1\", col_wrap=2)\n",
        "g.map(plt.hist, 'dayofweek', bins=bins, ec=\"k\")\n",
        "g.axes[-1].legend()\n",
        "plt.show()"
      ],
      "execution_count": 85,
      "outputs": [
        {
          "output_type": "display_data",
          "data": {
            "image/png": "[encoded data removed]",
            "text/plain": [
              "<Figure size 432x216 with 2 Axes>"
            ]
          },
          "metadata": {
            "tags": [],
            "needs_background": "light"
          }
        }
      ]
    },
    {
      "cell_type": "markdown",
      "metadata": {
        "id": "LjqS1542JXcv"
      },
      "source": [
        "We see that people who get the loan at the end of the week dont pay it off, so lets use Feature binarization to set a threshold values less then day 4"
      ]
    },
    {
      "cell_type": "markdown",
      "metadata": {
        "id": "yNtLDyALJJ0j"
      },
      "source": [
        "# preprocessing and feature selection"
      ]
    },
    {
      "cell_type": "code",
      "metadata": {
        "id": "7qkmqLwIJBhb",
        "outputId": "46cdee7a-41ff-4e29-86e5-6133c3509a9a",
        "colab": {
          "base_uri": "https://localhost:8080/",
          "height": 195
        }
      },
      "source": [
        "df['weekend'] = df['dayofweek'].apply(lambda x: 1 if (x>3)  else 0)\n",
        "df.head()"
      ],
      "execution_count": 86,
      "outputs": [
        {
          "output_type": "execute_result",
          "data": {
            "text/html": [
              "<div>\n",
              "<style scoped>\n",
              "    .dataframe tbody tr th:only-of-type {\n",
              "        vertical-align: middle;\n",
              "    }\n",
              "\n",
              "    .dataframe tbody tr th {\n",
              "        vertical-align: top;\n",
              "    }\n",
              "\n",
              "    .dataframe thead th {\n",
              "        text-align: right;\n",
              "    }\n",
              "</style>\n",
              "<table border=\"1\" class=\"dataframe\">\n",
              "  <thead>\n",
              "    <tr style=\"text-align: right;\">\n",
              "      <th></th>\n",
              "      <th>Unnamed: 0</th>\n",
              "      <th>Unnamed: 0.1</th>\n",
              "      <th>loan_status</th>\n",
              "      <th>Principal</th>\n",
              "      <th>terms</th>\n",
              "      <th>effective_date</th>\n",
              "      <th>due_date</th>\n",
              "      <th>age</th>\n",
              "      <th>education</th>\n",
              "      <th>Gender</th>\n",
              "      <th>dayofweek</th>\n",
              "      <th>weekend</th>\n",
              "    </tr>\n",
              "  </thead>\n",
              "  <tbody>\n",
              "    <tr>\n",
              "      <th>0</th>\n",
              "      <td>0</td>\n",
              "      <td>0</td>\n",
              "      <td>PAIDOFF</td>\n",
              "      <td>1000</td>\n",
              "      <td>30</td>\n",
              "      <td>2016-09-08</td>\n",
              "      <td>2016-10-07</td>\n",
              "      <td>45</td>\n",
              "      <td>High School or Below</td>\n",
              "      <td>male</td>\n",
              "      <td>3</td>\n",
              "      <td>0</td>\n",
              "    </tr>\n",
              "    <tr>\n",
              "      <th>1</th>\n",
              "      <td>2</td>\n",
              "      <td>2</td>\n",
              "      <td>PAIDOFF</td>\n",
              "      <td>1000</td>\n",
              "      <td>30</td>\n",
              "      <td>2016-09-08</td>\n",
              "      <td>2016-10-07</td>\n",
              "      <td>33</td>\n",
              "      <td>Bechalor</td>\n",
              "      <td>female</td>\n",
              "      <td>3</td>\n",
              "      <td>0</td>\n",
              "    </tr>\n",
              "    <tr>\n",
              "      <th>2</th>\n",
              "      <td>3</td>\n",
              "      <td>3</td>\n",
              "      <td>PAIDOFF</td>\n",
              "      <td>1000</td>\n",
              "      <td>15</td>\n",
              "      <td>2016-09-08</td>\n",
              "      <td>2016-09-22</td>\n",
              "      <td>27</td>\n",
              "      <td>college</td>\n",
              "      <td>male</td>\n",
              "      <td>3</td>\n",
              "      <td>0</td>\n",
              "    </tr>\n",
              "    <tr>\n",
              "      <th>3</th>\n",
              "      <td>4</td>\n",
              "      <td>4</td>\n",
              "      <td>PAIDOFF</td>\n",
              "      <td>1000</td>\n",
              "      <td>30</td>\n",
              "      <td>2016-09-09</td>\n",
              "      <td>2016-10-08</td>\n",
              "      <td>28</td>\n",
              "      <td>college</td>\n",
              "      <td>female</td>\n",
              "      <td>4</td>\n",
              "      <td>1</td>\n",
              "    </tr>\n",
              "    <tr>\n",
              "      <th>4</th>\n",
              "      <td>6</td>\n",
              "      <td>6</td>\n",
              "      <td>PAIDOFF</td>\n",
              "      <td>1000</td>\n",
              "      <td>30</td>\n",
              "      <td>2016-09-09</td>\n",
              "      <td>2016-10-08</td>\n",
              "      <td>29</td>\n",
              "      <td>college</td>\n",
              "      <td>male</td>\n",
              "      <td>4</td>\n",
              "      <td>1</td>\n",
              "    </tr>\n",
              "  </tbody>\n",
              "</table>\n",
              "</div>"
            ],
            "text/plain": [
              "   Unnamed: 0  Unnamed: 0.1 loan_status  ...  Gender  dayofweek weekend\n",
              "0           0             0     PAIDOFF  ...    male          3       0\n",
              "1           2             2     PAIDOFF  ...  female          3       0\n",
              "2           3             3     PAIDOFF  ...    male          3       0\n",
              "3           4             4     PAIDOFF  ...  female          4       1\n",
              "4           6             6     PAIDOFF  ...    male          4       1\n",
              "\n",
              "[5 rows x 12 columns]"
            ]
          },
          "metadata": {
            "tags": []
          },
          "execution_count": 86
        }
      ]
    },
    {
      "cell_type": "markdown",
      "metadata": {
        "id": "0fbtzb1mJhuF"
      },
      "source": [
        "# convert categorical features to numerical values"
      ]
    },
    {
      "cell_type": "code",
      "metadata": {
        "id": "L_UQAvOEJNaF",
        "outputId": "ca2103ec-9d50-47ae-a8dc-8d055f1a3567",
        "colab": {
          "base_uri": "https://localhost:8080/",
          "height": 118
        }
      },
      "source": [
        "# lets look at the gender\n",
        "df.groupby(['Gender'])['loan_status'].value_counts(normalize=True)"
      ],
      "execution_count": 87,
      "outputs": [
        {
          "output_type": "execute_result",
          "data": {
            "text/plain": [
              "Gender  loan_status\n",
              "female  PAIDOFF        0.865385\n",
              "        COLLECTION     0.134615\n",
              "male    PAIDOFF        0.731293\n",
              "        COLLECTION     0.268707\n",
              "Name: loan_status, dtype: float64"
            ]
          },
          "metadata": {
            "tags": []
          },
          "execution_count": 87
        }
      ]
    },
    {
      "cell_type": "markdown",
      "metadata": {
        "id": "Uua9EbFVJ1G1"
      },
      "source": [
        "86 % of female pay there loans while only 73 % of males pay there loan"
      ]
    },
    {
      "cell_type": "code",
      "metadata": {
        "id": "nqeG9ojTJvgc",
        "outputId": "9f724e62-bd42-4c7f-e33f-b26506ac8edf",
        "colab": {
          "base_uri": "https://localhost:8080/",
          "height": 195
        }
      },
      "source": [
        "# lets convert male to 0 and female to 1\n",
        "df['Gender'].replace(to_replace=['male','female'], value=[0,1],inplace=True)\n",
        "df.head()"
      ],
      "execution_count": 88,
      "outputs": [
        {
          "output_type": "execute_result",
          "data": {
            "text/html": [
              "<div>\n",
              "<style scoped>\n",
              "    .dataframe tbody tr th:only-of-type {\n",
              "        vertical-align: middle;\n",
              "    }\n",
              "\n",
              "    .dataframe tbody tr th {\n",
              "        vertical-align: top;\n",
              "    }\n",
              "\n",
              "    .dataframe thead th {\n",
              "        text-align: right;\n",
              "    }\n",
              "</style>\n",
              "<table border=\"1\" class=\"dataframe\">\n",
              "  <thead>\n",
              "    <tr style=\"text-align: right;\">\n",
              "      <th></th>\n",
              "      <th>Unnamed: 0</th>\n",
              "      <th>Unnamed: 0.1</th>\n",
              "      <th>loan_status</th>\n",
              "      <th>Principal</th>\n",
              "      <th>terms</th>\n",
              "      <th>effective_date</th>\n",
              "      <th>due_date</th>\n",
              "      <th>age</th>\n",
              "      <th>education</th>\n",
              "      <th>Gender</th>\n",
              "      <th>dayofweek</th>\n",
              "      <th>weekend</th>\n",
              "    </tr>\n",
              "  </thead>\n",
              "  <tbody>\n",
              "    <tr>\n",
              "      <th>0</th>\n",
              "      <td>0</td>\n",
              "      <td>0</td>\n",
              "      <td>PAIDOFF</td>\n",
              "      <td>1000</td>\n",
              "      <td>30</td>\n",
              "      <td>2016-09-08</td>\n",
              "      <td>2016-10-07</td>\n",
              "      <td>45</td>\n",
              "      <td>High School or Below</td>\n",
              "      <td>0</td>\n",
              "      <td>3</td>\n",
              "      <td>0</td>\n",
              "    </tr>\n",
              "    <tr>\n",
              "      <th>1</th>\n",
              "      <td>2</td>\n",
              "      <td>2</td>\n",
              "      <td>PAIDOFF</td>\n",
              "      <td>1000</td>\n",
              "      <td>30</td>\n",
              "      <td>2016-09-08</td>\n",
              "      <td>2016-10-07</td>\n",
              "      <td>33</td>\n",
              "      <td>Bechalor</td>\n",
              "      <td>1</td>\n",
              "      <td>3</td>\n",
              "      <td>0</td>\n",
              "    </tr>\n",
              "    <tr>\n",
              "      <th>2</th>\n",
              "      <td>3</td>\n",
              "      <td>3</td>\n",
              "      <td>PAIDOFF</td>\n",
              "      <td>1000</td>\n",
              "      <td>15</td>\n",
              "      <td>2016-09-08</td>\n",
              "      <td>2016-09-22</td>\n",
              "      <td>27</td>\n",
              "      <td>college</td>\n",
              "      <td>0</td>\n",
              "      <td>3</td>\n",
              "      <td>0</td>\n",
              "    </tr>\n",
              "    <tr>\n",
              "      <th>3</th>\n",
              "      <td>4</td>\n",
              "      <td>4</td>\n",
              "      <td>PAIDOFF</td>\n",
              "      <td>1000</td>\n",
              "      <td>30</td>\n",
              "      <td>2016-09-09</td>\n",
              "      <td>2016-10-08</td>\n",
              "      <td>28</td>\n",
              "      <td>college</td>\n",
              "      <td>1</td>\n",
              "      <td>4</td>\n",
              "      <td>1</td>\n",
              "    </tr>\n",
              "    <tr>\n",
              "      <th>4</th>\n",
              "      <td>6</td>\n",
              "      <td>6</td>\n",
              "      <td>PAIDOFF</td>\n",
              "      <td>1000</td>\n",
              "      <td>30</td>\n",
              "      <td>2016-09-09</td>\n",
              "      <td>2016-10-08</td>\n",
              "      <td>29</td>\n",
              "      <td>college</td>\n",
              "      <td>0</td>\n",
              "      <td>4</td>\n",
              "      <td>1</td>\n",
              "    </tr>\n",
              "  </tbody>\n",
              "</table>\n",
              "</div>"
            ],
            "text/plain": [
              "   Unnamed: 0  Unnamed: 0.1 loan_status  ...  Gender  dayofweek weekend\n",
              "0           0             0     PAIDOFF  ...       0          3       0\n",
              "1           2             2     PAIDOFF  ...       1          3       0\n",
              "2           3             3     PAIDOFF  ...       0          3       0\n",
              "3           4             4     PAIDOFF  ...       1          4       1\n",
              "4           6             6     PAIDOFF  ...       0          4       1\n",
              "\n",
              "[5 rows x 12 columns]"
            ]
          },
          "metadata": {
            "tags": []
          },
          "execution_count": 88
        }
      ]
    },
    {
      "cell_type": "code",
      "metadata": {
        "id": "DzERrMPaJ-z7",
        "outputId": "a425eb04-2087-4d11-8608-4fa0b4916ba8",
        "colab": {
          "base_uri": "https://localhost:8080/",
          "height": 185
        }
      },
      "source": [
        "# Education\n",
        "df.groupby(['education'])['loan_status'].value_counts(normalize=True)"
      ],
      "execution_count": 89,
      "outputs": [
        {
          "output_type": "execute_result",
          "data": {
            "text/plain": [
              "education             loan_status\n",
              "Bechalor              PAIDOFF        0.750000\n",
              "                      COLLECTION     0.250000\n",
              "High School or Below  PAIDOFF        0.741722\n",
              "                      COLLECTION     0.258278\n",
              "Master or Above       COLLECTION     0.500000\n",
              "                      PAIDOFF        0.500000\n",
              "college               PAIDOFF        0.765101\n",
              "                      COLLECTION     0.234899\n",
              "Name: loan_status, dtype: float64"
            ]
          },
          "metadata": {
            "tags": []
          },
          "execution_count": 89
        }
      ]
    },
    {
      "cell_type": "code",
      "metadata": {
        "id": "3-QwE6U0KL5q",
        "outputId": "6540ce3f-3241-44d7-ecc9-8c82048ea753",
        "colab": {
          "base_uri": "https://localhost:8080/",
          "height": 195
        }
      },
      "source": [
        "# Important features before one hot encoding\n",
        "df[['Principal','terms','age','Gender','education']].head()"
      ],
      "execution_count": 90,
      "outputs": [
        {
          "output_type": "execute_result",
          "data": {
            "text/html": [
              "<div>\n",
              "<style scoped>\n",
              "    .dataframe tbody tr th:only-of-type {\n",
              "        vertical-align: middle;\n",
              "    }\n",
              "\n",
              "    .dataframe tbody tr th {\n",
              "        vertical-align: top;\n",
              "    }\n",
              "\n",
              "    .dataframe thead th {\n",
              "        text-align: right;\n",
              "    }\n",
              "</style>\n",
              "<table border=\"1\" class=\"dataframe\">\n",
              "  <thead>\n",
              "    <tr style=\"text-align: right;\">\n",
              "      <th></th>\n",
              "      <th>Principal</th>\n",
              "      <th>terms</th>\n",
              "      <th>age</th>\n",
              "      <th>Gender</th>\n",
              "      <th>education</th>\n",
              "    </tr>\n",
              "  </thead>\n",
              "  <tbody>\n",
              "    <tr>\n",
              "      <th>0</th>\n",
              "      <td>1000</td>\n",
              "      <td>30</td>\n",
              "      <td>45</td>\n",
              "      <td>0</td>\n",
              "      <td>High School or Below</td>\n",
              "    </tr>\n",
              "    <tr>\n",
              "      <th>1</th>\n",
              "      <td>1000</td>\n",
              "      <td>30</td>\n",
              "      <td>33</td>\n",
              "      <td>1</td>\n",
              "      <td>Bechalor</td>\n",
              "    </tr>\n",
              "    <tr>\n",
              "      <th>2</th>\n",
              "      <td>1000</td>\n",
              "      <td>15</td>\n",
              "      <td>27</td>\n",
              "      <td>0</td>\n",
              "      <td>college</td>\n",
              "    </tr>\n",
              "    <tr>\n",
              "      <th>3</th>\n",
              "      <td>1000</td>\n",
              "      <td>30</td>\n",
              "      <td>28</td>\n",
              "      <td>1</td>\n",
              "      <td>college</td>\n",
              "    </tr>\n",
              "    <tr>\n",
              "      <th>4</th>\n",
              "      <td>1000</td>\n",
              "      <td>30</td>\n",
              "      <td>29</td>\n",
              "      <td>0</td>\n",
              "      <td>college</td>\n",
              "    </tr>\n",
              "  </tbody>\n",
              "</table>\n",
              "</div>"
            ],
            "text/plain": [
              "   Principal  terms  age  Gender             education\n",
              "0       1000     30   45       0  High School or Below\n",
              "1       1000     30   33       1              Bechalor\n",
              "2       1000     15   27       0               college\n",
              "3       1000     30   28       1               college\n",
              "4       1000     30   29       0               college"
            ]
          },
          "metadata": {
            "tags": []
          },
          "execution_count": 90
        }
      ]
    },
    {
      "cell_type": "code",
      "metadata": {
        "id": "V-2YkY2QKa2I",
        "outputId": "453dd6be-7ec7-4158-da40-f4445c4b314b",
        "colab": {
          "base_uri": "https://localhost:8080/",
          "height": 195
        }
      },
      "source": [
        "# Use one hot encoding technique to conver categorical varables to binary variables and append them to the feature Data Frame\n",
        "Feature = df[['Principal','terms','age','Gender','weekend']]\n",
        "Feature = pd.concat([Feature,pd.get_dummies(df['education'])], axis=1)\n",
        "Feature.drop(['Master or Above'], axis = 1,inplace=True)\n",
        "Feature.head()"
      ],
      "execution_count": 91,
      "outputs": [
        {
          "output_type": "execute_result",
          "data": {
            "text/html": [
              "<div>\n",
              "<style scoped>\n",
              "    .dataframe tbody tr th:only-of-type {\n",
              "        vertical-align: middle;\n",
              "    }\n",
              "\n",
              "    .dataframe tbody tr th {\n",
              "        vertical-align: top;\n",
              "    }\n",
              "\n",
              "    .dataframe thead th {\n",
              "        text-align: right;\n",
              "    }\n",
              "</style>\n",
              "<table border=\"1\" class=\"dataframe\">\n",
              "  <thead>\n",
              "    <tr style=\"text-align: right;\">\n",
              "      <th></th>\n",
              "      <th>Principal</th>\n",
              "      <th>terms</th>\n",
              "      <th>age</th>\n",
              "      <th>Gender</th>\n",
              "      <th>weekend</th>\n",
              "      <th>Bechalor</th>\n",
              "      <th>High School or Below</th>\n",
              "      <th>college</th>\n",
              "    </tr>\n",
              "  </thead>\n",
              "  <tbody>\n",
              "    <tr>\n",
              "      <th>0</th>\n",
              "      <td>1000</td>\n",
              "      <td>30</td>\n",
              "      <td>45</td>\n",
              "      <td>0</td>\n",
              "      <td>0</td>\n",
              "      <td>0</td>\n",
              "      <td>1</td>\n",
              "      <td>0</td>\n",
              "    </tr>\n",
              "    <tr>\n",
              "      <th>1</th>\n",
              "      <td>1000</td>\n",
              "      <td>30</td>\n",
              "      <td>33</td>\n",
              "      <td>1</td>\n",
              "      <td>0</td>\n",
              "      <td>1</td>\n",
              "      <td>0</td>\n",
              "      <td>0</td>\n",
              "    </tr>\n",
              "    <tr>\n",
              "      <th>2</th>\n",
              "      <td>1000</td>\n",
              "      <td>15</td>\n",
              "      <td>27</td>\n",
              "      <td>0</td>\n",
              "      <td>0</td>\n",
              "      <td>0</td>\n",
              "      <td>0</td>\n",
              "      <td>1</td>\n",
              "    </tr>\n",
              "    <tr>\n",
              "      <th>3</th>\n",
              "      <td>1000</td>\n",
              "      <td>30</td>\n",
              "      <td>28</td>\n",
              "      <td>1</td>\n",
              "      <td>1</td>\n",
              "      <td>0</td>\n",
              "      <td>0</td>\n",
              "      <td>1</td>\n",
              "    </tr>\n",
              "    <tr>\n",
              "      <th>4</th>\n",
              "      <td>1000</td>\n",
              "      <td>30</td>\n",
              "      <td>29</td>\n",
              "      <td>0</td>\n",
              "      <td>1</td>\n",
              "      <td>0</td>\n",
              "      <td>0</td>\n",
              "      <td>1</td>\n",
              "    </tr>\n",
              "  </tbody>\n",
              "</table>\n",
              "</div>"
            ],
            "text/plain": [
              "   Principal  terms  age  ...  Bechalor  High School or Below  college\n",
              "0       1000     30   45  ...         0                     1        0\n",
              "1       1000     30   33  ...         1                     0        0\n",
              "2       1000     15   27  ...         0                     0        1\n",
              "3       1000     30   28  ...         0                     0        1\n",
              "4       1000     30   29  ...         0                     0        1\n",
              "\n",
              "[5 rows x 8 columns]"
            ]
          },
          "metadata": {
            "tags": []
          },
          "execution_count": 91
        }
      ]
    },
    {
      "cell_type": "code",
      "metadata": {
        "id": "OZIyNG9DKmx4",
        "outputId": "4b934fa7-cbc1-4715-f805-fe8bce286a9f",
        "colab": {
          "base_uri": "https://localhost:8080/",
          "height": 195
        }
      },
      "source": [
        "# Select features and labels\n",
        "X = Feature\n",
        "X[0:5]"
      ],
      "execution_count": 92,
      "outputs": [
        {
          "output_type": "execute_result",
          "data": {
            "text/html": [
              "<div>\n",
              "<style scoped>\n",
              "    .dataframe tbody tr th:only-of-type {\n",
              "        vertical-align: middle;\n",
              "    }\n",
              "\n",
              "    .dataframe tbody tr th {\n",
              "        vertical-align: top;\n",
              "    }\n",
              "\n",
              "    .dataframe thead th {\n",
              "        text-align: right;\n",
              "    }\n",
              "</style>\n",
              "<table border=\"1\" class=\"dataframe\">\n",
              "  <thead>\n",
              "    <tr style=\"text-align: right;\">\n",
              "      <th></th>\n",
              "      <th>Principal</th>\n",
              "      <th>terms</th>\n",
              "      <th>age</th>\n",
              "      <th>Gender</th>\n",
              "      <th>weekend</th>\n",
              "      <th>Bechalor</th>\n",
              "      <th>High School or Below</th>\n",
              "      <th>college</th>\n",
              "    </tr>\n",
              "  </thead>\n",
              "  <tbody>\n",
              "    <tr>\n",
              "      <th>0</th>\n",
              "      <td>1000</td>\n",
              "      <td>30</td>\n",
              "      <td>45</td>\n",
              "      <td>0</td>\n",
              "      <td>0</td>\n",
              "      <td>0</td>\n",
              "      <td>1</td>\n",
              "      <td>0</td>\n",
              "    </tr>\n",
              "    <tr>\n",
              "      <th>1</th>\n",
              "      <td>1000</td>\n",
              "      <td>30</td>\n",
              "      <td>33</td>\n",
              "      <td>1</td>\n",
              "      <td>0</td>\n",
              "      <td>1</td>\n",
              "      <td>0</td>\n",
              "      <td>0</td>\n",
              "    </tr>\n",
              "    <tr>\n",
              "      <th>2</th>\n",
              "      <td>1000</td>\n",
              "      <td>15</td>\n",
              "      <td>27</td>\n",
              "      <td>0</td>\n",
              "      <td>0</td>\n",
              "      <td>0</td>\n",
              "      <td>0</td>\n",
              "      <td>1</td>\n",
              "    </tr>\n",
              "    <tr>\n",
              "      <th>3</th>\n",
              "      <td>1000</td>\n",
              "      <td>30</td>\n",
              "      <td>28</td>\n",
              "      <td>1</td>\n",
              "      <td>1</td>\n",
              "      <td>0</td>\n",
              "      <td>0</td>\n",
              "      <td>1</td>\n",
              "    </tr>\n",
              "    <tr>\n",
              "      <th>4</th>\n",
              "      <td>1000</td>\n",
              "      <td>30</td>\n",
              "      <td>29</td>\n",
              "      <td>0</td>\n",
              "      <td>1</td>\n",
              "      <td>0</td>\n",
              "      <td>0</td>\n",
              "      <td>1</td>\n",
              "    </tr>\n",
              "  </tbody>\n",
              "</table>\n",
              "</div>"
            ],
            "text/plain": [
              "   Principal  terms  age  ...  Bechalor  High School or Below  college\n",
              "0       1000     30   45  ...         0                     1        0\n",
              "1       1000     30   33  ...         1                     0        0\n",
              "2       1000     15   27  ...         0                     0        1\n",
              "3       1000     30   28  ...         0                     0        1\n",
              "4       1000     30   29  ...         0                     0        1\n",
              "\n",
              "[5 rows x 8 columns]"
            ]
          },
          "metadata": {
            "tags": []
          },
          "execution_count": 92
        }
      ]
    },
    {
      "cell_type": "code",
      "metadata": {
        "id": "pPkpeslFK1gP",
        "outputId": "b457dda6-4e05-479e-b92f-71b9a9d5b93f",
        "colab": {
          "base_uri": "https://localhost:8080/",
          "height": 195
        }
      },
      "source": [
        "df['loan_status'].replace(to_replace=['PAIDOFF','COLLECTION'], value=[0,1],inplace=True)\n",
        "df.head()"
      ],
      "execution_count": 93,
      "outputs": [
        {
          "output_type": "execute_result",
          "data": {
            "text/html": [
              "<div>\n",
              "<style scoped>\n",
              "    .dataframe tbody tr th:only-of-type {\n",
              "        vertical-align: middle;\n",
              "    }\n",
              "\n",
              "    .dataframe tbody tr th {\n",
              "        vertical-align: top;\n",
              "    }\n",
              "\n",
              "    .dataframe thead th {\n",
              "        text-align: right;\n",
              "    }\n",
              "</style>\n",
              "<table border=\"1\" class=\"dataframe\">\n",
              "  <thead>\n",
              "    <tr style=\"text-align: right;\">\n",
              "      <th></th>\n",
              "      <th>Unnamed: 0</th>\n",
              "      <th>Unnamed: 0.1</th>\n",
              "      <th>loan_status</th>\n",
              "      <th>Principal</th>\n",
              "      <th>terms</th>\n",
              "      <th>effective_date</th>\n",
              "      <th>due_date</th>\n",
              "      <th>age</th>\n",
              "      <th>education</th>\n",
              "      <th>Gender</th>\n",
              "      <th>dayofweek</th>\n",
              "      <th>weekend</th>\n",
              "    </tr>\n",
              "  </thead>\n",
              "  <tbody>\n",
              "    <tr>\n",
              "      <th>0</th>\n",
              "      <td>0</td>\n",
              "      <td>0</td>\n",
              "      <td>0</td>\n",
              "      <td>1000</td>\n",
              "      <td>30</td>\n",
              "      <td>2016-09-08</td>\n",
              "      <td>2016-10-07</td>\n",
              "      <td>45</td>\n",
              "      <td>High School or Below</td>\n",
              "      <td>0</td>\n",
              "      <td>3</td>\n",
              "      <td>0</td>\n",
              "    </tr>\n",
              "    <tr>\n",
              "      <th>1</th>\n",
              "      <td>2</td>\n",
              "      <td>2</td>\n",
              "      <td>0</td>\n",
              "      <td>1000</td>\n",
              "      <td>30</td>\n",
              "      <td>2016-09-08</td>\n",
              "      <td>2016-10-07</td>\n",
              "      <td>33</td>\n",
              "      <td>Bechalor</td>\n",
              "      <td>1</td>\n",
              "      <td>3</td>\n",
              "      <td>0</td>\n",
              "    </tr>\n",
              "    <tr>\n",
              "      <th>2</th>\n",
              "      <td>3</td>\n",
              "      <td>3</td>\n",
              "      <td>0</td>\n",
              "      <td>1000</td>\n",
              "      <td>15</td>\n",
              "      <td>2016-09-08</td>\n",
              "      <td>2016-09-22</td>\n",
              "      <td>27</td>\n",
              "      <td>college</td>\n",
              "      <td>0</td>\n",
              "      <td>3</td>\n",
              "      <td>0</td>\n",
              "    </tr>\n",
              "    <tr>\n",
              "      <th>3</th>\n",
              "      <td>4</td>\n",
              "      <td>4</td>\n",
              "      <td>0</td>\n",
              "      <td>1000</td>\n",
              "      <td>30</td>\n",
              "      <td>2016-09-09</td>\n",
              "      <td>2016-10-08</td>\n",
              "      <td>28</td>\n",
              "      <td>college</td>\n",
              "      <td>1</td>\n",
              "      <td>4</td>\n",
              "      <td>1</td>\n",
              "    </tr>\n",
              "    <tr>\n",
              "      <th>4</th>\n",
              "      <td>6</td>\n",
              "      <td>6</td>\n",
              "      <td>0</td>\n",
              "      <td>1000</td>\n",
              "      <td>30</td>\n",
              "      <td>2016-09-09</td>\n",
              "      <td>2016-10-08</td>\n",
              "      <td>29</td>\n",
              "      <td>college</td>\n",
              "      <td>0</td>\n",
              "      <td>4</td>\n",
              "      <td>1</td>\n",
              "    </tr>\n",
              "  </tbody>\n",
              "</table>\n",
              "</div>"
            ],
            "text/plain": [
              "   Unnamed: 0  Unnamed: 0.1  loan_status  ...  Gender  dayofweek weekend\n",
              "0           0             0            0  ...       0          3       0\n",
              "1           2             2            0  ...       1          3       0\n",
              "2           3             3            0  ...       0          3       0\n",
              "3           4             4            0  ...       1          4       1\n",
              "4           6             6            0  ...       0          4       1\n",
              "\n",
              "[5 rows x 12 columns]"
            ]
          },
          "metadata": {
            "tags": []
          },
          "execution_count": 93
        }
      ]
    },
    {
      "cell_type": "code",
      "metadata": {
        "id": "7eDX7dF-K7Ji",
        "outputId": "c91a52c4-9ff7-4bde-e6f6-58e51a5ccb1a",
        "colab": {
          "base_uri": "https://localhost:8080/",
          "height": 34
        }
      },
      "source": [
        "# label\n",
        "y = df['loan_status'].values\n",
        "y[0:5]"
      ],
      "execution_count": 94,
      "outputs": [
        {
          "output_type": "execute_result",
          "data": {
            "text/plain": [
              "array([0, 0, 0, 0, 0])"
            ]
          },
          "metadata": {
            "tags": []
          },
          "execution_count": 94
        }
      ]
    },
    {
      "cell_type": "markdown",
      "metadata": {
        "id": "87Vp2r2NLE1I"
      },
      "source": [
        "# Normalize data"
      ]
    },
    {
      "cell_type": "code",
      "metadata": {
        "id": "6ufejeXWK_KT",
        "outputId": "f8cf74cd-5ef1-4e74-9fb4-c051d28382f7",
        "colab": {
          "base_uri": "https://localhost:8080/",
          "height": 185
        }
      },
      "source": [
        "X= preprocessing.StandardScaler().fit(X).transform(X)\n",
        "X[0:5]"
      ],
      "execution_count": 95,
      "outputs": [
        {
          "output_type": "execute_result",
          "data": {
            "text/plain": [
              "array([[ 0.51578458,  0.92071769,  2.33152555, -0.42056004, -1.20577805,\n",
              "        -0.38170062,  1.13639374, -0.86968108],\n",
              "       [ 0.51578458,  0.92071769,  0.34170148,  2.37778177, -1.20577805,\n",
              "         2.61985426, -0.87997669, -0.86968108],\n",
              "       [ 0.51578458, -0.95911111, -0.65321055, -0.42056004, -1.20577805,\n",
              "        -0.38170062, -0.87997669,  1.14984679],\n",
              "       [ 0.51578458,  0.92071769, -0.48739188,  2.37778177,  0.82934003,\n",
              "        -0.38170062, -0.87997669,  1.14984679],\n",
              "       [ 0.51578458,  0.92071769, -0.3215732 , -0.42056004,  0.82934003,\n",
              "        -0.38170062, -0.87997669,  1.14984679]])"
            ]
          },
          "metadata": {
            "tags": []
          },
          "execution_count": 95
        }
      ]
    },
    {
      "cell_type": "markdown",
      "metadata": {
        "id": "HWxpswdZLO3-"
      },
      "source": [
        "# Classification algorithm\n",
        "\n",
        "Now, it is your turn, use the training set to build an accurate model. Then use the test set to report the accuracy of the model\n",
        "You should use the following algorithm:\n",
        "- K Nearest Neighbor(KNN)\n",
        "- Decision Tree\n",
        "- Support Vector Machine\n",
        "- Logistic Regression\n",
        "\n",
        "\n",
        "\n",
        "__ Notice:__ \n",
        "- You can go above and change the pre-processing, feature selection, feature-extraction, and so on, to make a better model.\n",
        "- You should use either scikit-learn, Scipy or Numpy libraries for developing the classification algorithms.\n",
        "- You should include the code of the algorithm in the following cells."
      ]
    },
    {
      "cell_type": "code",
      "metadata": {
        "id": "Zkd7gFuzMsls"
      },
      "source": [
        "from sklearn.metrics import jaccard_similarity_score\n",
        "from sklearn.metrics import f1_score\n",
        "from sklearn.metrics import log_loss\n",
        "from sklearn.model_selection import cross_val_score"
      ],
      "execution_count": 96,
      "outputs": []
    },
    {
      "cell_type": "markdown",
      "metadata": {
        "id": "JAF7ZfwdLd2l"
      },
      "source": [
        "# K Nearest Neighbor(KNN)\n",
        "Notice: You should find the best k to build the model with the best accuracy.  \n",
        "**warning:** You should not use the __loan_test.csv__ for finding the best k, however, you can split your train_loan.csv into train and test to find the best __k__."
      ]
    },
    {
      "cell_type": "code",
      "metadata": {
        "id": "NwpnhAnALGo7",
        "outputId": "18ff7eff-48ee-4ffc-ad70-b4fa3ebe3b40",
        "colab": {
          "base_uri": "https://localhost:8080/",
          "height": 50
        }
      },
      "source": [
        "from sklearn.model_selection import train_test_split\n",
        "X_train, X_test, y_train, y_test = train_test_split( X, y, test_size=0.2, random_state=4)\n",
        "print ('Train set:', X_train.shape,  y_train.shape)\n",
        "print ('Test set:', X_test.shape,  y_test.shape)"
      ],
      "execution_count": 97,
      "outputs": [
        {
          "output_type": "stream",
          "text": [
            "Train set: (276, 8) (276,)\n",
            "Test set: (70, 8) (70,)\n"
          ],
          "name": "stdout"
        }
      ]
    },
    {
      "cell_type": "code",
      "metadata": {
        "id": "4txugHpANLas",
        "outputId": "406db4fa-cec6-4a2a-f6d3-2218feb5ca83",
        "colab": {
          "base_uri": "https://localhost:8080/",
          "height": 34
        }
      },
      "source": [
        "from sklearn.neighbors import KNeighborsClassifier\n",
        "bestScore=0.0\n",
        "accList=[]\n",
        "for k in range(3,12):\n",
        "    clf_knn = KNeighborsClassifier(n_neighbors=k, algorithm='auto')\n",
        "    scores = cross_val_score(clf_knn,X,y,cv=10)\n",
        "    score=scores.mean()\n",
        "    accList.append(score)\n",
        "    if score>bestScore:\n",
        "      bestScore=score\n",
        "      best_clf=clf_knn\n",
        "      best_k=k\n",
        "print(\"Best k is :\", best_k, \"|cross validation accuracy\", bestScore)\n",
        "clf_knn=best_clf"
      ],
      "execution_count": 98,
      "outputs": [
        {
          "output_type": "stream",
          "text": [
            "Best k is : 7 |cross validation accuracy 0.7438655462184873\n"
          ],
          "name": "stdout"
        }
      ]
    },
    {
      "cell_type": "code",
      "metadata": {
        "id": "FddKXGBjQ5ga"
      },
      "source": [
        "clf_knn.fit(X_train,y_train)\n",
        "y_pred=best_clf.predict(X_train)"
      ],
      "execution_count": 99,
      "outputs": []
    },
    {
      "cell_type": "code",
      "metadata": {
        "id": "JsaNZzLGRqFN",
        "outputId": "eed8bab9-2958-4703-faa9-875cf57bff22",
        "colab": {
          "base_uri": "https://localhost:8080/",
          "height": 104
        }
      },
      "source": [
        "print(\"Knn jaccard score :\",jaccard_similarity_score( y_train, y_pred))\n",
        "print(\"Knn f1 score : \", f1_score(y_train, y_pred, average='weighted'))\n"
      ],
      "execution_count": 100,
      "outputs": [
        {
          "output_type": "stream",
          "text": [
            "Knn jaccard score : 0.8079710144927537\n",
            "Knn f1 score :  0.8000194668761034\n"
          ],
          "name": "stdout"
        },
        {
          "output_type": "stream",
          "text": [
            "/usr/local/lib/python3.6/dist-packages/sklearn/metrics/_classification.py:664: FutureWarning: jaccard_similarity_score has been deprecated and replaced with jaccard_score. It will be removed in version 0.23. This implementation has surprising behavior for binary and multiclass classification tasks.\n",
            "  FutureWarning)\n"
          ],
          "name": "stderr"
        }
      ]
    },
    {
      "cell_type": "code",
      "metadata": {
        "id": "ljckj5VuSp_s",
        "outputId": "a2e8739f-f3c4-45d0-b69e-3af335c3873d",
        "colab": {
          "base_uri": "https://localhost:8080/",
          "height": 280
        }
      },
      "source": [
        "plt.plot(range(3,12), accList)\n",
        "plt.xlabel(\"K\")\n",
        "plt.ylabel(\"CV Accuracy\")\n",
        "plt.show()"
      ],
      "execution_count": 101,
      "outputs": [
        {
          "output_type": "display_data",
          "data": {
            "image/png": "[encoded data removed]",
            "text/plain": [
              "<Figure size 432x288 with 1 Axes>"
            ]
          },
          "metadata": {
            "tags": [],
            "needs_background": "light"
          }
        }
      ]
    },
    {
      "cell_type": "markdown",
      "metadata": {
        "id": "mbUFOhBcUyw6"
      },
      "source": [
        "# Decision tree classifier"
      ]
    },
    {
      "cell_type": "code",
      "metadata": {
        "id": "QT0MvuBAUPLw"
      },
      "source": [
        "from sklearn import tree\n",
        "clf_tree= tree.DecisionTreeClassifier()\n",
        "clf_tree=clf_tree.fit(X_train, y_train)\n",
        "y_pred= clf_tree.predict(X_train)"
      ],
      "execution_count": 102,
      "outputs": []
    },
    {
      "cell_type": "code",
      "metadata": {
        "id": "NViWv_JeVjpa",
        "outputId": "3017c8ab-acce-42cf-fc33-1e9609a9617d",
        "colab": {
          "base_uri": "https://localhost:8080/",
          "height": 104
        }
      },
      "source": [
        "print(\"Clf_tree jaccard score :\",jaccard_similarity_score( y_train, y_pred))\n",
        "print(\"clf_tree f1 score : \", f1_score(y_train, y_pred, average='weighted'))"
      ],
      "execution_count": 103,
      "outputs": [
        {
          "output_type": "stream",
          "text": [
            "Clf_tree jaccard score : 0.9094202898550725\n",
            "clf_tree f1 score :  0.9062480827319584\n"
          ],
          "name": "stdout"
        },
        {
          "output_type": "stream",
          "text": [
            "/usr/local/lib/python3.6/dist-packages/sklearn/metrics/_classification.py:664: FutureWarning: jaccard_similarity_score has been deprecated and replaced with jaccard_score. It will be removed in version 0.23. This implementation has surprising behavior for binary and multiclass classification tasks.\n",
            "  FutureWarning)\n"
          ],
          "name": "stderr"
        }
      ]
    },
    {
      "cell_type": "code",
      "metadata": {
        "id": "2Z7LmgKJVtkL"
      },
      "source": [
        "import pydotplus\n",
        "import graphviz"
      ],
      "execution_count": 104,
      "outputs": []
    },
    {
      "cell_type": "code",
      "metadata": {
        "id": "L0WrN7OSWSG0",
        "outputId": "e3bf295e-e9d3-4820-a7ee-8aae56184921",
        "colab": {
          "base_uri": "https://localhost:8080/",
          "height": 1000
        }
      },
      "source": [
        "dot_data= tree.export_graphviz(clf_tree, out_file=None) \n",
        "graph1=graphviz.Source(dot_data)\n",
        "graph1"
      ],
      "execution_count": 105,
      "outputs": [
        {
          "output_type": "execute_result",
          "data": {
            "text/plain": [
              "<graphviz.files.Source at 0x7f3cebd26908>"
            ],
            "image/svg+xml": "<?xml version=\"1.0\" encoding=\"UTF-8\" standalone=\"no\"?>\n<!DOCTYPE svg PUBLIC \"-//W3C//DTD SVG 1.1//EN\"\n \"http://www.w3.org/Graphics/SVG/1.1/DTD/svg11.dtd\">\n<!-- Generated by graphviz version 2.40.1 (20161225.0304)\n -->\n<!-- Title: Tree Pages: 1 -->\n<svg width=\"2892pt\" height=\"1829pt\"\n viewBox=\"0.00 0.00 2892.00 1829.00\" xmlns=\"http://www.w3.org/2000/svg\" xmlns:xlink=\"http://www.w3.org/1999/xlink\">\n<g id=\"graph0\" class=\"graph\" transform=\"scale(1 1) rotate(0) translate(4 1825)\">\n<title>Tree</title>\n<polygon fill=\"#ffffff\" stroke=\"transparent\" points=\"-4,4 -4,-1825 2888,-1825 2888,4 -4,4\"/>\n<!-- 0 -->\n<g id=\"node1\" class=\"node\">\n<title>0</title>\n<polygon fill=\"none\" stroke=\"#000000\" points=\"1141,-1821 1024,-1821 1024,-1753 1141,-1753 1141,-1821\"/>\n<text text-anchor=\"middle\" x=\"1082.5\" y=\"-1805.8\" font-family=\"Times,serif\" font-size=\"14.00\" fill=\"#000000\">X[4] &lt;= &#45;0.188</text>\n<text text-anchor=\"middle\" x=\"1082.5\" y=\"-1790.8\" font-family=\"Times,serif\" font-size=\"14.00\" fill=\"#000000\">gini = 0.382</text>\n<text text-anchor=\"middle\" x=\"1082.5\" y=\"-1775.8\" font-family=\"Times,serif\" font-size=\"14.00\" fill=\"#000000\">samples = 276</text>\n<text text-anchor=\"middle\" x=\"1082.5\" y=\"-1760.8\" font-family=\"Times,serif\" font-size=\"14.00\" fill=\"#000000\">value = [205, 71]</text>\n</g>\n<!-- 1 -->\n<g id=\"node2\" class=\"node\">\n<title>1</title>\n<polygon fill=\"none\" stroke=\"#000000\" points=\"1073,-1717 964,-1717 964,-1649 1073,-1649 1073,-1717\"/>\n<text text-anchor=\"middle\" x=\"1018.5\" y=\"-1701.8\" font-family=\"Times,serif\" font-size=\"14.00\" fill=\"#000000\">X[7] &lt;= 0.14</text>\n<text text-anchor=\"middle\" x=\"1018.5\" y=\"-1686.8\" font-family=\"Times,serif\" font-size=\"14.00\" fill=\"#000000\">gini = 0.034</text>\n<text text-anchor=\"middle\" x=\"1018.5\" y=\"-1671.8\" font-family=\"Times,serif\" font-size=\"14.00\" fill=\"#000000\">samples = 116</text>\n<text text-anchor=\"middle\" x=\"1018.5\" y=\"-1656.8\" font-family=\"Times,serif\" font-size=\"14.00\" fill=\"#000000\">value = [114, 2]</text>\n</g>\n<!-- 0&#45;&gt;1 -->\n<g id=\"edge1\" class=\"edge\">\n<title>0&#45;&gt;1</title>\n<path fill=\"none\" stroke=\"#000000\" d=\"M1061.544,-1752.9465C1056.1845,-1744.2373 1050.3539,-1734.7626 1044.7647,-1725.6801\"/>\n<polygon fill=\"#000000\" stroke=\"#000000\" points=\"1047.7249,-1723.8122 1039.5031,-1717.13 1041.7633,-1727.481 1047.7249,-1723.8122\"/>\n<text text-anchor=\"middle\" x=\"1033.7126\" y=\"-1737.7502\" font-family=\"Times,serif\" font-size=\"14.00\" fill=\"#000000\">True</text>\n</g>\n<!-- 16 -->\n<g id=\"node17\" class=\"node\">\n<title>16</title>\n<polygon fill=\"none\" stroke=\"#000000\" points=\"1256.5,-1717 1146.5,-1717 1146.5,-1649 1256.5,-1649 1256.5,-1717\"/>\n<text text-anchor=\"middle\" x=\"1201.5\" y=\"-1701.8\" font-family=\"Times,serif\" font-size=\"14.00\" fill=\"#000000\">X[2] &lt;= 0.259</text>\n<text text-anchor=\"middle\" x=\"1201.5\" y=\"-1686.8\" font-family=\"Times,serif\" font-size=\"14.00\" fill=\"#000000\">gini = 0.491</text>\n<text text-anchor=\"middle\" x=\"1201.5\" y=\"-1671.8\" font-family=\"Times,serif\" font-size=\"14.00\" fill=\"#000000\">samples = 160</text>\n<text text-anchor=\"middle\" x=\"1201.5\" y=\"-1656.8\" font-family=\"Times,serif\" font-size=\"14.00\" fill=\"#000000\">value = [91, 69]</text>\n</g>\n<!-- 0&#45;&gt;16 -->\n<g id=\"edge16\" class=\"edge\">\n<title>0&#45;&gt;16</title>\n<path fill=\"none\" stroke=\"#000000\" d=\"M1121.4651,-1752.9465C1132.1495,-1743.6088 1143.8409,-1733.3911 1154.9066,-1723.7203\"/>\n<polygon fill=\"#000000\" stroke=\"#000000\" points=\"1157.2209,-1726.346 1162.4474,-1717.13 1152.6145,-1721.0752 1157.2209,-1726.346\"/>\n<text text-anchor=\"middle\" x=\"1160.7696\" y=\"-1738.3736\" font-family=\"Times,serif\" font-size=\"14.00\" fill=\"#000000\">False</text>\n</g>\n<!-- 2 -->\n<g id=\"node3\" class=\"node\">\n<title>2</title>\n<polygon fill=\"none\" stroke=\"#000000\" points=\"949.5,-1605.5 847.5,-1605.5 847.5,-1552.5 949.5,-1552.5 949.5,-1605.5\"/>\n<text text-anchor=\"middle\" x=\"898.5\" y=\"-1590.3\" font-family=\"Times,serif\" font-size=\"14.00\" fill=\"#000000\">gini = 0.0</text>\n<text text-anchor=\"middle\" x=\"898.5\" y=\"-1575.3\" font-family=\"Times,serif\" font-size=\"14.00\" fill=\"#000000\">samples = 71</text>\n<text text-anchor=\"middle\" x=\"898.5\" y=\"-1560.3\" font-family=\"Times,serif\" font-size=\"14.00\" fill=\"#000000\">value = [71, 0]</text>\n</g>\n<!-- 1&#45;&gt;2 -->\n<g id=\"edge2\" class=\"edge\">\n<title>1&#45;&gt;2</title>\n<path fill=\"none\" stroke=\"#000000\" d=\"M979.2075,-1648.9465C965.6083,-1637.1606 950.3915,-1623.9726 936.8676,-1612.2519\"/>\n<polygon fill=\"#000000\" stroke=\"#000000\" points=\"938.9748,-1609.4466 929.1256,-1605.5422 934.3902,-1614.7364 938.9748,-1609.4466\"/>\n</g>\n<!-- 3 -->\n<g id=\"node4\" class=\"node\">\n<title>3</title>\n<polygon fill=\"none\" stroke=\"#000000\" points=\"1069.5,-1613 967.5,-1613 967.5,-1545 1069.5,-1545 1069.5,-1613\"/>\n<text text-anchor=\"middle\" x=\"1018.5\" y=\"-1597.8\" font-family=\"Times,serif\" font-size=\"14.00\" fill=\"#000000\">X[2] &lt;= 1.254</text>\n<text text-anchor=\"middle\" x=\"1018.5\" y=\"-1582.8\" font-family=\"Times,serif\" font-size=\"14.00\" fill=\"#000000\">gini = 0.085</text>\n<text text-anchor=\"middle\" x=\"1018.5\" y=\"-1567.8\" font-family=\"Times,serif\" font-size=\"14.00\" fill=\"#000000\">samples = 45</text>\n<text text-anchor=\"middle\" x=\"1018.5\" y=\"-1552.8\" font-family=\"Times,serif\" font-size=\"14.00\" fill=\"#000000\">value = [43, 2]</text>\n</g>\n<!-- 1&#45;&gt;3 -->\n<g id=\"edge3\" class=\"edge\">\n<title>1&#45;&gt;3</title>\n<path fill=\"none\" stroke=\"#000000\" d=\"M1018.5,-1648.9465C1018.5,-1640.776 1018.5,-1631.9318 1018.5,-1623.3697\"/>\n<polygon fill=\"#000000\" stroke=\"#000000\" points=\"1022.0001,-1623.13 1018.5,-1613.13 1015.0001,-1623.13 1022.0001,-1623.13\"/>\n</g>\n<!-- 4 -->\n<g id=\"node5\" class=\"node\">\n<title>4</title>\n<polygon fill=\"none\" stroke=\"#000000\" points=\"919.5,-1509 813.5,-1509 813.5,-1441 919.5,-1441 919.5,-1509\"/>\n<text text-anchor=\"middle\" x=\"866.5\" y=\"-1493.8\" font-family=\"Times,serif\" font-size=\"14.00\" fill=\"#000000\">X[1] &lt;= &#45;0.019</text>\n<text text-anchor=\"middle\" x=\"866.5\" y=\"-1478.8\" font-family=\"Times,serif\" font-size=\"14.00\" fill=\"#000000\">gini = 0.05</text>\n<text text-anchor=\"middle\" x=\"866.5\" y=\"-1463.8\" font-family=\"Times,serif\" font-size=\"14.00\" fill=\"#000000\">samples = 39</text>\n<text text-anchor=\"middle\" x=\"866.5\" y=\"-1448.8\" font-family=\"Times,serif\" font-size=\"14.00\" fill=\"#000000\">value = [38, 1]</text>\n</g>\n<!-- 3&#45;&gt;4 -->\n<g id=\"edge4\" class=\"edge\">\n<title>3&#45;&gt;4</title>\n<path fill=\"none\" stroke=\"#000000\" d=\"M968.7295,-1544.9465C954.6885,-1535.3395 939.286,-1524.8009 924.7932,-1514.8848\"/>\n<polygon fill=\"#000000\" stroke=\"#000000\" points=\"926.6118,-1511.8883 916.3823,-1509.13 922.659,-1517.6655 926.6118,-1511.8883\"/>\n</g>\n<!-- 11 -->\n<g id=\"node12\" class=\"node\">\n<title>11</title>\n<polygon fill=\"none\" stroke=\"#000000\" points=\"1066,-1509 971,-1509 971,-1441 1066,-1441 1066,-1509\"/>\n<text text-anchor=\"middle\" x=\"1018.5\" y=\"-1493.8\" font-family=\"Times,serif\" font-size=\"14.00\" fill=\"#000000\">X[2] &lt;= 1.42</text>\n<text text-anchor=\"middle\" x=\"1018.5\" y=\"-1478.8\" font-family=\"Times,serif\" font-size=\"14.00\" fill=\"#000000\">gini = 0.278</text>\n<text text-anchor=\"middle\" x=\"1018.5\" y=\"-1463.8\" font-family=\"Times,serif\" font-size=\"14.00\" fill=\"#000000\">samples = 6</text>\n<text text-anchor=\"middle\" x=\"1018.5\" y=\"-1448.8\" font-family=\"Times,serif\" font-size=\"14.00\" fill=\"#000000\">value = [5, 1]</text>\n</g>\n<!-- 3&#45;&gt;11 -->\n<g id=\"edge11\" class=\"edge\">\n<title>3&#45;&gt;11</title>\n<path fill=\"none\" stroke=\"#000000\" d=\"M1018.5,-1544.9465C1018.5,-1536.776 1018.5,-1527.9318 1018.5,-1519.3697\"/>\n<polygon fill=\"#000000\" stroke=\"#000000\" points=\"1022.0001,-1519.13 1018.5,-1509.13 1015.0001,-1519.13 1022.0001,-1519.13\"/>\n</g>\n<!-- 5 -->\n<g id=\"node6\" class=\"node\">\n<title>5</title>\n<polygon fill=\"none\" stroke=\"#000000\" points=\"795.5,-1397.5 693.5,-1397.5 693.5,-1344.5 795.5,-1344.5 795.5,-1397.5\"/>\n<text text-anchor=\"middle\" x=\"744.5\" y=\"-1382.3\" font-family=\"Times,serif\" font-size=\"14.00\" fill=\"#000000\">gini = 0.0</text>\n<text text-anchor=\"middle\" x=\"744.5\" y=\"-1367.3\" font-family=\"Times,serif\" font-size=\"14.00\" fill=\"#000000\">samples = 20</text>\n<text text-anchor=\"middle\" x=\"744.5\" y=\"-1352.3\" font-family=\"Times,serif\" font-size=\"14.00\" fill=\"#000000\">value = [20, 0]</text>\n</g>\n<!-- 4&#45;&gt;5 -->\n<g id=\"edge5\" class=\"edge\">\n<title>4&#45;&gt;5</title>\n<path fill=\"none\" stroke=\"#000000\" d=\"M826.5526,-1440.9465C812.7268,-1429.1606 797.2564,-1415.9726 783.5071,-1404.2519\"/>\n<polygon fill=\"#000000\" stroke=\"#000000\" points=\"785.5168,-1401.366 775.636,-1397.5422 780.9756,-1406.6931 785.5168,-1401.366\"/>\n</g>\n<!-- 6 -->\n<g id=\"node7\" class=\"node\">\n<title>6</title>\n<polygon fill=\"none\" stroke=\"#000000\" points=\"919.5,-1405 813.5,-1405 813.5,-1337 919.5,-1337 919.5,-1405\"/>\n<text text-anchor=\"middle\" x=\"866.5\" y=\"-1389.8\" font-family=\"Times,serif\" font-size=\"14.00\" fill=\"#000000\">X[2] &lt;= &#45;0.404</text>\n<text text-anchor=\"middle\" x=\"866.5\" y=\"-1374.8\" font-family=\"Times,serif\" font-size=\"14.00\" fill=\"#000000\">gini = 0.1</text>\n<text text-anchor=\"middle\" x=\"866.5\" y=\"-1359.8\" font-family=\"Times,serif\" font-size=\"14.00\" fill=\"#000000\">samples = 19</text>\n<text text-anchor=\"middle\" x=\"866.5\" y=\"-1344.8\" font-family=\"Times,serif\" font-size=\"14.00\" fill=\"#000000\">value = [18, 1]</text>\n</g>\n<!-- 4&#45;&gt;6 -->\n<g id=\"edge6\" class=\"edge\">\n<title>4&#45;&gt;6</title>\n<path fill=\"none\" stroke=\"#000000\" d=\"M866.5,-1440.9465C866.5,-1432.776 866.5,-1423.9318 866.5,-1415.3697\"/>\n<polygon fill=\"#000000\" stroke=\"#000000\" points=\"870.0001,-1415.13 866.5,-1405.13 863.0001,-1415.13 870.0001,-1415.13\"/>\n</g>\n<!-- 7 -->\n<g id=\"node8\" class=\"node\">\n<title>7</title>\n<polygon fill=\"none\" stroke=\"#000000\" points=\"804.5,-1301 706.5,-1301 706.5,-1233 804.5,-1233 804.5,-1301\"/>\n<text text-anchor=\"middle\" x=\"755.5\" y=\"-1285.8\" font-family=\"Times,serif\" font-size=\"14.00\" fill=\"#000000\">X[2] &lt;= &#45;0.57</text>\n<text text-anchor=\"middle\" x=\"755.5\" y=\"-1270.8\" font-family=\"Times,serif\" font-size=\"14.00\" fill=\"#000000\">gini = 0.219</text>\n<text text-anchor=\"middle\" x=\"755.5\" y=\"-1255.8\" font-family=\"Times,serif\" font-size=\"14.00\" fill=\"#000000\">samples = 8</text>\n<text text-anchor=\"middle\" x=\"755.5\" y=\"-1240.8\" font-family=\"Times,serif\" font-size=\"14.00\" fill=\"#000000\">value = [7, 1]</text>\n</g>\n<!-- 6&#45;&gt;7 -->\n<g id=\"edge7\" class=\"edge\">\n<title>6&#45;&gt;7</title>\n<path fill=\"none\" stroke=\"#000000\" d=\"M830.1544,-1336.9465C820.2841,-1327.6986 809.4925,-1317.5876 799.259,-1307.9994\"/>\n<polygon fill=\"#000000\" stroke=\"#000000\" points=\"801.6177,-1305.4131 791.9272,-1301.13 796.8316,-1310.5214 801.6177,-1305.4131\"/>\n</g>\n<!-- 10 -->\n<g id=\"node11\" class=\"node\">\n<title>10</title>\n<polygon fill=\"none\" stroke=\"#000000\" points=\"924,-1293.5 823,-1293.5 823,-1240.5 924,-1240.5 924,-1293.5\"/>\n<text text-anchor=\"middle\" x=\"873.5\" y=\"-1278.3\" font-family=\"Times,serif\" font-size=\"14.00\" fill=\"#000000\">gini = 0.0</text>\n<text text-anchor=\"middle\" x=\"873.5\" y=\"-1263.3\" font-family=\"Times,serif\" font-size=\"14.00\" fill=\"#000000\">samples = 11</text>\n<text text-anchor=\"middle\" x=\"873.5\" y=\"-1248.3\" font-family=\"Times,serif\" font-size=\"14.00\" fill=\"#000000\">value = [11, 0]</text>\n</g>\n<!-- 6&#45;&gt;10 -->\n<g id=\"edge10\" class=\"edge\">\n<title>6&#45;&gt;10</title>\n<path fill=\"none\" stroke=\"#000000\" d=\"M868.7921,-1336.9465C869.5112,-1326.2621 870.3079,-1314.4254 871.0383,-1303.5742\"/>\n<polygon fill=\"#000000\" stroke=\"#000000\" points=\"874.534,-1303.7547 871.7135,-1293.5422 867.5498,-1303.2845 874.534,-1303.7547\"/>\n</g>\n<!-- 8 -->\n<g id=\"node9\" class=\"node\">\n<title>8</title>\n<polygon fill=\"none\" stroke=\"#000000\" points=\"701,-1189.5 606,-1189.5 606,-1136.5 701,-1136.5 701,-1189.5\"/>\n<text text-anchor=\"middle\" x=\"653.5\" y=\"-1174.3\" font-family=\"Times,serif\" font-size=\"14.00\" fill=\"#000000\">gini = 0.0</text>\n<text text-anchor=\"middle\" x=\"653.5\" y=\"-1159.3\" font-family=\"Times,serif\" font-size=\"14.00\" fill=\"#000000\">samples = 4</text>\n<text text-anchor=\"middle\" x=\"653.5\" y=\"-1144.3\" font-family=\"Times,serif\" font-size=\"14.00\" fill=\"#000000\">value = [4, 0]</text>\n</g>\n<!-- 7&#45;&gt;8 -->\n<g id=\"edge8\" class=\"edge\">\n<title>7&#45;&gt;8</title>\n<path fill=\"none\" stroke=\"#000000\" d=\"M722.1014,-1232.9465C710.7582,-1221.3809 698.0908,-1208.4652 686.7585,-1196.9107\"/>\n<polygon fill=\"#000000\" stroke=\"#000000\" points=\"689.0326,-1194.2308 679.5317,-1189.5422 684.0351,-1199.1323 689.0326,-1194.2308\"/>\n</g>\n<!-- 9 -->\n<g id=\"node10\" class=\"node\">\n<title>9</title>\n<polygon fill=\"none\" stroke=\"#000000\" points=\"814,-1189.5 719,-1189.5 719,-1136.5 814,-1136.5 814,-1189.5\"/>\n<text text-anchor=\"middle\" x=\"766.5\" y=\"-1174.3\" font-family=\"Times,serif\" font-size=\"14.00\" fill=\"#000000\">gini = 0.375</text>\n<text text-anchor=\"middle\" x=\"766.5\" y=\"-1159.3\" font-family=\"Times,serif\" font-size=\"14.00\" fill=\"#000000\">samples = 4</text>\n<text text-anchor=\"middle\" x=\"766.5\" y=\"-1144.3\" font-family=\"Times,serif\" font-size=\"14.00\" fill=\"#000000\">value = [3, 1]</text>\n</g>\n<!-- 7&#45;&gt;9 -->\n<g id=\"edge9\" class=\"edge\">\n<title>7&#45;&gt;9</title>\n<path fill=\"none\" stroke=\"#000000\" d=\"M759.1018,-1232.9465C760.2319,-1222.2621 761.4838,-1210.4254 762.6316,-1199.5742\"/>\n<polygon fill=\"#000000\" stroke=\"#000000\" points=\"766.1213,-1199.8549 763.6927,-1189.5422 759.1602,-1199.1185 766.1213,-1199.8549\"/>\n</g>\n<!-- 12 -->\n<g id=\"node13\" class=\"node\">\n<title>12</title>\n<polygon fill=\"none\" stroke=\"#000000\" points=\"1043.5,-1405 937.5,-1405 937.5,-1337 1043.5,-1337 1043.5,-1405\"/>\n<text text-anchor=\"middle\" x=\"990.5\" y=\"-1389.8\" font-family=\"Times,serif\" font-size=\"14.00\" fill=\"#000000\">X[1] &lt;= &#45;0.019</text>\n<text text-anchor=\"middle\" x=\"990.5\" y=\"-1374.8\" font-family=\"Times,serif\" font-size=\"14.00\" fill=\"#000000\">gini = 0.5</text>\n<text text-anchor=\"middle\" x=\"990.5\" y=\"-1359.8\" font-family=\"Times,serif\" font-size=\"14.00\" fill=\"#000000\">samples = 2</text>\n<text text-anchor=\"middle\" x=\"990.5\" y=\"-1344.8\" font-family=\"Times,serif\" font-size=\"14.00\" fill=\"#000000\">value = [1, 1]</text>\n</g>\n<!-- 11&#45;&gt;12 -->\n<g id=\"edge12\" class=\"edge\">\n<title>11&#45;&gt;12</title>\n<path fill=\"none\" stroke=\"#000000\" d=\"M1009.3318,-1440.9465C1007.0837,-1432.5965 1004.6461,-1423.5427 1002.2938,-1414.8056\"/>\n<polygon fill=\"#000000\" stroke=\"#000000\" points=\"1005.6683,-1413.8762 999.6888,-1405.13 998.909,-1415.6961 1005.6683,-1413.8762\"/>\n</g>\n<!-- 15 -->\n<g id=\"node16\" class=\"node\">\n<title>15</title>\n<polygon fill=\"none\" stroke=\"#000000\" points=\"1157,-1397.5 1062,-1397.5 1062,-1344.5 1157,-1344.5 1157,-1397.5\"/>\n<text text-anchor=\"middle\" x=\"1109.5\" y=\"-1382.3\" font-family=\"Times,serif\" font-size=\"14.00\" fill=\"#000000\">gini = 0.0</text>\n<text text-anchor=\"middle\" x=\"1109.5\" y=\"-1367.3\" font-family=\"Times,serif\" font-size=\"14.00\" fill=\"#000000\">samples = 4</text>\n<text text-anchor=\"middle\" x=\"1109.5\" y=\"-1352.3\" font-family=\"Times,serif\" font-size=\"14.00\" fill=\"#000000\">value = [4, 0]</text>\n</g>\n<!-- 11&#45;&gt;15 -->\n<g id=\"edge15\" class=\"edge\">\n<title>11&#45;&gt;15</title>\n<path fill=\"none\" stroke=\"#000000\" d=\"M1048.2968,-1440.9465C1058.3204,-1429.491 1069.5028,-1416.711 1079.539,-1405.2412\"/>\n<polygon fill=\"#000000\" stroke=\"#000000\" points=\"1082.3246,-1407.3727 1086.2756,-1397.5422 1077.0565,-1402.7632 1082.3246,-1407.3727\"/>\n</g>\n<!-- 13 -->\n<g id=\"node14\" class=\"node\">\n<title>13</title>\n<polygon fill=\"none\" stroke=\"#000000\" points=\"1038,-1293.5 943,-1293.5 943,-1240.5 1038,-1240.5 1038,-1293.5\"/>\n<text text-anchor=\"middle\" x=\"990.5\" y=\"-1278.3\" font-family=\"Times,serif\" font-size=\"14.00\" fill=\"#000000\">gini = 0.0</text>\n<text text-anchor=\"middle\" x=\"990.5\" y=\"-1263.3\" font-family=\"Times,serif\" font-size=\"14.00\" fill=\"#000000\">samples = 1</text>\n<text text-anchor=\"middle\" x=\"990.5\" y=\"-1248.3\" font-family=\"Times,serif\" font-size=\"14.00\" fill=\"#000000\">value = [0, 1]</text>\n</g>\n<!-- 12&#45;&gt;13 -->\n<g id=\"edge13\" class=\"edge\">\n<title>12&#45;&gt;13</title>\n<path fill=\"none\" stroke=\"#000000\" d=\"M990.5,-1336.9465C990.5,-1326.2621 990.5,-1314.4254 990.5,-1303.5742\"/>\n<polygon fill=\"#000000\" stroke=\"#000000\" points=\"994.0001,-1303.5421 990.5,-1293.5422 987.0001,-1303.5422 994.0001,-1303.5421\"/>\n</g>\n<!-- 14 -->\n<g id=\"node15\" class=\"node\">\n<title>14</title>\n<polygon fill=\"none\" stroke=\"#000000\" points=\"1151,-1293.5 1056,-1293.5 1056,-1240.5 1151,-1240.5 1151,-1293.5\"/>\n<text text-anchor=\"middle\" x=\"1103.5\" y=\"-1278.3\" font-family=\"Times,serif\" font-size=\"14.00\" fill=\"#000000\">gini = 0.0</text>\n<text text-anchor=\"middle\" x=\"1103.5\" y=\"-1263.3\" font-family=\"Times,serif\" font-size=\"14.00\" fill=\"#000000\">samples = 1</text>\n<text text-anchor=\"middle\" x=\"1103.5\" y=\"-1248.3\" font-family=\"Times,serif\" font-size=\"14.00\" fill=\"#000000\">value = [1, 0]</text>\n</g>\n<!-- 12&#45;&gt;14 -->\n<g id=\"edge14\" class=\"edge\">\n<title>12&#45;&gt;14</title>\n<path fill=\"none\" stroke=\"#000000\" d=\"M1027.5004,-1336.9465C1040.1866,-1325.2707 1054.3678,-1312.219 1067.013,-1300.5809\"/>\n<polygon fill=\"#000000\" stroke=\"#000000\" points=\"1069.6731,-1302.8895 1074.6609,-1293.5422 1064.9327,-1297.7389 1069.6731,-1302.8895\"/>\n</g>\n<!-- 17 -->\n<g id=\"node18\" class=\"node\">\n<title>17</title>\n<polygon fill=\"none\" stroke=\"#000000\" points=\"1256.5,-1613 1146.5,-1613 1146.5,-1545 1256.5,-1545 1256.5,-1613\"/>\n<text text-anchor=\"middle\" x=\"1201.5\" y=\"-1597.8\" font-family=\"Times,serif\" font-size=\"14.00\" fill=\"#000000\">X[1] &lt;= &#45;1.46</text>\n<text text-anchor=\"middle\" x=\"1201.5\" y=\"-1582.8\" font-family=\"Times,serif\" font-size=\"14.00\" fill=\"#000000\">gini = 0.5</text>\n<text text-anchor=\"middle\" x=\"1201.5\" y=\"-1567.8\" font-family=\"Times,serif\" font-size=\"14.00\" fill=\"#000000\">samples = 100</text>\n<text text-anchor=\"middle\" x=\"1201.5\" y=\"-1552.8\" font-family=\"Times,serif\" font-size=\"14.00\" fill=\"#000000\">value = [51, 49]</text>\n</g>\n<!-- 16&#45;&gt;17 -->\n<g id=\"edge17\" class=\"edge\">\n<title>16&#45;&gt;17</title>\n<path fill=\"none\" stroke=\"#000000\" d=\"M1201.5,-1648.9465C1201.5,-1640.776 1201.5,-1631.9318 1201.5,-1623.3697\"/>\n<polygon fill=\"#000000\" stroke=\"#000000\" points=\"1205.0001,-1623.13 1201.5,-1613.13 1198.0001,-1623.13 1205.0001,-1623.13\"/>\n</g>\n<!-- 118 -->\n<g id=\"node119\" class=\"node\">\n<title>118</title>\n<polygon fill=\"none\" stroke=\"#000000\" points=\"1698.5,-1613 1588.5,-1613 1588.5,-1545 1698.5,-1545 1698.5,-1613\"/>\n<text text-anchor=\"middle\" x=\"1643.5\" y=\"-1597.8\" font-family=\"Times,serif\" font-size=\"14.00\" fill=\"#000000\">X[3] &lt;= 0.979</text>\n<text text-anchor=\"middle\" x=\"1643.5\" y=\"-1582.8\" font-family=\"Times,serif\" font-size=\"14.00\" fill=\"#000000\">gini = 0.444</text>\n<text text-anchor=\"middle\" x=\"1643.5\" y=\"-1567.8\" font-family=\"Times,serif\" font-size=\"14.00\" fill=\"#000000\">samples = 60</text>\n<text text-anchor=\"middle\" x=\"1643.5\" y=\"-1552.8\" font-family=\"Times,serif\" font-size=\"14.00\" fill=\"#000000\">value = [40, 20]</text>\n</g>\n<!-- 16&#45;&gt;118 -->\n<g id=\"edge118\" class=\"edge\">\n<title>16&#45;&gt;118</title>\n<path fill=\"none\" stroke=\"#000000\" d=\"M1256.5859,-1670.0386C1338.3645,-1650.7966 1491.5714,-1614.7479 1578.6504,-1594.2587\"/>\n<polygon fill=\"#000000\" stroke=\"#000000\" points=\"1579.4833,-1597.6584 1588.4158,-1591.961 1577.88,-1590.8445 1579.4833,-1597.6584\"/>\n</g>\n<!-- 18 -->\n<g id=\"node19\" class=\"node\">\n<title>18</title>\n<polygon fill=\"none\" stroke=\"#000000\" points=\"1242,-1501.5 1147,-1501.5 1147,-1448.5 1242,-1448.5 1242,-1501.5\"/>\n<text text-anchor=\"middle\" x=\"1194.5\" y=\"-1486.3\" font-family=\"Times,serif\" font-size=\"14.00\" fill=\"#000000\">gini = 0.0</text>\n<text text-anchor=\"middle\" x=\"1194.5\" y=\"-1471.3\" font-family=\"Times,serif\" font-size=\"14.00\" fill=\"#000000\">samples = 3</text>\n<text text-anchor=\"middle\" x=\"1194.5\" y=\"-1456.3\" font-family=\"Times,serif\" font-size=\"14.00\" fill=\"#000000\">value = [3, 0]</text>\n</g>\n<!-- 17&#45;&gt;18 -->\n<g id=\"edge18\" class=\"edge\">\n<title>17&#45;&gt;18</title>\n<path fill=\"none\" stroke=\"#000000\" d=\"M1199.2079,-1544.9465C1198.4888,-1534.2621 1197.6921,-1522.4254 1196.9617,-1511.5742\"/>\n<polygon fill=\"#000000\" stroke=\"#000000\" points=\"1200.4502,-1511.2845 1196.2865,-1501.5422 1193.466,-1511.7547 1200.4502,-1511.2845\"/>\n</g>\n<!-- 19 -->\n<g id=\"node20\" class=\"node\">\n<title>19</title>\n<polygon fill=\"none\" stroke=\"#000000\" points=\"1370.5,-1509 1260.5,-1509 1260.5,-1441 1370.5,-1441 1370.5,-1509\"/>\n<text text-anchor=\"middle\" x=\"1315.5\" y=\"-1493.8\" font-family=\"Times,serif\" font-size=\"14.00\" fill=\"#000000\">X[2] &lt;= &#45;1.98</text>\n<text text-anchor=\"middle\" x=\"1315.5\" y=\"-1478.8\" font-family=\"Times,serif\" font-size=\"14.00\" fill=\"#000000\">gini = 0.5</text>\n<text text-anchor=\"middle\" x=\"1315.5\" y=\"-1463.8\" font-family=\"Times,serif\" font-size=\"14.00\" fill=\"#000000\">samples = 97</text>\n<text text-anchor=\"middle\" x=\"1315.5\" y=\"-1448.8\" font-family=\"Times,serif\" font-size=\"14.00\" fill=\"#000000\">value = [48, 49]</text>\n</g>\n<!-- 17&#45;&gt;19 -->\n<g id=\"edge19\" class=\"edge\">\n<title>17&#45;&gt;19</title>\n<path fill=\"none\" stroke=\"#000000\" d=\"M1238.8279,-1544.9465C1248.965,-1535.6986 1260.0483,-1525.5876 1270.5583,-1515.9994\"/>\n<polygon fill=\"#000000\" stroke=\"#000000\" points=\"1273.0595,-1518.4553 1278.0883,-1509.13 1268.3417,-1513.284 1273.0595,-1518.4553\"/>\n</g>\n<!-- 20 -->\n<g id=\"node21\" class=\"node\">\n<title>20</title>\n<polygon fill=\"none\" stroke=\"#000000\" points=\"1270,-1397.5 1175,-1397.5 1175,-1344.5 1270,-1344.5 1270,-1397.5\"/>\n<text text-anchor=\"middle\" x=\"1222.5\" y=\"-1382.3\" font-family=\"Times,serif\" font-size=\"14.00\" fill=\"#000000\">gini = 0.0</text>\n<text text-anchor=\"middle\" x=\"1222.5\" y=\"-1367.3\" font-family=\"Times,serif\" font-size=\"14.00\" fill=\"#000000\">samples = 1</text>\n<text text-anchor=\"middle\" x=\"1222.5\" y=\"-1352.3\" font-family=\"Times,serif\" font-size=\"14.00\" fill=\"#000000\">value = [0, 1]</text>\n</g>\n<!-- 19&#45;&gt;20 -->\n<g id=\"edge20\" class=\"edge\">\n<title>19&#45;&gt;20</title>\n<path fill=\"none\" stroke=\"#000000\" d=\"M1285.0483,-1440.9465C1274.8045,-1429.491 1263.3762,-1416.711 1253.1195,-1405.2412\"/>\n<polygon fill=\"#000000\" stroke=\"#000000\" points=\"1255.5097,-1402.6634 1246.2348,-1397.5422 1250.2917,-1407.3295 1255.5097,-1402.6634\"/>\n</g>\n<!-- 21 -->\n<g id=\"node22\" class=\"node\">\n<title>21</title>\n<polygon fill=\"none\" stroke=\"#000000\" points=\"1398.5,-1405 1288.5,-1405 1288.5,-1337 1398.5,-1337 1398.5,-1405\"/>\n<text text-anchor=\"middle\" x=\"1343.5\" y=\"-1389.8\" font-family=\"Times,serif\" font-size=\"14.00\" fill=\"#000000\">X[2] &lt;= &#45;1.731</text>\n<text text-anchor=\"middle\" x=\"1343.5\" y=\"-1374.8\" font-family=\"Times,serif\" font-size=\"14.00\" fill=\"#000000\">gini = 0.5</text>\n<text text-anchor=\"middle\" x=\"1343.5\" y=\"-1359.8\" font-family=\"Times,serif\" font-size=\"14.00\" fill=\"#000000\">samples = 96</text>\n<text text-anchor=\"middle\" x=\"1343.5\" y=\"-1344.8\" font-family=\"Times,serif\" font-size=\"14.00\" fill=\"#000000\">value = [48, 48]</text>\n</g>\n<!-- 19&#45;&gt;21 -->\n<g id=\"edge21\" class=\"edge\">\n<title>19&#45;&gt;21</title>\n<path fill=\"none\" stroke=\"#000000\" d=\"M1324.6682,-1440.9465C1326.9163,-1432.5965 1329.3539,-1423.5427 1331.7062,-1414.8056\"/>\n<polygon fill=\"#000000\" stroke=\"#000000\" points=\"1335.091,-1415.6961 1334.3112,-1405.13 1328.3317,-1413.8762 1335.091,-1415.6961\"/>\n</g>\n<!-- 22 -->\n<g id=\"node23\" class=\"node\">\n<title>22</title>\n<polygon fill=\"none\" stroke=\"#000000\" points=\"1270,-1293.5 1175,-1293.5 1175,-1240.5 1270,-1240.5 1270,-1293.5\"/>\n<text text-anchor=\"middle\" x=\"1222.5\" y=\"-1278.3\" font-family=\"Times,serif\" font-size=\"14.00\" fill=\"#000000\">gini = 0.0</text>\n<text text-anchor=\"middle\" x=\"1222.5\" y=\"-1263.3\" font-family=\"Times,serif\" font-size=\"14.00\" fill=\"#000000\">samples = 1</text>\n<text text-anchor=\"middle\" x=\"1222.5\" y=\"-1248.3\" font-family=\"Times,serif\" font-size=\"14.00\" fill=\"#000000\">value = [1, 0]</text>\n</g>\n<!-- 21&#45;&gt;22 -->\n<g id=\"edge22\" class=\"edge\">\n<title>21&#45;&gt;22</title>\n<path fill=\"none\" stroke=\"#000000\" d=\"M1303.8801,-1336.9465C1290.1676,-1325.1606 1274.8239,-1311.9726 1261.1873,-1300.2519\"/>\n<polygon fill=\"#000000\" stroke=\"#000000\" points=\"1263.2459,-1297.4061 1253.3808,-1293.5422 1258.6831,-1302.7147 1263.2459,-1297.4061\"/>\n</g>\n<!-- 23 -->\n<g id=\"node24\" class=\"node\">\n<title>23</title>\n<polygon fill=\"none\" stroke=\"#000000\" points=\"1398.5,-1301 1288.5,-1301 1288.5,-1233 1398.5,-1233 1398.5,-1301\"/>\n<text text-anchor=\"middle\" x=\"1343.5\" y=\"-1285.8\" font-family=\"Times,serif\" font-size=\"14.00\" fill=\"#000000\">X[5] &lt;= 1.119</text>\n<text text-anchor=\"middle\" x=\"1343.5\" y=\"-1270.8\" font-family=\"Times,serif\" font-size=\"14.00\" fill=\"#000000\">gini = 0.5</text>\n<text text-anchor=\"middle\" x=\"1343.5\" y=\"-1255.8\" font-family=\"Times,serif\" font-size=\"14.00\" fill=\"#000000\">samples = 95</text>\n<text text-anchor=\"middle\" x=\"1343.5\" y=\"-1240.8\" font-family=\"Times,serif\" font-size=\"14.00\" fill=\"#000000\">value = [47, 48]</text>\n</g>\n<!-- 21&#45;&gt;23 -->\n<g id=\"edge23\" class=\"edge\">\n<title>21&#45;&gt;23</title>\n<path fill=\"none\" stroke=\"#000000\" d=\"M1343.5,-1336.9465C1343.5,-1328.776 1343.5,-1319.9318 1343.5,-1311.3697\"/>\n<polygon fill=\"#000000\" stroke=\"#000000\" points=\"1347.0001,-1311.13 1343.5,-1301.13 1340.0001,-1311.13 1347.0001,-1311.13\"/>\n</g>\n<!-- 24 -->\n<g id=\"node25\" class=\"node\">\n<title>24</title>\n<polygon fill=\"none\" stroke=\"#000000\" points=\"947.5,-1197 837.5,-1197 837.5,-1129 947.5,-1129 947.5,-1197\"/>\n<text text-anchor=\"middle\" x=\"892.5\" y=\"-1181.8\" font-family=\"Times,serif\" font-size=\"14.00\" fill=\"#000000\">X[2] &lt;= &#45;1.565</text>\n<text text-anchor=\"middle\" x=\"892.5\" y=\"-1166.8\" font-family=\"Times,serif\" font-size=\"14.00\" fill=\"#000000\">gini = 0.5</text>\n<text text-anchor=\"middle\" x=\"892.5\" y=\"-1151.8\" font-family=\"Times,serif\" font-size=\"14.00\" fill=\"#000000\">samples = 84</text>\n<text text-anchor=\"middle\" x=\"892.5\" y=\"-1136.8\" font-family=\"Times,serif\" font-size=\"14.00\" fill=\"#000000\">value = [43, 41]</text>\n</g>\n<!-- 23&#45;&gt;24 -->\n<g id=\"edge24\" class=\"edge\">\n<title>23&#45;&gt;24</title>\n<path fill=\"none\" stroke=\"#000000\" d=\"M1288.3238,-1236.7348C1285.0415,-1235.3755 1281.7522,-1234.1164 1278.5,-1233 1169.3807,-1195.5425 1035.6617,-1177.007 957.6754,-1168.7528\"/>\n<polygon fill=\"#000000\" stroke=\"#000000\" points=\"957.8223,-1165.2494 947.5154,-1167.7024 957.1024,-1172.2123 957.8223,-1165.2494\"/>\n</g>\n<!-- 107 -->\n<g id=\"node108\" class=\"node\">\n<title>107</title>\n<polygon fill=\"none\" stroke=\"#000000\" points=\"1394,-1197 1293,-1197 1293,-1129 1394,-1129 1394,-1197\"/>\n<text text-anchor=\"middle\" x=\"1343.5\" y=\"-1181.8\" font-family=\"Times,serif\" font-size=\"14.00\" fill=\"#000000\">X[3] &lt;= 0.979</text>\n<text text-anchor=\"middle\" x=\"1343.5\" y=\"-1166.8\" font-family=\"Times,serif\" font-size=\"14.00\" fill=\"#000000\">gini = 0.463</text>\n<text text-anchor=\"middle\" x=\"1343.5\" y=\"-1151.8\" font-family=\"Times,serif\" font-size=\"14.00\" fill=\"#000000\">samples = 11</text>\n<text text-anchor=\"middle\" x=\"1343.5\" y=\"-1136.8\" font-family=\"Times,serif\" font-size=\"14.00\" fill=\"#000000\">value = [4, 7]</text>\n</g>\n<!-- 23&#45;&gt;107 -->\n<g id=\"edge107\" class=\"edge\">\n<title>23&#45;&gt;107</title>\n<path fill=\"none\" stroke=\"#000000\" d=\"M1343.5,-1232.9465C1343.5,-1224.776 1343.5,-1215.9318 1343.5,-1207.3697\"/>\n<polygon fill=\"#000000\" stroke=\"#000000\" points=\"1347.0001,-1207.13 1343.5,-1197.13 1340.0001,-1207.13 1347.0001,-1207.13\"/>\n</g>\n<!-- 25 -->\n<g id=\"node26\" class=\"node\">\n<title>25</title>\n<polygon fill=\"none\" stroke=\"#000000\" points=\"819,-1085.5 724,-1085.5 724,-1032.5 819,-1032.5 819,-1085.5\"/>\n<text text-anchor=\"middle\" x=\"771.5\" y=\"-1070.3\" font-family=\"Times,serif\" font-size=\"14.00\" fill=\"#000000\">gini = 0.0</text>\n<text text-anchor=\"middle\" x=\"771.5\" y=\"-1055.3\" font-family=\"Times,serif\" font-size=\"14.00\" fill=\"#000000\">samples = 1</text>\n<text text-anchor=\"middle\" x=\"771.5\" y=\"-1040.3\" font-family=\"Times,serif\" font-size=\"14.00\" fill=\"#000000\">value = [0, 1]</text>\n</g>\n<!-- 24&#45;&gt;25 -->\n<g id=\"edge25\" class=\"edge\">\n<title>24&#45;&gt;25</title>\n<path fill=\"none\" stroke=\"#000000\" d=\"M852.8801,-1128.9465C839.1676,-1117.1606 823.8239,-1103.9726 810.1873,-1092.2519\"/>\n<polygon fill=\"#000000\" stroke=\"#000000\" points=\"812.2459,-1089.4061 802.3808,-1085.5422 807.6831,-1094.7147 812.2459,-1089.4061\"/>\n</g>\n<!-- 26 -->\n<g id=\"node27\" class=\"node\">\n<title>26</title>\n<polygon fill=\"none\" stroke=\"#000000\" points=\"947.5,-1093 837.5,-1093 837.5,-1025 947.5,-1025 947.5,-1093\"/>\n<text text-anchor=\"middle\" x=\"892.5\" y=\"-1077.8\" font-family=\"Times,serif\" font-size=\"14.00\" fill=\"#000000\">X[2] &lt;= &#45;1.399</text>\n<text text-anchor=\"middle\" x=\"892.5\" y=\"-1062.8\" font-family=\"Times,serif\" font-size=\"14.00\" fill=\"#000000\">gini = 0.499</text>\n<text text-anchor=\"middle\" x=\"892.5\" y=\"-1047.8\" font-family=\"Times,serif\" font-size=\"14.00\" fill=\"#000000\">samples = 83</text>\n<text text-anchor=\"middle\" x=\"892.5\" y=\"-1032.8\" font-family=\"Times,serif\" font-size=\"14.00\" fill=\"#000000\">value = [43, 40]</text>\n</g>\n<!-- 24&#45;&gt;26 -->\n<g id=\"edge26\" class=\"edge\">\n<title>24&#45;&gt;26</title>\n<path fill=\"none\" stroke=\"#000000\" d=\"M892.5,-1128.9465C892.5,-1120.776 892.5,-1111.9318 892.5,-1103.3697\"/>\n<polygon fill=\"#000000\" stroke=\"#000000\" points=\"896.0001,-1103.13 892.5,-1093.13 889.0001,-1103.13 896.0001,-1103.13\"/>\n</g>\n<!-- 27 -->\n<g id=\"node28\" class=\"node\">\n<title>27</title>\n<polygon fill=\"none\" stroke=\"#000000\" points=\"804.5,-989 698.5,-989 698.5,-921 804.5,-921 804.5,-989\"/>\n<text text-anchor=\"middle\" x=\"751.5\" y=\"-973.8\" font-family=\"Times,serif\" font-size=\"14.00\" fill=\"#000000\">X[0] &lt;= &#45;0.399</text>\n<text text-anchor=\"middle\" x=\"751.5\" y=\"-958.8\" font-family=\"Times,serif\" font-size=\"14.00\" fill=\"#000000\">gini = 0.375</text>\n<text text-anchor=\"middle\" x=\"751.5\" y=\"-943.8\" font-family=\"Times,serif\" font-size=\"14.00\" fill=\"#000000\">samples = 4</text>\n<text text-anchor=\"middle\" x=\"751.5\" y=\"-928.8\" font-family=\"Times,serif\" font-size=\"14.00\" fill=\"#000000\">value = [3, 1]</text>\n</g>\n<!-- 26&#45;&gt;27 -->\n<g id=\"edge27\" class=\"edge\">\n<title>26&#45;&gt;27</title>\n<path fill=\"none\" stroke=\"#000000\" d=\"M846.3313,-1024.9465C833.4281,-1015.4293 819.2855,-1004.9978 805.9517,-995.163\"/>\n<polygon fill=\"#000000\" stroke=\"#000000\" points=\"807.8977,-992.2492 797.7724,-989.13 803.7425,-997.8826 807.8977,-992.2492\"/>\n</g>\n<!-- 30 -->\n<g id=\"node31\" class=\"node\">\n<title>30</title>\n<polygon fill=\"none\" stroke=\"#000000\" points=\"947.5,-989 837.5,-989 837.5,-921 947.5,-921 947.5,-989\"/>\n<text text-anchor=\"middle\" x=\"892.5\" y=\"-973.8\" font-family=\"Times,serif\" font-size=\"14.00\" fill=\"#000000\">X[1] &lt;= &#45;0.019</text>\n<text text-anchor=\"middle\" x=\"892.5\" y=\"-958.8\" font-family=\"Times,serif\" font-size=\"14.00\" fill=\"#000000\">gini = 0.5</text>\n<text text-anchor=\"middle\" x=\"892.5\" y=\"-943.8\" font-family=\"Times,serif\" font-size=\"14.00\" fill=\"#000000\">samples = 79</text>\n<text text-anchor=\"middle\" x=\"892.5\" y=\"-928.8\" font-family=\"Times,serif\" font-size=\"14.00\" fill=\"#000000\">value = [40, 39]</text>\n</g>\n<!-- 26&#45;&gt;30 -->\n<g id=\"edge30\" class=\"edge\">\n<title>26&#45;&gt;30</title>\n<path fill=\"none\" stroke=\"#000000\" d=\"M892.5,-1024.9465C892.5,-1016.776 892.5,-1007.9318 892.5,-999.3697\"/>\n<polygon fill=\"#000000\" stroke=\"#000000\" points=\"896.0001,-999.13 892.5,-989.13 889.0001,-999.13 896.0001,-999.13\"/>\n</g>\n<!-- 28 -->\n<g id=\"node29\" class=\"node\">\n<title>28</title>\n<polygon fill=\"none\" stroke=\"#000000\" points=\"686,-877.5 591,-877.5 591,-824.5 686,-824.5 686,-877.5\"/>\n<text text-anchor=\"middle\" x=\"638.5\" y=\"-862.3\" font-family=\"Times,serif\" font-size=\"14.00\" fill=\"#000000\">gini = 0.0</text>\n<text text-anchor=\"middle\" x=\"638.5\" y=\"-847.3\" font-family=\"Times,serif\" font-size=\"14.00\" fill=\"#000000\">samples = 1</text>\n<text text-anchor=\"middle\" x=\"638.5\" y=\"-832.3\" font-family=\"Times,serif\" font-size=\"14.00\" fill=\"#000000\">value = [0, 1]</text>\n</g>\n<!-- 27&#45;&gt;28 -->\n<g id=\"edge28\" class=\"edge\">\n<title>27&#45;&gt;28</title>\n<path fill=\"none\" stroke=\"#000000\" d=\"M714.4996,-920.9465C701.8134,-909.2707 687.6322,-896.219 674.987,-884.5809\"/>\n<polygon fill=\"#000000\" stroke=\"#000000\" points=\"677.0673,-881.7389 667.3391,-877.5422 672.3269,-886.8895 677.0673,-881.7389\"/>\n</g>\n<!-- 29 -->\n<g id=\"node30\" class=\"node\">\n<title>29</title>\n<polygon fill=\"none\" stroke=\"#000000\" points=\"799,-877.5 704,-877.5 704,-824.5 799,-824.5 799,-877.5\"/>\n<text text-anchor=\"middle\" x=\"751.5\" y=\"-862.3\" font-family=\"Times,serif\" font-size=\"14.00\" fill=\"#000000\">gini = 0.0</text>\n<text text-anchor=\"middle\" x=\"751.5\" y=\"-847.3\" font-family=\"Times,serif\" font-size=\"14.00\" fill=\"#000000\">samples = 3</text>\n<text text-anchor=\"middle\" x=\"751.5\" y=\"-832.3\" font-family=\"Times,serif\" font-size=\"14.00\" fill=\"#000000\">value = [3, 0]</text>\n</g>\n<!-- 27&#45;&gt;29 -->\n<g id=\"edge29\" class=\"edge\">\n<title>27&#45;&gt;29</title>\n<path fill=\"none\" stroke=\"#000000\" d=\"M751.5,-920.9465C751.5,-910.2621 751.5,-898.4254 751.5,-887.5742\"/>\n<polygon fill=\"#000000\" stroke=\"#000000\" points=\"755.0001,-887.5421 751.5,-877.5422 748.0001,-887.5422 755.0001,-887.5421\"/>\n</g>\n<!-- 31 -->\n<g id=\"node32\" class=\"node\">\n<title>31</title>\n<polygon fill=\"none\" stroke=\"#000000\" points=\"927.5,-885 817.5,-885 817.5,-817 927.5,-817 927.5,-885\"/>\n<text text-anchor=\"middle\" x=\"872.5\" y=\"-869.8\" font-family=\"Times,serif\" font-size=\"14.00\" fill=\"#000000\">X[2] &lt;= &#45;1.068</text>\n<text text-anchor=\"middle\" x=\"872.5\" y=\"-854.8\" font-family=\"Times,serif\" font-size=\"14.00\" fill=\"#000000\">gini = 0.489</text>\n<text text-anchor=\"middle\" x=\"872.5\" y=\"-839.8\" font-family=\"Times,serif\" font-size=\"14.00\" fill=\"#000000\">samples = 33</text>\n<text text-anchor=\"middle\" x=\"872.5\" y=\"-824.8\" font-family=\"Times,serif\" font-size=\"14.00\" fill=\"#000000\">value = [19, 14]</text>\n</g>\n<!-- 30&#45;&gt;31 -->\n<g id=\"edge31\" class=\"edge\">\n<title>30&#45;&gt;31</title>\n<path fill=\"none\" stroke=\"#000000\" d=\"M885.9513,-920.9465C884.3627,-912.6863 882.6418,-903.7374 880.9784,-895.0875\"/>\n<polygon fill=\"#000000\" stroke=\"#000000\" points=\"884.389,-894.2891 879.0635,-885.13 877.515,-895.6111 884.389,-894.2891\"/>\n</g>\n<!-- 68 -->\n<g id=\"node69\" class=\"node\">\n<title>68</title>\n<polygon fill=\"none\" stroke=\"#000000\" points=\"1113.5,-885 1003.5,-885 1003.5,-817 1113.5,-817 1113.5,-885\"/>\n<text text-anchor=\"middle\" x=\"1058.5\" y=\"-869.8\" font-family=\"Times,serif\" font-size=\"14.00\" fill=\"#000000\">X[2] &lt;= &#45;0.902</text>\n<text text-anchor=\"middle\" x=\"1058.5\" y=\"-854.8\" font-family=\"Times,serif\" font-size=\"14.00\" fill=\"#000000\">gini = 0.496</text>\n<text text-anchor=\"middle\" x=\"1058.5\" y=\"-839.8\" font-family=\"Times,serif\" font-size=\"14.00\" fill=\"#000000\">samples = 46</text>\n<text text-anchor=\"middle\" x=\"1058.5\" y=\"-824.8\" font-family=\"Times,serif\" font-size=\"14.00\" fill=\"#000000\">value = [21, 25]</text>\n</g>\n<!-- 30&#45;&gt;68 -->\n<g id=\"edge68\" class=\"edge\">\n<title>30&#45;&gt;68</title>\n<path fill=\"none\" stroke=\"#000000\" d=\"M946.8546,-920.9465C962.3322,-911.2497 979.3246,-900.6039 995.2812,-890.6069\"/>\n<polygon fill=\"#000000\" stroke=\"#000000\" points=\"997.4072,-893.4052 1004.0233,-885.13 993.6908,-887.4732 997.4072,-893.4052\"/>\n</g>\n<!-- 32 -->\n<g id=\"node33\" class=\"node\">\n<title>32</title>\n<polygon fill=\"none\" stroke=\"#000000\" points=\"798,-773.5 703,-773.5 703,-720.5 798,-720.5 798,-773.5\"/>\n<text text-anchor=\"middle\" x=\"750.5\" y=\"-758.3\" font-family=\"Times,serif\" font-size=\"14.00\" fill=\"#000000\">gini = 0.0</text>\n<text text-anchor=\"middle\" x=\"750.5\" y=\"-743.3\" font-family=\"Times,serif\" font-size=\"14.00\" fill=\"#000000\">samples = 3</text>\n<text text-anchor=\"middle\" x=\"750.5\" y=\"-728.3\" font-family=\"Times,serif\" font-size=\"14.00\" fill=\"#000000\">value = [3, 0]</text>\n</g>\n<!-- 31&#45;&gt;32 -->\n<g id=\"edge32\" class=\"edge\">\n<title>31&#45;&gt;32</title>\n<path fill=\"none\" stroke=\"#000000\" d=\"M832.5526,-816.9465C818.7268,-805.1606 803.2564,-791.9726 789.5071,-780.2519\"/>\n<polygon fill=\"#000000\" stroke=\"#000000\" points=\"791.5168,-777.366 781.636,-773.5422 786.9756,-782.6931 791.5168,-777.366\"/>\n</g>\n<!-- 33 -->\n<g id=\"node34\" class=\"node\">\n<title>33</title>\n<polygon fill=\"none\" stroke=\"#000000\" points=\"926.5,-781 816.5,-781 816.5,-713 926.5,-713 926.5,-781\"/>\n<text text-anchor=\"middle\" x=\"871.5\" y=\"-765.8\" font-family=\"Times,serif\" font-size=\"14.00\" fill=\"#000000\">X[3] &lt;= 0.979</text>\n<text text-anchor=\"middle\" x=\"871.5\" y=\"-750.8\" font-family=\"Times,serif\" font-size=\"14.00\" fill=\"#000000\">gini = 0.498</text>\n<text text-anchor=\"middle\" x=\"871.5\" y=\"-735.8\" font-family=\"Times,serif\" font-size=\"14.00\" fill=\"#000000\">samples = 30</text>\n<text text-anchor=\"middle\" x=\"871.5\" y=\"-720.8\" font-family=\"Times,serif\" font-size=\"14.00\" fill=\"#000000\">value = [16, 14]</text>\n</g>\n<!-- 31&#45;&gt;33 -->\n<g id=\"edge33\" class=\"edge\">\n<title>31&#45;&gt;33</title>\n<path fill=\"none\" stroke=\"#000000\" d=\"M872.1726,-816.9465C872.094,-808.776 872.009,-799.9318 871.9266,-791.3697\"/>\n<polygon fill=\"#000000\" stroke=\"#000000\" points=\"875.4243,-791.0958 871.8282,-781.13 868.4246,-791.1632 875.4243,-791.0958\"/>\n</g>\n<!-- 34 -->\n<g id=\"node35\" class=\"node\">\n<title>34</title>\n<polygon fill=\"none\" stroke=\"#000000\" points=\"702.5,-677 592.5,-677 592.5,-609 702.5,-609 702.5,-677\"/>\n<text text-anchor=\"middle\" x=\"647.5\" y=\"-661.8\" font-family=\"Times,serif\" font-size=\"14.00\" fill=\"#000000\">X[2] &lt;= 0.093</text>\n<text text-anchor=\"middle\" x=\"647.5\" y=\"-646.8\" font-family=\"Times,serif\" font-size=\"14.00\" fill=\"#000000\">gini = 0.494</text>\n<text text-anchor=\"middle\" x=\"647.5\" y=\"-631.8\" font-family=\"Times,serif\" font-size=\"14.00\" fill=\"#000000\">samples = 27</text>\n<text text-anchor=\"middle\" x=\"647.5\" y=\"-616.8\" font-family=\"Times,serif\" font-size=\"14.00\" fill=\"#000000\">value = [15, 12]</text>\n</g>\n<!-- 33&#45;&gt;34 -->\n<g id=\"edge34\" class=\"edge\">\n<title>33&#45;&gt;34</title>\n<path fill=\"none\" stroke=\"#000000\" d=\"M816.3096,-717.8094C813.0016,-716.16 809.7135,-714.5457 806.5,-713 775.72,-698.195 741.0582,-682.7905 711.972,-670.214\"/>\n<polygon fill=\"#000000\" stroke=\"#000000\" points=\"713.3051,-666.9774 702.7363,-666.2344 710.535,-673.406 713.3051,-666.9774\"/>\n</g>\n<!-- 65 -->\n<g id=\"node66\" class=\"node\">\n<title>65</title>\n<polygon fill=\"none\" stroke=\"#000000\" points=\"920.5,-677 814.5,-677 814.5,-609 920.5,-609 920.5,-677\"/>\n<text text-anchor=\"middle\" x=\"867.5\" y=\"-661.8\" font-family=\"Times,serif\" font-size=\"14.00\" fill=\"#000000\">X[2] &lt;= &#45;0.239</text>\n<text text-anchor=\"middle\" x=\"867.5\" y=\"-646.8\" font-family=\"Times,serif\" font-size=\"14.00\" fill=\"#000000\">gini = 0.444</text>\n<text text-anchor=\"middle\" x=\"867.5\" y=\"-631.8\" font-family=\"Times,serif\" font-size=\"14.00\" fill=\"#000000\">samples = 3</text>\n<text text-anchor=\"middle\" x=\"867.5\" y=\"-616.8\" font-family=\"Times,serif\" font-size=\"14.00\" fill=\"#000000\">value = [1, 2]</text>\n</g>\n<!-- 33&#45;&gt;65 -->\n<g id=\"edge65\" class=\"edge\">\n<title>33&#45;&gt;65</title>\n<path fill=\"none\" stroke=\"#000000\" d=\"M870.1903,-712.9465C869.876,-704.776 869.5358,-695.9318 869.2065,-687.3697\"/>\n<polygon fill=\"#000000\" stroke=\"#000000\" points=\"872.6945,-686.9881 868.8127,-677.13 865.6997,-687.2572 872.6945,-686.9881\"/>\n</g>\n<!-- 35 -->\n<g id=\"node36\" class=\"node\">\n<title>35</title>\n<polygon fill=\"none\" stroke=\"#000000\" points=\"576.5,-573 470.5,-573 470.5,-505 576.5,-505 576.5,-573\"/>\n<text text-anchor=\"middle\" x=\"523.5\" y=\"-557.8\" font-family=\"Times,serif\" font-size=\"14.00\" fill=\"#000000\">X[2] &lt;= &#45;0.736</text>\n<text text-anchor=\"middle\" x=\"523.5\" y=\"-542.8\" font-family=\"Times,serif\" font-size=\"14.00\" fill=\"#000000\">gini = 0.476</text>\n<text text-anchor=\"middle\" x=\"523.5\" y=\"-527.8\" font-family=\"Times,serif\" font-size=\"14.00\" fill=\"#000000\">samples = 23</text>\n<text text-anchor=\"middle\" x=\"523.5\" y=\"-512.8\" font-family=\"Times,serif\" font-size=\"14.00\" fill=\"#000000\">value = [14, 9]</text>\n</g>\n<!-- 34&#45;&gt;35 -->\n<g id=\"edge35\" class=\"edge\">\n<title>34&#45;&gt;35</title>\n<path fill=\"none\" stroke=\"#000000\" d=\"M606.8978,-608.9465C595.7644,-599.6088 583.5817,-589.3911 572.0511,-579.7203\"/>\n<polygon fill=\"#000000\" stroke=\"#000000\" points=\"574.1046,-576.8745 564.1935,-573.13 569.6062,-582.2378 574.1046,-576.8745\"/>\n</g>\n<!-- 62 -->\n<g id=\"node63\" class=\"node\">\n<title>62</title>\n<polygon fill=\"none\" stroke=\"#000000\" points=\"700.5,-573 594.5,-573 594.5,-505 700.5,-505 700.5,-573\"/>\n<text text-anchor=\"middle\" x=\"647.5\" y=\"-557.8\" font-family=\"Times,serif\" font-size=\"14.00\" fill=\"#000000\">X[0] &lt;= &#45;0.399</text>\n<text text-anchor=\"middle\" x=\"647.5\" y=\"-542.8\" font-family=\"Times,serif\" font-size=\"14.00\" fill=\"#000000\">gini = 0.375</text>\n<text text-anchor=\"middle\" x=\"647.5\" y=\"-527.8\" font-family=\"Times,serif\" font-size=\"14.00\" fill=\"#000000\">samples = 4</text>\n<text text-anchor=\"middle\" x=\"647.5\" y=\"-512.8\" font-family=\"Times,serif\" font-size=\"14.00\" fill=\"#000000\">value = [1, 3]</text>\n</g>\n<!-- 34&#45;&gt;62 -->\n<g id=\"edge62\" class=\"edge\">\n<title>34&#45;&gt;62</title>\n<path fill=\"none\" stroke=\"#000000\" d=\"M647.5,-608.9465C647.5,-600.776 647.5,-591.9318 647.5,-583.3697\"/>\n<polygon fill=\"#000000\" stroke=\"#000000\" points=\"651.0001,-583.13 647.5,-573.13 644.0001,-583.13 651.0001,-583.13\"/>\n</g>\n<!-- 36 -->\n<g id=\"node37\" class=\"node\">\n<title>36</title>\n<polygon fill=\"none\" stroke=\"#000000\" points=\"386.5,-469 280.5,-469 280.5,-401 386.5,-401 386.5,-469\"/>\n<text text-anchor=\"middle\" x=\"333.5\" y=\"-453.8\" font-family=\"Times,serif\" font-size=\"14.00\" fill=\"#000000\">X[0] &lt;= &#45;0.399</text>\n<text text-anchor=\"middle\" x=\"333.5\" y=\"-438.8\" font-family=\"Times,serif\" font-size=\"14.00\" fill=\"#000000\">gini = 0.444</text>\n<text text-anchor=\"middle\" x=\"333.5\" y=\"-423.8\" font-family=\"Times,serif\" font-size=\"14.00\" fill=\"#000000\">samples = 9</text>\n<text text-anchor=\"middle\" x=\"333.5\" y=\"-408.8\" font-family=\"Times,serif\" font-size=\"14.00\" fill=\"#000000\">value = [6, 3]</text>\n</g>\n<!-- 35&#45;&gt;36 -->\n<g id=\"edge36\" class=\"edge\">\n<title>35&#45;&gt;36</title>\n<path fill=\"none\" stroke=\"#000000\" d=\"M470.3218,-509.8919C447.1533,-497.2102 419.8387,-482.2591 395.7321,-469.0639\"/>\n<polygon fill=\"#000000\" stroke=\"#000000\" points=\"397.1178,-465.8324 386.6654,-464.1011 393.7568,-471.9727 397.1178,-465.8324\"/>\n</g>\n<!-- 45 -->\n<g id=\"node46\" class=\"node\">\n<title>45</title>\n<polygon fill=\"none\" stroke=\"#000000\" points=\"576,-469 475,-469 475,-401 576,-401 576,-469\"/>\n<text text-anchor=\"middle\" x=\"525.5\" y=\"-453.8\" font-family=\"Times,serif\" font-size=\"14.00\" fill=\"#000000\">X[0] &lt;= 0.058</text>\n<text text-anchor=\"middle\" x=\"525.5\" y=\"-438.8\" font-family=\"Times,serif\" font-size=\"14.00\" fill=\"#000000\">gini = 0.49</text>\n<text text-anchor=\"middle\" x=\"525.5\" y=\"-423.8\" font-family=\"Times,serif\" font-size=\"14.00\" fill=\"#000000\">samples = 14</text>\n<text text-anchor=\"middle\" x=\"525.5\" y=\"-408.8\" font-family=\"Times,serif\" font-size=\"14.00\" fill=\"#000000\">value = [8, 6]</text>\n</g>\n<!-- 35&#45;&gt;45 -->\n<g id=\"edge45\" class=\"edge\">\n<title>35&#45;&gt;45</title>\n<path fill=\"none\" stroke=\"#000000\" d=\"M524.1549,-504.9465C524.312,-496.776 524.4821,-487.9318 524.6467,-479.3697\"/>\n<polygon fill=\"#000000\" stroke=\"#000000\" points=\"528.1506,-479.1955 524.8437,-469.13 521.1519,-479.0608 528.1506,-479.1955\"/>\n</g>\n<!-- 37 -->\n<g id=\"node38\" class=\"node\">\n<title>37</title>\n<polygon fill=\"none\" stroke=\"#000000\" points=\"208,-365 113,-365 113,-297 208,-297 208,-365\"/>\n<text text-anchor=\"middle\" x=\"160.5\" y=\"-349.8\" font-family=\"Times,serif\" font-size=\"14.00\" fill=\"#000000\">X[7] &lt;= 0.14</text>\n<text text-anchor=\"middle\" x=\"160.5\" y=\"-334.8\" font-family=\"Times,serif\" font-size=\"14.00\" fill=\"#000000\">gini = 0.5</text>\n<text text-anchor=\"middle\" x=\"160.5\" y=\"-319.8\" font-family=\"Times,serif\" font-size=\"14.00\" fill=\"#000000\">samples = 2</text>\n<text text-anchor=\"middle\" x=\"160.5\" y=\"-304.8\" font-family=\"Times,serif\" font-size=\"14.00\" fill=\"#000000\">value = [1, 1]</text>\n</g>\n<!-- 36&#45;&gt;37 -->\n<g id=\"edge37\" class=\"edge\">\n<title>36&#45;&gt;37</title>\n<path fill=\"none\" stroke=\"#000000\" d=\"M280.1827,-402.948C260.0288,-390.8323 237.0422,-377.0138 216.6373,-364.7473\"/>\n<polygon fill=\"#000000\" stroke=\"#000000\" points=\"218.4401,-361.7473 208.0662,-359.5947 214.8335,-367.7467 218.4401,-361.7473\"/>\n</g>\n<!-- 40 -->\n<g id=\"node41\" class=\"node\">\n<title>40</title>\n<polygon fill=\"none\" stroke=\"#000000\" points=\"381,-365 286,-365 286,-297 381,-297 381,-365\"/>\n<text text-anchor=\"middle\" x=\"333.5\" y=\"-349.8\" font-family=\"Times,serif\" font-size=\"14.00\" fill=\"#000000\">X[7] &lt;= 0.14</text>\n<text text-anchor=\"middle\" x=\"333.5\" y=\"-334.8\" font-family=\"Times,serif\" font-size=\"14.00\" fill=\"#000000\">gini = 0.408</text>\n<text text-anchor=\"middle\" x=\"333.5\" y=\"-319.8\" font-family=\"Times,serif\" font-size=\"14.00\" fill=\"#000000\">samples = 7</text>\n<text text-anchor=\"middle\" x=\"333.5\" y=\"-304.8\" font-family=\"Times,serif\" font-size=\"14.00\" fill=\"#000000\">value = [5, 2]</text>\n</g>\n<!-- 36&#45;&gt;40 -->\n<g id=\"edge40\" class=\"edge\">\n<title>36&#45;&gt;40</title>\n<path fill=\"none\" stroke=\"#000000\" d=\"M333.5,-400.9465C333.5,-392.776 333.5,-383.9318 333.5,-375.3697\"/>\n<polygon fill=\"#000000\" stroke=\"#000000\" points=\"337.0001,-375.13 333.5,-365.13 330.0001,-375.13 337.0001,-375.13\"/>\n</g>\n<!-- 38 -->\n<g id=\"node39\" class=\"node\">\n<title>38</title>\n<polygon fill=\"none\" stroke=\"#000000\" points=\"95,-253.5 0,-253.5 0,-200.5 95,-200.5 95,-253.5\"/>\n<text text-anchor=\"middle\" x=\"47.5\" y=\"-238.3\" font-family=\"Times,serif\" font-size=\"14.00\" fill=\"#000000\">gini = 0.0</text>\n<text text-anchor=\"middle\" x=\"47.5\" y=\"-223.3\" font-family=\"Times,serif\" font-size=\"14.00\" fill=\"#000000\">samples = 1</text>\n<text text-anchor=\"middle\" x=\"47.5\" y=\"-208.3\" font-family=\"Times,serif\" font-size=\"14.00\" fill=\"#000000\">value = [0, 1]</text>\n</g>\n<!-- 37&#45;&gt;38 -->\n<g id=\"edge38\" class=\"edge\">\n<title>37&#45;&gt;38</title>\n<path fill=\"none\" stroke=\"#000000\" d=\"M123.4996,-296.9465C110.8134,-285.2707 96.6322,-272.219 83.987,-260.5809\"/>\n<polygon fill=\"#000000\" stroke=\"#000000\" points=\"86.0673,-257.7389 76.3391,-253.5422 81.3269,-262.8895 86.0673,-257.7389\"/>\n</g>\n<!-- 39 -->\n<g id=\"node40\" class=\"node\">\n<title>39</title>\n<polygon fill=\"none\" stroke=\"#000000\" points=\"208,-253.5 113,-253.5 113,-200.5 208,-200.5 208,-253.5\"/>\n<text text-anchor=\"middle\" x=\"160.5\" y=\"-238.3\" font-family=\"Times,serif\" font-size=\"14.00\" fill=\"#000000\">gini = 0.0</text>\n<text text-anchor=\"middle\" x=\"160.5\" y=\"-223.3\" font-family=\"Times,serif\" font-size=\"14.00\" fill=\"#000000\">samples = 1</text>\n<text text-anchor=\"middle\" x=\"160.5\" y=\"-208.3\" font-family=\"Times,serif\" font-size=\"14.00\" fill=\"#000000\">value = [1, 0]</text>\n</g>\n<!-- 37&#45;&gt;39 -->\n<g id=\"edge39\" class=\"edge\">\n<title>37&#45;&gt;39</title>\n<path fill=\"none\" stroke=\"#000000\" d=\"M160.5,-296.9465C160.5,-286.2621 160.5,-274.4254 160.5,-263.5742\"/>\n<polygon fill=\"#000000\" stroke=\"#000000\" points=\"164.0001,-263.5421 160.5,-253.5422 157.0001,-263.5422 164.0001,-263.5421\"/>\n</g>\n<!-- 41 -->\n<g id=\"node42\" class=\"node\">\n<title>41</title>\n<polygon fill=\"none\" stroke=\"#000000\" points=\"321,-253.5 226,-253.5 226,-200.5 321,-200.5 321,-253.5\"/>\n<text text-anchor=\"middle\" x=\"273.5\" y=\"-238.3\" font-family=\"Times,serif\" font-size=\"14.00\" fill=\"#000000\">gini = 0.0</text>\n<text text-anchor=\"middle\" x=\"273.5\" y=\"-223.3\" font-family=\"Times,serif\" font-size=\"14.00\" fill=\"#000000\">samples = 2</text>\n<text text-anchor=\"middle\" x=\"273.5\" y=\"-208.3\" font-family=\"Times,serif\" font-size=\"14.00\" fill=\"#000000\">value = [2, 0]</text>\n</g>\n<!-- 40&#45;&gt;41 -->\n<g id=\"edge41\" class=\"edge\">\n<title>40&#45;&gt;41</title>\n<path fill=\"none\" stroke=\"#000000\" d=\"M313.8538,-296.9465C307.4355,-285.8215 300.2965,-273.4473 293.829,-262.237\"/>\n<polygon fill=\"#000000\" stroke=\"#000000\" points=\"296.8417,-260.455 288.8128,-253.5422 290.7784,-263.9531 296.8417,-260.455\"/>\n</g>\n<!-- 42 -->\n<g id=\"node43\" class=\"node\">\n<title>42</title>\n<polygon fill=\"none\" stroke=\"#000000\" points=\"445.5,-261 339.5,-261 339.5,-193 445.5,-193 445.5,-261\"/>\n<text text-anchor=\"middle\" x=\"392.5\" y=\"-245.8\" font-family=\"Times,serif\" font-size=\"14.00\" fill=\"#000000\">X[2] &lt;= &#45;0.902</text>\n<text text-anchor=\"middle\" x=\"392.5\" y=\"-230.8\" font-family=\"Times,serif\" font-size=\"14.00\" fill=\"#000000\">gini = 0.48</text>\n<text text-anchor=\"middle\" x=\"392.5\" y=\"-215.8\" font-family=\"Times,serif\" font-size=\"14.00\" fill=\"#000000\">samples = 5</text>\n<text text-anchor=\"middle\" x=\"392.5\" y=\"-200.8\" font-family=\"Times,serif\" font-size=\"14.00\" fill=\"#000000\">value = [3, 2]</text>\n</g>\n<!-- 40&#45;&gt;42 -->\n<g id=\"edge42\" class=\"edge\">\n<title>40&#45;&gt;42</title>\n<path fill=\"none\" stroke=\"#000000\" d=\"M352.8188,-296.9465C357.7087,-288.3271 363.0239,-278.9579 368.1278,-269.9611\"/>\n<polygon fill=\"#000000\" stroke=\"#000000\" points=\"371.2476,-271.5549 373.1378,-261.13 365.1592,-268.1008 371.2476,-271.5549\"/>\n</g>\n<!-- 43 -->\n<g id=\"node44\" class=\"node\">\n<title>43</title>\n<polygon fill=\"none\" stroke=\"#000000\" points=\"330,-149.5 235,-149.5 235,-96.5 330,-96.5 330,-149.5\"/>\n<text text-anchor=\"middle\" x=\"282.5\" y=\"-134.3\" font-family=\"Times,serif\" font-size=\"14.00\" fill=\"#000000\">gini = 0.444</text>\n<text text-anchor=\"middle\" x=\"282.5\" y=\"-119.3\" font-family=\"Times,serif\" font-size=\"14.00\" fill=\"#000000\">samples = 3</text>\n<text text-anchor=\"middle\" x=\"282.5\" y=\"-104.3\" font-family=\"Times,serif\" font-size=\"14.00\" fill=\"#000000\">value = [2, 1]</text>\n</g>\n<!-- 42&#45;&gt;43 -->\n<g id=\"edge43\" class=\"edge\">\n<title>42&#45;&gt;43</title>\n<path fill=\"none\" stroke=\"#000000\" d=\"M356.4819,-192.9465C344.1325,-181.2707 330.3278,-168.219 318.0183,-156.5809\"/>\n<polygon fill=\"#000000\" stroke=\"#000000\" points=\"320.2445,-153.869 310.5734,-149.5422 315.4354,-158.9556 320.2445,-153.869\"/>\n</g>\n<!-- 44 -->\n<g id=\"node45\" class=\"node\">\n<title>44</title>\n<polygon fill=\"none\" stroke=\"#000000\" points=\"443,-149.5 348,-149.5 348,-96.5 443,-96.5 443,-149.5\"/>\n<text text-anchor=\"middle\" x=\"395.5\" y=\"-134.3\" font-family=\"Times,serif\" font-size=\"14.00\" fill=\"#000000\">gini = 0.5</text>\n<text text-anchor=\"middle\" x=\"395.5\" y=\"-119.3\" font-family=\"Times,serif\" font-size=\"14.00\" fill=\"#000000\">samples = 2</text>\n<text text-anchor=\"middle\" x=\"395.5\" y=\"-104.3\" font-family=\"Times,serif\" font-size=\"14.00\" fill=\"#000000\">value = [1, 1]</text>\n</g>\n<!-- 42&#45;&gt;44 -->\n<g id=\"edge44\" class=\"edge\">\n<title>42&#45;&gt;44</title>\n<path fill=\"none\" stroke=\"#000000\" d=\"M393.4823,-192.9465C393.7905,-182.2621 394.132,-170.4254 394.445,-159.5742\"/>\n<polygon fill=\"#000000\" stroke=\"#000000\" points=\"397.9445,-159.639 394.7344,-149.5422 390.9474,-159.4371 397.9445,-159.639\"/>\n</g>\n<!-- 46 -->\n<g id=\"node47\" class=\"node\">\n<title>46</title>\n<polygon fill=\"none\" stroke=\"#000000\" points=\"578.5,-365 472.5,-365 472.5,-297 578.5,-297 578.5,-365\"/>\n<text text-anchor=\"middle\" x=\"525.5\" y=\"-349.8\" font-family=\"Times,serif\" font-size=\"14.00\" fill=\"#000000\">X[0] &lt;= &#45;0.857</text>\n<text text-anchor=\"middle\" x=\"525.5\" y=\"-334.8\" font-family=\"Times,serif\" font-size=\"14.00\" fill=\"#000000\">gini = 0.469</text>\n<text text-anchor=\"middle\" x=\"525.5\" y=\"-319.8\" font-family=\"Times,serif\" font-size=\"14.00\" fill=\"#000000\">samples = 8</text>\n<text text-anchor=\"middle\" x=\"525.5\" y=\"-304.8\" font-family=\"Times,serif\" font-size=\"14.00\" fill=\"#000000\">value = [5, 3]</text>\n</g>\n<!-- 45&#45;&gt;46 -->\n<g id=\"edge46\" class=\"edge\">\n<title>45&#45;&gt;46</title>\n<path fill=\"none\" stroke=\"#000000\" d=\"M525.5,-400.9465C525.5,-392.776 525.5,-383.9318 525.5,-375.3697\"/>\n<polygon fill=\"#000000\" stroke=\"#000000\" points=\"529.0001,-375.13 525.5,-365.13 522.0001,-375.13 529.0001,-375.13\"/>\n</g>\n<!-- 55 -->\n<g id=\"node56\" class=\"node\">\n<title>55</title>\n<polygon fill=\"none\" stroke=\"#000000\" points=\"801.5,-365 695.5,-365 695.5,-297 801.5,-297 801.5,-365\"/>\n<text text-anchor=\"middle\" x=\"748.5\" y=\"-349.8\" font-family=\"Times,serif\" font-size=\"14.00\" fill=\"#000000\">X[2] &lt;= &#45;0.404</text>\n<text text-anchor=\"middle\" x=\"748.5\" y=\"-334.8\" font-family=\"Times,serif\" font-size=\"14.00\" fill=\"#000000\">gini = 0.5</text>\n<text text-anchor=\"middle\" x=\"748.5\" y=\"-319.8\" font-family=\"Times,serif\" font-size=\"14.00\" fill=\"#000000\">samples = 6</text>\n<text text-anchor=\"middle\" x=\"748.5\" y=\"-304.8\" font-family=\"Times,serif\" font-size=\"14.00\" fill=\"#000000\">value = [3, 3]</text>\n</g>\n<!-- 45&#45;&gt;55 -->\n<g id=\"edge55\" class=\"edge\">\n<title>45&#45;&gt;55</title>\n<path fill=\"none\" stroke=\"#000000\" d=\"M576.2023,-407.1724C580.3418,-405.0426 584.4782,-402.9609 588.5,-401 620.2233,-385.5329 656.1775,-369.659 685.9563,-356.9461\"/>\n<polygon fill=\"#000000\" stroke=\"#000000\" points=\"687.5607,-360.0673 695.3945,-352.9342 684.8222,-353.6251 687.5607,-360.0673\"/>\n</g>\n<!-- 47 -->\n<g id=\"node48\" class=\"node\">\n<title>47</title>\n<polygon fill=\"none\" stroke=\"#000000\" points=\"569.5,-261 463.5,-261 463.5,-193 569.5,-193 569.5,-261\"/>\n<text text-anchor=\"middle\" x=\"516.5\" y=\"-245.8\" font-family=\"Times,serif\" font-size=\"14.00\" fill=\"#000000\">X[2] &lt;= &#45;0.404</text>\n<text text-anchor=\"middle\" x=\"516.5\" y=\"-230.8\" font-family=\"Times,serif\" font-size=\"14.00\" fill=\"#000000\">gini = 0.49</text>\n<text text-anchor=\"middle\" x=\"516.5\" y=\"-215.8\" font-family=\"Times,serif\" font-size=\"14.00\" fill=\"#000000\">samples = 7</text>\n<text text-anchor=\"middle\" x=\"516.5\" y=\"-200.8\" font-family=\"Times,serif\" font-size=\"14.00\" fill=\"#000000\">value = [4, 3]</text>\n</g>\n<!-- 46&#45;&gt;47 -->\n<g id=\"edge47\" class=\"edge\">\n<title>46&#45;&gt;47</title>\n<path fill=\"none\" stroke=\"#000000\" d=\"M522.5531,-296.9465C521.846,-288.776 521.0806,-279.9318 520.3397,-271.3697\"/>\n<polygon fill=\"#000000\" stroke=\"#000000\" points=\"523.8028,-270.791 519.4536,-261.13 516.8288,-271.3945 523.8028,-270.791\"/>\n</g>\n<!-- 54 -->\n<g id=\"node55\" class=\"node\">\n<title>54</title>\n<polygon fill=\"none\" stroke=\"#000000\" points=\"683,-253.5 588,-253.5 588,-200.5 683,-200.5 683,-253.5\"/>\n<text text-anchor=\"middle\" x=\"635.5\" y=\"-238.3\" font-family=\"Times,serif\" font-size=\"14.00\" fill=\"#000000\">gini = 0.0</text>\n<text text-anchor=\"middle\" x=\"635.5\" y=\"-223.3\" font-family=\"Times,serif\" font-size=\"14.00\" fill=\"#000000\">samples = 1</text>\n<text text-anchor=\"middle\" x=\"635.5\" y=\"-208.3\" font-family=\"Times,serif\" font-size=\"14.00\" fill=\"#000000\">value = [1, 0]</text>\n</g>\n<!-- 46&#45;&gt;54 -->\n<g id=\"edge54\" class=\"edge\">\n<title>46&#45;&gt;54</title>\n<path fill=\"none\" stroke=\"#000000\" d=\"M561.5181,-296.9465C573.8675,-285.2707 587.6722,-272.219 599.9817,-260.5809\"/>\n<polygon fill=\"#000000\" stroke=\"#000000\" points=\"602.5646,-262.9556 607.4266,-253.5422 597.7555,-257.869 602.5646,-262.9556\"/>\n</g>\n<!-- 48 -->\n<g id=\"node49\" class=\"node\">\n<title>48</title>\n<polygon fill=\"none\" stroke=\"#000000\" points=\"561,-157 466,-157 466,-89 561,-89 561,-157\"/>\n<text text-anchor=\"middle\" x=\"513.5\" y=\"-141.8\" font-family=\"Times,serif\" font-size=\"14.00\" fill=\"#000000\">X[7] &lt;= 0.14</text>\n<text text-anchor=\"middle\" x=\"513.5\" y=\"-126.8\" font-family=\"Times,serif\" font-size=\"14.00\" fill=\"#000000\">gini = 0.444</text>\n<text text-anchor=\"middle\" x=\"513.5\" y=\"-111.8\" font-family=\"Times,serif\" font-size=\"14.00\" fill=\"#000000\">samples = 3</text>\n<text text-anchor=\"middle\" x=\"513.5\" y=\"-96.8\" font-family=\"Times,serif\" font-size=\"14.00\" fill=\"#000000\">value = [1, 2]</text>\n</g>\n<!-- 47&#45;&gt;48 -->\n<g id=\"edge48\" class=\"edge\">\n<title>47&#45;&gt;48</title>\n<path fill=\"none\" stroke=\"#000000\" d=\"M515.5177,-192.9465C515.282,-184.776 515.0269,-175.9318 514.7799,-167.3697\"/>\n<polygon fill=\"#000000\" stroke=\"#000000\" points=\"518.2715,-167.0249 514.4845,-157.13 511.2744,-167.2268 518.2715,-167.0249\"/>\n</g>\n<!-- 51 -->\n<g id=\"node52\" class=\"node\">\n<title>51</title>\n<polygon fill=\"none\" stroke=\"#000000\" points=\"680,-157 579,-157 579,-89 680,-89 680,-157\"/>\n<text text-anchor=\"middle\" x=\"629.5\" y=\"-141.8\" font-family=\"Times,serif\" font-size=\"14.00\" fill=\"#000000\">X[6] &lt;= 0.128</text>\n<text text-anchor=\"middle\" x=\"629.5\" y=\"-126.8\" font-family=\"Times,serif\" font-size=\"14.00\" fill=\"#000000\">gini = 0.375</text>\n<text text-anchor=\"middle\" x=\"629.5\" y=\"-111.8\" font-family=\"Times,serif\" font-size=\"14.00\" fill=\"#000000\">samples = 4</text>\n<text text-anchor=\"middle\" x=\"629.5\" y=\"-96.8\" font-family=\"Times,serif\" font-size=\"14.00\" fill=\"#000000\">value = [3, 1]</text>\n</g>\n<!-- 47&#45;&gt;51 -->\n<g id=\"edge51\" class=\"edge\">\n<title>47&#45;&gt;51</title>\n<path fill=\"none\" stroke=\"#000000\" d=\"M553.5004,-192.9465C563.5486,-183.6986 574.5347,-173.5876 584.9526,-163.9994\"/>\n<polygon fill=\"#000000\" stroke=\"#000000\" points=\"587.4286,-166.4773 592.4164,-157.13 582.6882,-161.3267 587.4286,-166.4773\"/>\n</g>\n<!-- 49 -->\n<g id=\"node50\" class=\"node\">\n<title>49</title>\n<polygon fill=\"none\" stroke=\"#000000\" points=\"449,-53 354,-53 354,0 449,0 449,-53\"/>\n<text text-anchor=\"middle\" x=\"401.5\" y=\"-37.8\" font-family=\"Times,serif\" font-size=\"14.00\" fill=\"#000000\">gini = 0.0</text>\n<text text-anchor=\"middle\" x=\"401.5\" y=\"-22.8\" font-family=\"Times,serif\" font-size=\"14.00\" fill=\"#000000\">samples = 1</text>\n<text text-anchor=\"middle\" x=\"401.5\" y=\"-7.8\" font-family=\"Times,serif\" font-size=\"14.00\" fill=\"#000000\">value = [1, 0]</text>\n</g>\n<!-- 48&#45;&gt;49 -->\n<g id=\"edge49\" class=\"edge\">\n<title>48&#45;&gt;49</title>\n<path fill=\"none\" stroke=\"#000000\" d=\"M474.013,-88.9777C463.0664,-79.546 451.1953,-69.3178 440.2889,-59.9208\"/>\n<polygon fill=\"#000000\" stroke=\"#000000\" points=\"442.4053,-57.1244 432.5449,-53.2485 437.8361,-62.4274 442.4053,-57.1244\"/>\n</g>\n<!-- 50 -->\n<g id=\"node51\" class=\"node\">\n<title>50</title>\n<polygon fill=\"none\" stroke=\"#000000\" points=\"562,-53 467,-53 467,0 562,0 562,-53\"/>\n<text text-anchor=\"middle\" x=\"514.5\" y=\"-37.8\" font-family=\"Times,serif\" font-size=\"14.00\" fill=\"#000000\">gini = 0.0</text>\n<text text-anchor=\"middle\" x=\"514.5\" y=\"-22.8\" font-family=\"Times,serif\" font-size=\"14.00\" fill=\"#000000\">samples = 2</text>\n<text text-anchor=\"middle\" x=\"514.5\" y=\"-7.8\" font-family=\"Times,serif\" font-size=\"14.00\" fill=\"#000000\">value = [0, 2]</text>\n</g>\n<!-- 48&#45;&gt;50 -->\n<g id=\"edge50\" class=\"edge\">\n<title>48&#45;&gt;50</title>\n<path fill=\"none\" stroke=\"#000000\" d=\"M513.8526,-88.9777C513.938,-80.7364 514.0297,-71.887 514.1164,-63.5153\"/>\n<polygon fill=\"#000000\" stroke=\"#000000\" points=\"517.6189,-63.2842 514.2228,-53.2485 510.6193,-63.2116 517.6189,-63.2842\"/>\n</g>\n<!-- 52 -->\n<g id=\"node53\" class=\"node\">\n<title>52</title>\n<polygon fill=\"none\" stroke=\"#000000\" points=\"676,-53 581,-53 581,0 676,0 676,-53\"/>\n<text text-anchor=\"middle\" x=\"628.5\" y=\"-37.8\" font-family=\"Times,serif\" font-size=\"14.00\" fill=\"#000000\">gini = 0.0</text>\n<text text-anchor=\"middle\" x=\"628.5\" y=\"-22.8\" font-family=\"Times,serif\" font-size=\"14.00\" fill=\"#000000\">samples = 2</text>\n<text text-anchor=\"middle\" x=\"628.5\" y=\"-7.8\" font-family=\"Times,serif\" font-size=\"14.00\" fill=\"#000000\">value = [2, 0]</text>\n</g>\n<!-- 51&#45;&gt;52 -->\n<g id=\"edge52\" class=\"edge\">\n<title>51&#45;&gt;52</title>\n<path fill=\"none\" stroke=\"#000000\" d=\"M629.1474,-88.9777C629.062,-80.7364 628.9703,-71.887 628.8836,-63.5153\"/>\n<polygon fill=\"#000000\" stroke=\"#000000\" points=\"632.3807,-63.2116 628.7772,-53.2485 625.3811,-63.2842 632.3807,-63.2116\"/>\n</g>\n<!-- 53 -->\n<g id=\"node54\" class=\"node\">\n<title>53</title>\n<polygon fill=\"none\" stroke=\"#000000\" points=\"789,-53 694,-53 694,0 789,0 789,-53\"/>\n<text text-anchor=\"middle\" x=\"741.5\" y=\"-37.8\" font-family=\"Times,serif\" font-size=\"14.00\" fill=\"#000000\">gini = 0.5</text>\n<text text-anchor=\"middle\" x=\"741.5\" y=\"-22.8\" font-family=\"Times,serif\" font-size=\"14.00\" fill=\"#000000\">samples = 2</text>\n<text text-anchor=\"middle\" x=\"741.5\" y=\"-7.8\" font-family=\"Times,serif\" font-size=\"14.00\" fill=\"#000000\">value = [1, 1]</text>\n</g>\n<!-- 51&#45;&gt;53 -->\n<g id=\"edge53\" class=\"edge\">\n<title>51&#45;&gt;53</title>\n<path fill=\"none\" stroke=\"#000000\" d=\"M668.987,-88.9777C679.9336,-79.546 691.8047,-69.3178 702.7111,-59.9208\"/>\n<polygon fill=\"#000000\" stroke=\"#000000\" points=\"705.1639,-62.4274 710.4551,-53.2485 700.5947,-57.1244 705.1639,-62.4274\"/>\n</g>\n<!-- 56 -->\n<g id=\"node57\" class=\"node\">\n<title>56</title>\n<polygon fill=\"none\" stroke=\"#000000\" points=\"796,-253.5 701,-253.5 701,-200.5 796,-200.5 796,-253.5\"/>\n<text text-anchor=\"middle\" x=\"748.5\" y=\"-238.3\" font-family=\"Times,serif\" font-size=\"14.00\" fill=\"#000000\">gini = 0.0</text>\n<text text-anchor=\"middle\" x=\"748.5\" y=\"-223.3\" font-family=\"Times,serif\" font-size=\"14.00\" fill=\"#000000\">samples = 1</text>\n<text text-anchor=\"middle\" x=\"748.5\" y=\"-208.3\" font-family=\"Times,serif\" font-size=\"14.00\" fill=\"#000000\">value = [1, 0]</text>\n</g>\n<!-- 55&#45;&gt;56 -->\n<g id=\"edge56\" class=\"edge\">\n<title>55&#45;&gt;56</title>\n<path fill=\"none\" stroke=\"#000000\" d=\"M748.5,-296.9465C748.5,-286.2621 748.5,-274.4254 748.5,-263.5742\"/>\n<polygon fill=\"#000000\" stroke=\"#000000\" points=\"752.0001,-263.5421 748.5,-253.5422 745.0001,-263.5422 752.0001,-263.5421\"/>\n</g>\n<!-- 57 -->\n<g id=\"node58\" class=\"node\">\n<title>57</title>\n<polygon fill=\"none\" stroke=\"#000000\" points=\"920.5,-261 814.5,-261 814.5,-193 920.5,-193 920.5,-261\"/>\n<text text-anchor=\"middle\" x=\"867.5\" y=\"-245.8\" font-family=\"Times,serif\" font-size=\"14.00\" fill=\"#000000\">X[2] &lt;= &#45;0.239</text>\n<text text-anchor=\"middle\" x=\"867.5\" y=\"-230.8\" font-family=\"Times,serif\" font-size=\"14.00\" fill=\"#000000\">gini = 0.48</text>\n<text text-anchor=\"middle\" x=\"867.5\" y=\"-215.8\" font-family=\"Times,serif\" font-size=\"14.00\" fill=\"#000000\">samples = 5</text>\n<text text-anchor=\"middle\" x=\"867.5\" y=\"-200.8\" font-family=\"Times,serif\" font-size=\"14.00\" fill=\"#000000\">value = [2, 3]</text>\n</g>\n<!-- 55&#45;&gt;57 -->\n<g id=\"edge57\" class=\"edge\">\n<title>55&#45;&gt;57</title>\n<path fill=\"none\" stroke=\"#000000\" d=\"M787.4651,-296.9465C798.1495,-287.6088 809.8409,-277.3911 820.9066,-267.7203\"/>\n<polygon fill=\"#000000\" stroke=\"#000000\" points=\"823.2209,-270.346 828.4474,-261.13 818.6145,-265.0752 823.2209,-270.346\"/>\n</g>\n<!-- 58 -->\n<g id=\"node59\" class=\"node\">\n<title>58</title>\n<polygon fill=\"none\" stroke=\"#000000\" points=\"837,-149.5 742,-149.5 742,-96.5 837,-96.5 837,-149.5\"/>\n<text text-anchor=\"middle\" x=\"789.5\" y=\"-134.3\" font-family=\"Times,serif\" font-size=\"14.00\" fill=\"#000000\">gini = 0.0</text>\n<text text-anchor=\"middle\" x=\"789.5\" y=\"-119.3\" font-family=\"Times,serif\" font-size=\"14.00\" fill=\"#000000\">samples = 2</text>\n<text text-anchor=\"middle\" x=\"789.5\" y=\"-104.3\" font-family=\"Times,serif\" font-size=\"14.00\" fill=\"#000000\">value = [0, 2]</text>\n</g>\n<!-- 57&#45;&gt;58 -->\n<g id=\"edge58\" class=\"edge\">\n<title>57&#45;&gt;58</title>\n<path fill=\"none\" stroke=\"#000000\" d=\"M841.9599,-192.9465C833.4509,-181.6012 823.9675,-168.9567 815.4293,-157.5724\"/>\n<polygon fill=\"#000000\" stroke=\"#000000\" points=\"818.2067,-155.4422 809.4066,-149.5422 812.6067,-159.6422 818.2067,-155.4422\"/>\n</g>\n<!-- 59 -->\n<g id=\"node60\" class=\"node\">\n<title>59</title>\n<polygon fill=\"none\" stroke=\"#000000\" points=\"961.5,-157 855.5,-157 855.5,-89 961.5,-89 961.5,-157\"/>\n<text text-anchor=\"middle\" x=\"908.5\" y=\"-141.8\" font-family=\"Times,serif\" font-size=\"14.00\" fill=\"#000000\">X[2] &lt;= &#45;0.073</text>\n<text text-anchor=\"middle\" x=\"908.5\" y=\"-126.8\" font-family=\"Times,serif\" font-size=\"14.00\" fill=\"#000000\">gini = 0.444</text>\n<text text-anchor=\"middle\" x=\"908.5\" y=\"-111.8\" font-family=\"Times,serif\" font-size=\"14.00\" fill=\"#000000\">samples = 3</text>\n<text text-anchor=\"middle\" x=\"908.5\" y=\"-96.8\" font-family=\"Times,serif\" font-size=\"14.00\" fill=\"#000000\">value = [2, 1]</text>\n</g>\n<!-- 57&#45;&gt;59 -->\n<g id=\"edge59\" class=\"edge\">\n<title>57&#45;&gt;59</title>\n<path fill=\"none\" stroke=\"#000000\" d=\"M880.9249,-192.9465C884.2522,-184.5067 887.8628,-175.3479 891.3416,-166.5239\"/>\n<polygon fill=\"#000000\" stroke=\"#000000\" points=\"894.6334,-167.7168 895.0449,-157.13 888.1211,-165.1495 894.6334,-167.7168\"/>\n</g>\n<!-- 60 -->\n<g id=\"node61\" class=\"node\">\n<title>60</title>\n<polygon fill=\"none\" stroke=\"#000000\" points=\"906,-53 811,-53 811,0 906,0 906,-53\"/>\n<text text-anchor=\"middle\" x=\"858.5\" y=\"-37.8\" font-family=\"Times,serif\" font-size=\"14.00\" fill=\"#000000\">gini = 0.0</text>\n<text text-anchor=\"middle\" x=\"858.5\" y=\"-22.8\" font-family=\"Times,serif\" font-size=\"14.00\" fill=\"#000000\">samples = 1</text>\n<text text-anchor=\"middle\" x=\"858.5\" y=\"-7.8\" font-family=\"Times,serif\" font-size=\"14.00\" fill=\"#000000\">value = [1, 0]</text>\n</g>\n<!-- 59&#45;&gt;60 -->\n<g id=\"edge60\" class=\"edge\">\n<title>59&#45;&gt;60</title>\n<path fill=\"none\" stroke=\"#000000\" d=\"M890.8719,-88.9777C886.412,-80.3702 881.6084,-71.0992 877.1021,-62.402\"/>\n<polygon fill=\"#000000\" stroke=\"#000000\" points=\"880.0675,-60.5172 872.3593,-53.2485 873.8522,-63.7376 880.0675,-60.5172\"/>\n</g>\n<!-- 61 -->\n<g id=\"node62\" class=\"node\">\n<title>61</title>\n<polygon fill=\"none\" stroke=\"#000000\" points=\"1019,-53 924,-53 924,0 1019,0 1019,-53\"/>\n<text text-anchor=\"middle\" x=\"971.5\" y=\"-37.8\" font-family=\"Times,serif\" font-size=\"14.00\" fill=\"#000000\">gini = 0.5</text>\n<text text-anchor=\"middle\" x=\"971.5\" y=\"-22.8\" font-family=\"Times,serif\" font-size=\"14.00\" fill=\"#000000\">samples = 2</text>\n<text text-anchor=\"middle\" x=\"971.5\" y=\"-7.8\" font-family=\"Times,serif\" font-size=\"14.00\" fill=\"#000000\">value = [1, 1]</text>\n</g>\n<!-- 59&#45;&gt;61 -->\n<g id=\"edge61\" class=\"edge\">\n<title>59&#45;&gt;61</title>\n<path fill=\"none\" stroke=\"#000000\" d=\"M930.7114,-88.9777C936.4504,-80.187 942.6412,-70.7044 948.4233,-61.8477\"/>\n<polygon fill=\"#000000\" stroke=\"#000000\" points=\"951.5013,-63.5354 954.0373,-53.2485 945.6398,-59.7087 951.5013,-63.5354\"/>\n</g>\n<!-- 63 -->\n<g id=\"node64\" class=\"node\">\n<title>63</title>\n<polygon fill=\"none\" stroke=\"#000000\" points=\"693,-461.5 598,-461.5 598,-408.5 693,-408.5 693,-461.5\"/>\n<text text-anchor=\"middle\" x=\"645.5\" y=\"-446.3\" font-family=\"Times,serif\" font-size=\"14.00\" fill=\"#000000\">gini = 0.0</text>\n<text text-anchor=\"middle\" x=\"645.5\" y=\"-431.3\" font-family=\"Times,serif\" font-size=\"14.00\" fill=\"#000000\">samples = 2</text>\n<text text-anchor=\"middle\" x=\"645.5\" y=\"-416.3\" font-family=\"Times,serif\" font-size=\"14.00\" fill=\"#000000\">value = [0, 2]</text>\n</g>\n<!-- 62&#45;&gt;63 -->\n<g id=\"edge63\" class=\"edge\">\n<title>62&#45;&gt;63</title>\n<path fill=\"none\" stroke=\"#000000\" d=\"M646.8451,-504.9465C646.6397,-494.2621 646.412,-482.4254 646.2034,-471.5742\"/>\n<polygon fill=\"#000000\" stroke=\"#000000\" points=\"649.7021,-471.473 646.0104,-461.5422 642.7034,-471.6076 649.7021,-471.473\"/>\n</g>\n<!-- 64 -->\n<g id=\"node65\" class=\"node\">\n<title>64</title>\n<polygon fill=\"none\" stroke=\"#000000\" points=\"806,-461.5 711,-461.5 711,-408.5 806,-408.5 806,-461.5\"/>\n<text text-anchor=\"middle\" x=\"758.5\" y=\"-446.3\" font-family=\"Times,serif\" font-size=\"14.00\" fill=\"#000000\">gini = 0.5</text>\n<text text-anchor=\"middle\" x=\"758.5\" y=\"-431.3\" font-family=\"Times,serif\" font-size=\"14.00\" fill=\"#000000\">samples = 2</text>\n<text text-anchor=\"middle\" x=\"758.5\" y=\"-416.3\" font-family=\"Times,serif\" font-size=\"14.00\" fill=\"#000000\">value = [1, 1]</text>\n</g>\n<!-- 62&#45;&gt;64 -->\n<g id=\"edge64\" class=\"edge\">\n<title>62&#45;&gt;64</title>\n<path fill=\"none\" stroke=\"#000000\" d=\"M683.8456,-504.9465C696.3072,-493.2707 710.2374,-480.219 722.6588,-468.5809\"/>\n<polygon fill=\"#000000\" stroke=\"#000000\" points=\"725.2669,-470.9335 730.1713,-461.5422 720.4809,-465.8253 725.2669,-470.9335\"/>\n</g>\n<!-- 66 -->\n<g id=\"node67\" class=\"node\">\n<title>66</title>\n<polygon fill=\"none\" stroke=\"#000000\" points=\"814,-565.5 719,-565.5 719,-512.5 814,-512.5 814,-565.5\"/>\n<text text-anchor=\"middle\" x=\"766.5\" y=\"-550.3\" font-family=\"Times,serif\" font-size=\"14.00\" fill=\"#000000\">gini = 0.0</text>\n<text text-anchor=\"middle\" x=\"766.5\" y=\"-535.3\" font-family=\"Times,serif\" font-size=\"14.00\" fill=\"#000000\">samples = 2</text>\n<text text-anchor=\"middle\" x=\"766.5\" y=\"-520.3\" font-family=\"Times,serif\" font-size=\"14.00\" fill=\"#000000\">value = [0, 2]</text>\n</g>\n<!-- 65&#45;&gt;66 -->\n<g id=\"edge66\" class=\"edge\">\n<title>65&#45;&gt;66</title>\n<path fill=\"none\" stroke=\"#000000\" d=\"M834.4288,-608.9465C823.1968,-597.3809 810.6537,-584.4652 799.4325,-572.9107\"/>\n<polygon fill=\"#000000\" stroke=\"#000000\" points=\"801.7542,-570.2776 792.2765,-565.5422 796.7326,-575.1544 801.7542,-570.2776\"/>\n</g>\n<!-- 67 -->\n<g id=\"node68\" class=\"node\">\n<title>67</title>\n<polygon fill=\"none\" stroke=\"#000000\" points=\"927,-565.5 832,-565.5 832,-512.5 927,-512.5 927,-565.5\"/>\n<text text-anchor=\"middle\" x=\"879.5\" y=\"-550.3\" font-family=\"Times,serif\" font-size=\"14.00\" fill=\"#000000\">gini = 0.0</text>\n<text text-anchor=\"middle\" x=\"879.5\" y=\"-535.3\" font-family=\"Times,serif\" font-size=\"14.00\" fill=\"#000000\">samples = 1</text>\n<text text-anchor=\"middle\" x=\"879.5\" y=\"-520.3\" font-family=\"Times,serif\" font-size=\"14.00\" fill=\"#000000\">value = [1, 0]</text>\n</g>\n<!-- 65&#45;&gt;67 -->\n<g id=\"edge67\" class=\"edge\">\n<title>65&#45;&gt;67</title>\n<path fill=\"none\" stroke=\"#000000\" d=\"M871.4292,-608.9465C872.6621,-598.2621 874.0278,-586.4254 875.2799,-575.5742\"/>\n<polygon fill=\"#000000\" stroke=\"#000000\" points=\"878.768,-575.8775 876.4374,-565.5422 871.8142,-575.075 878.768,-575.8775\"/>\n</g>\n<!-- 69 -->\n<g id=\"node70\" class=\"node\">\n<title>69</title>\n<polygon fill=\"none\" stroke=\"#000000\" points=\"1109,-781 1008,-781 1008,-713 1109,-713 1109,-781\"/>\n<text text-anchor=\"middle\" x=\"1058.5\" y=\"-765.8\" font-family=\"Times,serif\" font-size=\"14.00\" fill=\"#000000\">X[6] &lt;= 0.128</text>\n<text text-anchor=\"middle\" x=\"1058.5\" y=\"-750.8\" font-family=\"Times,serif\" font-size=\"14.00\" fill=\"#000000\">gini = 0.32</text>\n<text text-anchor=\"middle\" x=\"1058.5\" y=\"-735.8\" font-family=\"Times,serif\" font-size=\"14.00\" fill=\"#000000\">samples = 10</text>\n<text text-anchor=\"middle\" x=\"1058.5\" y=\"-720.8\" font-family=\"Times,serif\" font-size=\"14.00\" fill=\"#000000\">value = [2, 8]</text>\n</g>\n<!-- 68&#45;&gt;69 -->\n<g id=\"edge69\" class=\"edge\">\n<title>68&#45;&gt;69</title>\n<path fill=\"none\" stroke=\"#000000\" d=\"M1058.5,-816.9465C1058.5,-808.776 1058.5,-799.9318 1058.5,-791.3697\"/>\n<polygon fill=\"#000000\" stroke=\"#000000\" points=\"1062.0001,-791.13 1058.5,-781.13 1055.0001,-791.13 1062.0001,-791.13\"/>\n</g>\n<!-- 74 -->\n<g id=\"node75\" class=\"node\">\n<title>74</title>\n<polygon fill=\"none\" stroke=\"#000000\" points=\"1319.5,-781 1209.5,-781 1209.5,-713 1319.5,-713 1319.5,-781\"/>\n<text text-anchor=\"middle\" x=\"1264.5\" y=\"-765.8\" font-family=\"Times,serif\" font-size=\"14.00\" fill=\"#000000\">X[7] &lt;= 0.14</text>\n<text text-anchor=\"middle\" x=\"1264.5\" y=\"-750.8\" font-family=\"Times,serif\" font-size=\"14.00\" fill=\"#000000\">gini = 0.498</text>\n<text text-anchor=\"middle\" x=\"1264.5\" y=\"-735.8\" font-family=\"Times,serif\" font-size=\"14.00\" fill=\"#000000\">samples = 36</text>\n<text text-anchor=\"middle\" x=\"1264.5\" y=\"-720.8\" font-family=\"Times,serif\" font-size=\"14.00\" fill=\"#000000\">value = [19, 17]</text>\n</g>\n<!-- 68&#45;&gt;74 -->\n<g id=\"edge74\" class=\"edge\">\n<title>68&#45;&gt;74</title>\n<path fill=\"none\" stroke=\"#000000\" d=\"M1113.7042,-823.1299C1140.2588,-809.7237 1172.2593,-793.5681 1199.9369,-779.5949\"/>\n<polygon fill=\"#000000\" stroke=\"#000000\" points=\"1201.7939,-782.5783 1209.1434,-774.947 1198.6391,-776.3294 1201.7939,-782.5783\"/>\n</g>\n<!-- 70 -->\n<g id=\"node71\" class=\"node\">\n<title>70</title>\n<polygon fill=\"none\" stroke=\"#000000\" points=\"1034,-669.5 939,-669.5 939,-616.5 1034,-616.5 1034,-669.5\"/>\n<text text-anchor=\"middle\" x=\"986.5\" y=\"-654.3\" font-family=\"Times,serif\" font-size=\"14.00\" fill=\"#000000\">gini = 0.0</text>\n<text text-anchor=\"middle\" x=\"986.5\" y=\"-639.3\" font-family=\"Times,serif\" font-size=\"14.00\" fill=\"#000000\">samples = 4</text>\n<text text-anchor=\"middle\" x=\"986.5\" y=\"-624.3\" font-family=\"Times,serif\" font-size=\"14.00\" fill=\"#000000\">value = [0, 4]</text>\n</g>\n<!-- 69&#45;&gt;70 -->\n<g id=\"edge70\" class=\"edge\">\n<title>69&#45;&gt;70</title>\n<path fill=\"none\" stroke=\"#000000\" d=\"M1034.9245,-712.9465C1027.1463,-701.7113 1018.4861,-689.2021 1010.6645,-677.9043\"/>\n<polygon fill=\"#000000\" stroke=\"#000000\" points=\"1013.4452,-675.7719 1004.8753,-669.5422 1007.6898,-679.7564 1013.4452,-675.7719\"/>\n</g>\n<!-- 71 -->\n<g id=\"node72\" class=\"node\">\n<title>71</title>\n<polygon fill=\"none\" stroke=\"#000000\" points=\"1158.5,-677 1052.5,-677 1052.5,-609 1158.5,-609 1158.5,-677\"/>\n<text text-anchor=\"middle\" x=\"1105.5\" y=\"-661.8\" font-family=\"Times,serif\" font-size=\"14.00\" fill=\"#000000\">X[2] &lt;= &#45;1.151</text>\n<text text-anchor=\"middle\" x=\"1105.5\" y=\"-646.8\" font-family=\"Times,serif\" font-size=\"14.00\" fill=\"#000000\">gini = 0.444</text>\n<text text-anchor=\"middle\" x=\"1105.5\" y=\"-631.8\" font-family=\"Times,serif\" font-size=\"14.00\" fill=\"#000000\">samples = 6</text>\n<text text-anchor=\"middle\" x=\"1105.5\" y=\"-616.8\" font-family=\"Times,serif\" font-size=\"14.00\" fill=\"#000000\">value = [2, 4]</text>\n</g>\n<!-- 69&#45;&gt;71 -->\n<g id=\"edge71\" class=\"edge\">\n<title>69&#45;&gt;71</title>\n<path fill=\"none\" stroke=\"#000000\" d=\"M1073.8896,-712.9465C1077.7037,-704.5067 1081.8428,-695.3479 1085.8306,-686.5239\"/>\n<polygon fill=\"#000000\" stroke=\"#000000\" points=\"1089.147,-687.684 1090.0759,-677.13 1082.7682,-684.8013 1089.147,-687.684\"/>\n</g>\n<!-- 72 -->\n<g id=\"node73\" class=\"node\">\n<title>72</title>\n<polygon fill=\"none\" stroke=\"#000000\" points=\"1040,-565.5 945,-565.5 945,-512.5 1040,-512.5 1040,-565.5\"/>\n<text text-anchor=\"middle\" x=\"992.5\" y=\"-550.3\" font-family=\"Times,serif\" font-size=\"14.00\" fill=\"#000000\">gini = 0.444</text>\n<text text-anchor=\"middle\" x=\"992.5\" y=\"-535.3\" font-family=\"Times,serif\" font-size=\"14.00\" fill=\"#000000\">samples = 3</text>\n<text text-anchor=\"middle\" x=\"992.5\" y=\"-520.3\" font-family=\"Times,serif\" font-size=\"14.00\" fill=\"#000000\">value = [1, 2]</text>\n</g>\n<!-- 71&#45;&gt;72 -->\n<g id=\"edge72\" class=\"edge\">\n<title>71&#45;&gt;72</title>\n<path fill=\"none\" stroke=\"#000000\" d=\"M1068.4996,-608.9465C1055.8134,-597.2707 1041.6322,-584.219 1028.987,-572.5809\"/>\n<polygon fill=\"#000000\" stroke=\"#000000\" points=\"1031.0673,-569.7389 1021.3391,-565.5422 1026.3269,-574.8895 1031.0673,-569.7389\"/>\n</g>\n<!-- 73 -->\n<g id=\"node74\" class=\"node\">\n<title>73</title>\n<polygon fill=\"none\" stroke=\"#000000\" points=\"1153,-565.5 1058,-565.5 1058,-512.5 1153,-512.5 1153,-565.5\"/>\n<text text-anchor=\"middle\" x=\"1105.5\" y=\"-550.3\" font-family=\"Times,serif\" font-size=\"14.00\" fill=\"#000000\">gini = 0.444</text>\n<text text-anchor=\"middle\" x=\"1105.5\" y=\"-535.3\" font-family=\"Times,serif\" font-size=\"14.00\" fill=\"#000000\">samples = 3</text>\n<text text-anchor=\"middle\" x=\"1105.5\" y=\"-520.3\" font-family=\"Times,serif\" font-size=\"14.00\" fill=\"#000000\">value = [1, 2]</text>\n</g>\n<!-- 71&#45;&gt;73 -->\n<g id=\"edge73\" class=\"edge\">\n<title>71&#45;&gt;73</title>\n<path fill=\"none\" stroke=\"#000000\" d=\"M1105.5,-608.9465C1105.5,-598.2621 1105.5,-586.4254 1105.5,-575.5742\"/>\n<polygon fill=\"#000000\" stroke=\"#000000\" points=\"1109.0001,-575.5421 1105.5,-565.5422 1102.0001,-575.5422 1109.0001,-575.5421\"/>\n</g>\n<!-- 75 -->\n<g id=\"node76\" class=\"node\">\n<title>75</title>\n<polygon fill=\"none\" stroke=\"#000000\" points=\"1315,-677 1214,-677 1214,-609 1315,-609 1315,-677\"/>\n<text text-anchor=\"middle\" x=\"1264.5\" y=\"-661.8\" font-family=\"Times,serif\" font-size=\"14.00\" fill=\"#000000\">X[2] &lt;= &#45;0.57</text>\n<text text-anchor=\"middle\" x=\"1264.5\" y=\"-646.8\" font-family=\"Times,serif\" font-size=\"14.00\" fill=\"#000000\">gini = 0.495</text>\n<text text-anchor=\"middle\" x=\"1264.5\" y=\"-631.8\" font-family=\"Times,serif\" font-size=\"14.00\" fill=\"#000000\">samples = 20</text>\n<text text-anchor=\"middle\" x=\"1264.5\" y=\"-616.8\" font-family=\"Times,serif\" font-size=\"14.00\" fill=\"#000000\">value = [9, 11]</text>\n</g>\n<!-- 74&#45;&gt;75 -->\n<g id=\"edge75\" class=\"edge\">\n<title>74&#45;&gt;75</title>\n<path fill=\"none\" stroke=\"#000000\" d=\"M1264.5,-712.9465C1264.5,-704.776 1264.5,-695.9318 1264.5,-687.3697\"/>\n<polygon fill=\"#000000\" stroke=\"#000000\" points=\"1268.0001,-687.13 1264.5,-677.13 1261.0001,-687.13 1268.0001,-687.13\"/>\n</g>\n<!-- 92 -->\n<g id=\"node93\" class=\"node\">\n<title>92</title>\n<polygon fill=\"none\" stroke=\"#000000\" points=\"1612.5,-677 1506.5,-677 1506.5,-609 1612.5,-609 1612.5,-677\"/>\n<text text-anchor=\"middle\" x=\"1559.5\" y=\"-661.8\" font-family=\"Times,serif\" font-size=\"14.00\" fill=\"#000000\">X[2] &lt;= &#45;0.404</text>\n<text text-anchor=\"middle\" x=\"1559.5\" y=\"-646.8\" font-family=\"Times,serif\" font-size=\"14.00\" fill=\"#000000\">gini = 0.469</text>\n<text text-anchor=\"middle\" x=\"1559.5\" y=\"-631.8\" font-family=\"Times,serif\" font-size=\"14.00\" fill=\"#000000\">samples = 16</text>\n<text text-anchor=\"middle\" x=\"1559.5\" y=\"-616.8\" font-family=\"Times,serif\" font-size=\"14.00\" fill=\"#000000\">value = [10, 6]</text>\n</g>\n<!-- 74&#45;&gt;92 -->\n<g id=\"edge92\" class=\"edge\">\n<title>74&#45;&gt;92</title>\n<path fill=\"none\" stroke=\"#000000\" d=\"M1319.6412,-727.5604C1369.8792,-709.8494 1444.0359,-683.706 1496.5729,-665.1845\"/>\n<polygon fill=\"#000000\" stroke=\"#000000\" points=\"1497.8531,-668.4444 1506.1205,-661.8186 1495.5256,-661.8426 1497.8531,-668.4444\"/>\n</g>\n<!-- 76 -->\n<g id=\"node77\" class=\"node\">\n<title>76</title>\n<polygon fill=\"none\" stroke=\"#000000\" points=\"1272,-573 1171,-573 1171,-505 1272,-505 1272,-573\"/>\n<text text-anchor=\"middle\" x=\"1221.5\" y=\"-557.8\" font-family=\"Times,serif\" font-size=\"14.00\" fill=\"#000000\">X[3] &lt;= 0.979</text>\n<text text-anchor=\"middle\" x=\"1221.5\" y=\"-542.8\" font-family=\"Times,serif\" font-size=\"14.00\" fill=\"#000000\">gini = 0.375</text>\n<text text-anchor=\"middle\" x=\"1221.5\" y=\"-527.8\" font-family=\"Times,serif\" font-size=\"14.00\" fill=\"#000000\">samples = 8</text>\n<text text-anchor=\"middle\" x=\"1221.5\" y=\"-512.8\" font-family=\"Times,serif\" font-size=\"14.00\" fill=\"#000000\">value = [2, 6]</text>\n</g>\n<!-- 75&#45;&gt;76 -->\n<g id=\"edge76\" class=\"edge\">\n<title>75&#45;&gt;76</title>\n<path fill=\"none\" stroke=\"#000000\" d=\"M1250.4202,-608.9465C1246.9306,-600.5067 1243.1439,-591.3479 1239.4954,-582.5239\"/>\n<polygon fill=\"#000000\" stroke=\"#000000\" points=\"1242.6668,-581.0339 1235.6114,-573.13 1236.198,-583.7086 1242.6668,-581.0339\"/>\n</g>\n<!-- 81 -->\n<g id=\"node82\" class=\"node\">\n<title>81</title>\n<polygon fill=\"none\" stroke=\"#000000\" points=\"1391,-573 1290,-573 1290,-505 1391,-505 1391,-573\"/>\n<text text-anchor=\"middle\" x=\"1340.5\" y=\"-557.8\" font-family=\"Times,serif\" font-size=\"14.00\" fill=\"#000000\">X[3] &lt;= 0.979</text>\n<text text-anchor=\"middle\" x=\"1340.5\" y=\"-542.8\" font-family=\"Times,serif\" font-size=\"14.00\" fill=\"#000000\">gini = 0.486</text>\n<text text-anchor=\"middle\" x=\"1340.5\" y=\"-527.8\" font-family=\"Times,serif\" font-size=\"14.00\" fill=\"#000000\">samples = 12</text>\n<text text-anchor=\"middle\" x=\"1340.5\" y=\"-512.8\" font-family=\"Times,serif\" font-size=\"14.00\" fill=\"#000000\">value = [7, 5]</text>\n</g>\n<!-- 75&#45;&gt;81 -->\n<g id=\"edge81\" class=\"edge\">\n<title>75&#45;&gt;81</title>\n<path fill=\"none\" stroke=\"#000000\" d=\"M1289.3852,-608.9465C1295.8153,-600.1475 1302.8163,-590.5672 1309.5159,-581.3993\"/>\n<polygon fill=\"#000000\" stroke=\"#000000\" points=\"1312.4845,-583.269 1315.5588,-573.13 1306.8328,-579.1389 1312.4845,-583.269\"/>\n</g>\n<!-- 77 -->\n<g id=\"node78\" class=\"node\">\n<title>77</title>\n<polygon fill=\"none\" stroke=\"#000000\" points=\"1153.5,-469 1047.5,-469 1047.5,-401 1153.5,-401 1153.5,-469\"/>\n<text text-anchor=\"middle\" x=\"1100.5\" y=\"-453.8\" font-family=\"Times,serif\" font-size=\"14.00\" fill=\"#000000\">X[2] &lt;= &#45;0.736</text>\n<text text-anchor=\"middle\" x=\"1100.5\" y=\"-438.8\" font-family=\"Times,serif\" font-size=\"14.00\" fill=\"#000000\">gini = 0.408</text>\n<text text-anchor=\"middle\" x=\"1100.5\" y=\"-423.8\" font-family=\"Times,serif\" font-size=\"14.00\" fill=\"#000000\">samples = 7</text>\n<text text-anchor=\"middle\" x=\"1100.5\" y=\"-408.8\" font-family=\"Times,serif\" font-size=\"14.00\" fill=\"#000000\">value = [2, 5]</text>\n</g>\n<!-- 76&#45;&gt;77 -->\n<g id=\"edge77\" class=\"edge\">\n<title>76&#45;&gt;77</title>\n<path fill=\"none\" stroke=\"#000000\" d=\"M1181.8801,-504.9465C1171.016,-495.6088 1159.1282,-485.3911 1147.8765,-475.7203\"/>\n<polygon fill=\"#000000\" stroke=\"#000000\" points=\"1150.0741,-472.994 1140.2089,-469.13 1145.5113,-478.3026 1150.0741,-472.994\"/>\n</g>\n<!-- 80 -->\n<g id=\"node81\" class=\"node\">\n<title>80</title>\n<polygon fill=\"none\" stroke=\"#000000\" points=\"1267,-461.5 1172,-461.5 1172,-408.5 1267,-408.5 1267,-461.5\"/>\n<text text-anchor=\"middle\" x=\"1219.5\" y=\"-446.3\" font-family=\"Times,serif\" font-size=\"14.00\" fill=\"#000000\">gini = 0.0</text>\n<text text-anchor=\"middle\" x=\"1219.5\" y=\"-431.3\" font-family=\"Times,serif\" font-size=\"14.00\" fill=\"#000000\">samples = 1</text>\n<text text-anchor=\"middle\" x=\"1219.5\" y=\"-416.3\" font-family=\"Times,serif\" font-size=\"14.00\" fill=\"#000000\">value = [0, 1]</text>\n</g>\n<!-- 76&#45;&gt;80 -->\n<g id=\"edge80\" class=\"edge\">\n<title>76&#45;&gt;80</title>\n<path fill=\"none\" stroke=\"#000000\" d=\"M1220.8451,-504.9465C1220.6397,-494.2621 1220.412,-482.4254 1220.2034,-471.5742\"/>\n<polygon fill=\"#000000\" stroke=\"#000000\" points=\"1223.7021,-471.473 1220.0104,-461.5422 1216.7034,-471.6076 1223.7021,-471.473\"/>\n</g>\n<!-- 78 -->\n<g id=\"node79\" class=\"node\">\n<title>78</title>\n<polygon fill=\"none\" stroke=\"#000000\" points=\"1036,-357.5 941,-357.5 941,-304.5 1036,-304.5 1036,-357.5\"/>\n<text text-anchor=\"middle\" x=\"988.5\" y=\"-342.3\" font-family=\"Times,serif\" font-size=\"14.00\" fill=\"#000000\">gini = 0.375</text>\n<text text-anchor=\"middle\" x=\"988.5\" y=\"-327.3\" font-family=\"Times,serif\" font-size=\"14.00\" fill=\"#000000\">samples = 4</text>\n<text text-anchor=\"middle\" x=\"988.5\" y=\"-312.3\" font-family=\"Times,serif\" font-size=\"14.00\" fill=\"#000000\">value = [1, 3]</text>\n</g>\n<!-- 77&#45;&gt;78 -->\n<g id=\"edge78\" class=\"edge\">\n<title>77&#45;&gt;78</title>\n<path fill=\"none\" stroke=\"#000000\" d=\"M1063.827,-400.9465C1051.2531,-389.2707 1037.1974,-376.219 1024.6641,-364.5809\"/>\n<polygon fill=\"#000000\" stroke=\"#000000\" points=\"1026.7934,-361.7819 1017.0839,-357.5422 1022.0302,-366.9115 1026.7934,-361.7819\"/>\n</g>\n<!-- 79 -->\n<g id=\"node80\" class=\"node\">\n<title>79</title>\n<polygon fill=\"none\" stroke=\"#000000\" points=\"1149,-357.5 1054,-357.5 1054,-304.5 1149,-304.5 1149,-357.5\"/>\n<text text-anchor=\"middle\" x=\"1101.5\" y=\"-342.3\" font-family=\"Times,serif\" font-size=\"14.00\" fill=\"#000000\">gini = 0.444</text>\n<text text-anchor=\"middle\" x=\"1101.5\" y=\"-327.3\" font-family=\"Times,serif\" font-size=\"14.00\" fill=\"#000000\">samples = 3</text>\n<text text-anchor=\"middle\" x=\"1101.5\" y=\"-312.3\" font-family=\"Times,serif\" font-size=\"14.00\" fill=\"#000000\">value = [1, 2]</text>\n</g>\n<!-- 77&#45;&gt;79 -->\n<g id=\"edge79\" class=\"edge\">\n<title>77&#45;&gt;79</title>\n<path fill=\"none\" stroke=\"#000000\" d=\"M1100.8274,-400.9465C1100.9302,-390.2621 1101.044,-378.4254 1101.1483,-367.5742\"/>\n<polygon fill=\"#000000\" stroke=\"#000000\" points=\"1104.6484,-367.5754 1101.2448,-357.5422 1097.6487,-367.508 1104.6484,-367.5754\"/>\n</g>\n<!-- 82 -->\n<g id=\"node83\" class=\"node\">\n<title>82</title>\n<polygon fill=\"none\" stroke=\"#000000\" points=\"1386,-469 1285,-469 1285,-401 1386,-401 1386,-469\"/>\n<text text-anchor=\"middle\" x=\"1335.5\" y=\"-453.8\" font-family=\"Times,serif\" font-size=\"14.00\" fill=\"#000000\">X[2] &lt;= 0.093</text>\n<text text-anchor=\"middle\" x=\"1335.5\" y=\"-438.8\" font-family=\"Times,serif\" font-size=\"14.00\" fill=\"#000000\">gini = 0.463</text>\n<text text-anchor=\"middle\" x=\"1335.5\" y=\"-423.8\" font-family=\"Times,serif\" font-size=\"14.00\" fill=\"#000000\">samples = 11</text>\n<text text-anchor=\"middle\" x=\"1335.5\" y=\"-408.8\" font-family=\"Times,serif\" font-size=\"14.00\" fill=\"#000000\">value = [7, 4]</text>\n</g>\n<!-- 81&#45;&gt;82 -->\n<g id=\"edge82\" class=\"edge\">\n<title>81&#45;&gt;82</title>\n<path fill=\"none\" stroke=\"#000000\" d=\"M1338.8628,-504.9465C1338.47,-496.776 1338.0448,-487.9318 1337.6332,-479.3697\"/>\n<polygon fill=\"#000000\" stroke=\"#000000\" points=\"1341.1171,-478.9504 1337.1409,-469.13 1334.1252,-479.2866 1341.1171,-478.9504\"/>\n</g>\n<!-- 91 -->\n<g id=\"node92\" class=\"node\">\n<title>91</title>\n<polygon fill=\"none\" stroke=\"#000000\" points=\"1499,-461.5 1404,-461.5 1404,-408.5 1499,-408.5 1499,-461.5\"/>\n<text text-anchor=\"middle\" x=\"1451.5\" y=\"-446.3\" font-family=\"Times,serif\" font-size=\"14.00\" fill=\"#000000\">gini = 0.0</text>\n<text text-anchor=\"middle\" x=\"1451.5\" y=\"-431.3\" font-family=\"Times,serif\" font-size=\"14.00\" fill=\"#000000\">samples = 1</text>\n<text text-anchor=\"middle\" x=\"1451.5\" y=\"-416.3\" font-family=\"Times,serif\" font-size=\"14.00\" fill=\"#000000\">value = [0, 1]</text>\n</g>\n<!-- 81&#45;&gt;91 -->\n<g id=\"edge91\" class=\"edge\">\n<title>81&#45;&gt;91</title>\n<path fill=\"none\" stroke=\"#000000\" d=\"M1376.8456,-504.9465C1389.3072,-493.2707 1403.2374,-480.219 1415.6588,-468.5809\"/>\n<polygon fill=\"#000000\" stroke=\"#000000\" points=\"1418.2669,-470.9335 1423.1713,-461.5422 1413.4809,-465.8253 1418.2669,-470.9335\"/>\n</g>\n<!-- 83 -->\n<g id=\"node84\" class=\"node\">\n<title>83</title>\n<polygon fill=\"none\" stroke=\"#000000\" points=\"1293.5,-365 1187.5,-365 1187.5,-297 1293.5,-297 1293.5,-365\"/>\n<text text-anchor=\"middle\" x=\"1240.5\" y=\"-349.8\" font-family=\"Times,serif\" font-size=\"14.00\" fill=\"#000000\">X[2] &lt;= &#45;0.239</text>\n<text text-anchor=\"middle\" x=\"1240.5\" y=\"-334.8\" font-family=\"Times,serif\" font-size=\"14.00\" fill=\"#000000\">gini = 0.48</text>\n<text text-anchor=\"middle\" x=\"1240.5\" y=\"-319.8\" font-family=\"Times,serif\" font-size=\"14.00\" fill=\"#000000\">samples = 10</text>\n<text text-anchor=\"middle\" x=\"1240.5\" y=\"-304.8\" font-family=\"Times,serif\" font-size=\"14.00\" fill=\"#000000\">value = [6, 4]</text>\n</g>\n<!-- 82&#45;&gt;83 -->\n<g id=\"edge83\" class=\"edge\">\n<title>82&#45;&gt;83</title>\n<path fill=\"none\" stroke=\"#000000\" d=\"M1304.3934,-400.9465C1296.1099,-391.8782 1287.0682,-381.9799 1278.4621,-372.5585\"/>\n<polygon fill=\"#000000\" stroke=\"#000000\" points=\"1281.005,-370.1528 1271.6764,-365.13 1275.8367,-374.8739 1281.005,-370.1528\"/>\n</g>\n<!-- 90 -->\n<g id=\"node91\" class=\"node\">\n<title>90</title>\n<polygon fill=\"none\" stroke=\"#000000\" points=\"1407,-357.5 1312,-357.5 1312,-304.5 1407,-304.5 1407,-357.5\"/>\n<text text-anchor=\"middle\" x=\"1359.5\" y=\"-342.3\" font-family=\"Times,serif\" font-size=\"14.00\" fill=\"#000000\">gini = 0.0</text>\n<text text-anchor=\"middle\" x=\"1359.5\" y=\"-327.3\" font-family=\"Times,serif\" font-size=\"14.00\" fill=\"#000000\">samples = 1</text>\n<text text-anchor=\"middle\" x=\"1359.5\" y=\"-312.3\" font-family=\"Times,serif\" font-size=\"14.00\" fill=\"#000000\">value = [1, 0]</text>\n</g>\n<!-- 82&#45;&gt;90 -->\n<g id=\"edge90\" class=\"edge\">\n<title>82&#45;&gt;90</title>\n<path fill=\"none\" stroke=\"#000000\" d=\"M1343.3585,-400.9465C1345.8241,-390.2621 1348.5557,-378.4254 1351.0598,-367.5742\"/>\n<polygon fill=\"#000000\" stroke=\"#000000\" points=\"1354.5366,-368.0731 1353.3749,-357.5422 1347.7158,-366.499 1354.5366,-368.0731\"/>\n</g>\n<!-- 84 -->\n<g id=\"node85\" class=\"node\">\n<title>84</title>\n<polygon fill=\"none\" stroke=\"#000000\" points=\"1212.5,-261 1106.5,-261 1106.5,-193 1212.5,-193 1212.5,-261\"/>\n<text text-anchor=\"middle\" x=\"1159.5\" y=\"-245.8\" font-family=\"Times,serif\" font-size=\"14.00\" fill=\"#000000\">X[2] &lt;= &#45;0.404</text>\n<text text-anchor=\"middle\" x=\"1159.5\" y=\"-230.8\" font-family=\"Times,serif\" font-size=\"14.00\" fill=\"#000000\">gini = 0.5</text>\n<text text-anchor=\"middle\" x=\"1159.5\" y=\"-215.8\" font-family=\"Times,serif\" font-size=\"14.00\" fill=\"#000000\">samples = 4</text>\n<text text-anchor=\"middle\" x=\"1159.5\" y=\"-200.8\" font-family=\"Times,serif\" font-size=\"14.00\" fill=\"#000000\">value = [2, 2]</text>\n</g>\n<!-- 83&#45;&gt;84 -->\n<g id=\"edge84\" class=\"edge\">\n<title>83&#45;&gt;84</title>\n<path fill=\"none\" stroke=\"#000000\" d=\"M1213.9776,-296.9465C1207.0546,-288.0578 1199.5106,-278.3716 1192.304,-269.1188\"/>\n<polygon fill=\"#000000\" stroke=\"#000000\" points=\"1194.988,-266.8688 1186.082,-261.13 1189.4654,-271.1701 1194.988,-266.8688\"/>\n</g>\n<!-- 87 -->\n<g id=\"node88\" class=\"node\">\n<title>87</title>\n<polygon fill=\"none\" stroke=\"#000000\" points=\"1336.5,-261 1230.5,-261 1230.5,-193 1336.5,-193 1336.5,-261\"/>\n<text text-anchor=\"middle\" x=\"1283.5\" y=\"-245.8\" font-family=\"Times,serif\" font-size=\"14.00\" fill=\"#000000\">X[2] &lt;= &#45;0.073</text>\n<text text-anchor=\"middle\" x=\"1283.5\" y=\"-230.8\" font-family=\"Times,serif\" font-size=\"14.00\" fill=\"#000000\">gini = 0.444</text>\n<text text-anchor=\"middle\" x=\"1283.5\" y=\"-215.8\" font-family=\"Times,serif\" font-size=\"14.00\" fill=\"#000000\">samples = 6</text>\n<text text-anchor=\"middle\" x=\"1283.5\" y=\"-200.8\" font-family=\"Times,serif\" font-size=\"14.00\" fill=\"#000000\">value = [4, 2]</text>\n</g>\n<!-- 83&#45;&gt;87 -->\n<g id=\"edge87\" class=\"edge\">\n<title>83&#45;&gt;87</title>\n<path fill=\"none\" stroke=\"#000000\" d=\"M1254.5798,-296.9465C1258.0694,-288.5067 1261.8561,-279.3479 1265.5046,-270.5239\"/>\n<polygon fill=\"#000000\" stroke=\"#000000\" points=\"1268.802,-271.7086 1269.3886,-261.13 1262.3332,-269.0339 1268.802,-271.7086\"/>\n</g>\n<!-- 85 -->\n<g id=\"node86\" class=\"node\">\n<title>85</title>\n<polygon fill=\"none\" stroke=\"#000000\" points=\"1097,-149.5 1002,-149.5 1002,-96.5 1097,-96.5 1097,-149.5\"/>\n<text text-anchor=\"middle\" x=\"1049.5\" y=\"-134.3\" font-family=\"Times,serif\" font-size=\"14.00\" fill=\"#000000\">gini = 0.5</text>\n<text text-anchor=\"middle\" x=\"1049.5\" y=\"-119.3\" font-family=\"Times,serif\" font-size=\"14.00\" fill=\"#000000\">samples = 2</text>\n<text text-anchor=\"middle\" x=\"1049.5\" y=\"-104.3\" font-family=\"Times,serif\" font-size=\"14.00\" fill=\"#000000\">value = [1, 1]</text>\n</g>\n<!-- 84&#45;&gt;85 -->\n<g id=\"edge85\" class=\"edge\">\n<title>84&#45;&gt;85</title>\n<path fill=\"none\" stroke=\"#000000\" d=\"M1123.4819,-192.9465C1111.1325,-181.2707 1097.3278,-168.219 1085.0183,-156.5809\"/>\n<polygon fill=\"#000000\" stroke=\"#000000\" points=\"1087.2445,-153.869 1077.5734,-149.5422 1082.4354,-158.9556 1087.2445,-153.869\"/>\n</g>\n<!-- 86 -->\n<g id=\"node87\" class=\"node\">\n<title>86</title>\n<polygon fill=\"none\" stroke=\"#000000\" points=\"1210,-149.5 1115,-149.5 1115,-96.5 1210,-96.5 1210,-149.5\"/>\n<text text-anchor=\"middle\" x=\"1162.5\" y=\"-134.3\" font-family=\"Times,serif\" font-size=\"14.00\" fill=\"#000000\">gini = 0.5</text>\n<text text-anchor=\"middle\" x=\"1162.5\" y=\"-119.3\" font-family=\"Times,serif\" font-size=\"14.00\" fill=\"#000000\">samples = 2</text>\n<text text-anchor=\"middle\" x=\"1162.5\" y=\"-104.3\" font-family=\"Times,serif\" font-size=\"14.00\" fill=\"#000000\">value = [1, 1]</text>\n</g>\n<!-- 84&#45;&gt;86 -->\n<g id=\"edge86\" class=\"edge\">\n<title>84&#45;&gt;86</title>\n<path fill=\"none\" stroke=\"#000000\" d=\"M1160.4823,-192.9465C1160.7905,-182.2621 1161.132,-170.4254 1161.445,-159.5742\"/>\n<polygon fill=\"#000000\" stroke=\"#000000\" points=\"1164.9445,-159.639 1161.7344,-149.5422 1157.9474,-159.4371 1164.9445,-159.639\"/>\n</g>\n<!-- 88 -->\n<g id=\"node89\" class=\"node\">\n<title>88</title>\n<polygon fill=\"none\" stroke=\"#000000\" points=\"1328,-149.5 1233,-149.5 1233,-96.5 1328,-96.5 1328,-149.5\"/>\n<text text-anchor=\"middle\" x=\"1280.5\" y=\"-134.3\" font-family=\"Times,serif\" font-size=\"14.00\" fill=\"#000000\">gini = 0.444</text>\n<text text-anchor=\"middle\" x=\"1280.5\" y=\"-119.3\" font-family=\"Times,serif\" font-size=\"14.00\" fill=\"#000000\">samples = 3</text>\n<text text-anchor=\"middle\" x=\"1280.5\" y=\"-104.3\" font-family=\"Times,serif\" font-size=\"14.00\" fill=\"#000000\">value = [2, 1]</text>\n</g>\n<!-- 87&#45;&gt;88 -->\n<g id=\"edge88\" class=\"edge\">\n<title>87&#45;&gt;88</title>\n<path fill=\"none\" stroke=\"#000000\" d=\"M1282.5177,-192.9465C1282.2095,-182.2621 1281.868,-170.4254 1281.555,-159.5742\"/>\n<polygon fill=\"#000000\" stroke=\"#000000\" points=\"1285.0526,-159.4371 1281.2656,-149.5422 1278.0555,-159.639 1285.0526,-159.4371\"/>\n</g>\n<!-- 89 -->\n<g id=\"node90\" class=\"node\">\n<title>89</title>\n<polygon fill=\"none\" stroke=\"#000000\" points=\"1441,-149.5 1346,-149.5 1346,-96.5 1441,-96.5 1441,-149.5\"/>\n<text text-anchor=\"middle\" x=\"1393.5\" y=\"-134.3\" font-family=\"Times,serif\" font-size=\"14.00\" fill=\"#000000\">gini = 0.444</text>\n<text text-anchor=\"middle\" x=\"1393.5\" y=\"-119.3\" font-family=\"Times,serif\" font-size=\"14.00\" fill=\"#000000\">samples = 3</text>\n<text text-anchor=\"middle\" x=\"1393.5\" y=\"-104.3\" font-family=\"Times,serif\" font-size=\"14.00\" fill=\"#000000\">value = [2, 1]</text>\n</g>\n<!-- 87&#45;&gt;89 -->\n<g id=\"edge89\" class=\"edge\">\n<title>87&#45;&gt;89</title>\n<path fill=\"none\" stroke=\"#000000\" d=\"M1319.5181,-192.9465C1331.8675,-181.2707 1345.6722,-168.219 1357.9817,-156.5809\"/>\n<polygon fill=\"#000000\" stroke=\"#000000\" points=\"1360.5646,-158.9556 1365.4266,-149.5422 1355.7555,-153.869 1360.5646,-158.9556\"/>\n</g>\n<!-- 93 -->\n<g id=\"node94\" class=\"node\">\n<title>93</title>\n<polygon fill=\"none\" stroke=\"#000000\" points=\"1617,-573 1516,-573 1516,-505 1617,-505 1617,-573\"/>\n<text text-anchor=\"middle\" x=\"1566.5\" y=\"-557.8\" font-family=\"Times,serif\" font-size=\"14.00\" fill=\"#000000\">X[3] &lt;= 0.979</text>\n<text text-anchor=\"middle\" x=\"1566.5\" y=\"-542.8\" font-family=\"Times,serif\" font-size=\"14.00\" fill=\"#000000\">gini = 0.32</text>\n<text text-anchor=\"middle\" x=\"1566.5\" y=\"-527.8\" font-family=\"Times,serif\" font-size=\"14.00\" fill=\"#000000\">samples = 10</text>\n<text text-anchor=\"middle\" x=\"1566.5\" y=\"-512.8\" font-family=\"Times,serif\" font-size=\"14.00\" fill=\"#000000\">value = [8, 2]</text>\n</g>\n<!-- 92&#45;&gt;93 -->\n<g id=\"edge93\" class=\"edge\">\n<title>92&#45;&gt;93</title>\n<path fill=\"none\" stroke=\"#000000\" d=\"M1561.7921,-608.9465C1562.342,-600.776 1562.9373,-591.9318 1563.5136,-583.3697\"/>\n<polygon fill=\"#000000\" stroke=\"#000000\" points=\"1567.0232,-583.3425 1564.2028,-573.13 1560.039,-582.8723 1567.0232,-583.3425\"/>\n</g>\n<!-- 102 -->\n<g id=\"node103\" class=\"node\">\n<title>102</title>\n<polygon fill=\"none\" stroke=\"#000000\" points=\"1851,-573 1750,-573 1750,-505 1851,-505 1851,-573\"/>\n<text text-anchor=\"middle\" x=\"1800.5\" y=\"-557.8\" font-family=\"Times,serif\" font-size=\"14.00\" fill=\"#000000\">X[3] &lt;= 0.979</text>\n<text text-anchor=\"middle\" x=\"1800.5\" y=\"-542.8\" font-family=\"Times,serif\" font-size=\"14.00\" fill=\"#000000\">gini = 0.444</text>\n<text text-anchor=\"middle\" x=\"1800.5\" y=\"-527.8\" font-family=\"Times,serif\" font-size=\"14.00\" fill=\"#000000\">samples = 6</text>\n<text text-anchor=\"middle\" x=\"1800.5\" y=\"-512.8\" font-family=\"Times,serif\" font-size=\"14.00\" fill=\"#000000\">value = [2, 4]</text>\n</g>\n<!-- 92&#45;&gt;102 -->\n<g id=\"edge102\" class=\"edge\">\n<title>92&#45;&gt;102</title>\n<path fill=\"none\" stroke=\"#000000\" d=\"M1612.7091,-613.2534C1615.6646,-611.779 1618.6084,-610.3514 1621.5,-609 1660.1845,-590.9207 1704.9221,-573.4248 1739.9948,-560.4467\"/>\n<polygon fill=\"#000000\" stroke=\"#000000\" points=\"1741.4394,-563.6447 1749.6177,-556.9093 1739.0242,-557.0746 1741.4394,-563.6447\"/>\n</g>\n<!-- 94 -->\n<g id=\"node95\" class=\"node\">\n<title>94</title>\n<polygon fill=\"none\" stroke=\"#000000\" points=\"1615.5,-469 1517.5,-469 1517.5,-401 1615.5,-401 1615.5,-469\"/>\n<text text-anchor=\"middle\" x=\"1566.5\" y=\"-453.8\" font-family=\"Times,serif\" font-size=\"14.00\" fill=\"#000000\">X[2] &lt;= &#45;0.57</text>\n<text text-anchor=\"middle\" x=\"1566.5\" y=\"-438.8\" font-family=\"Times,serif\" font-size=\"14.00\" fill=\"#000000\">gini = 0.408</text>\n<text text-anchor=\"middle\" x=\"1566.5\" y=\"-423.8\" font-family=\"Times,serif\" font-size=\"14.00\" fill=\"#000000\">samples = 7</text>\n<text text-anchor=\"middle\" x=\"1566.5\" y=\"-408.8\" font-family=\"Times,serif\" font-size=\"14.00\" fill=\"#000000\">value = [5, 2]</text>\n</g>\n<!-- 93&#45;&gt;94 -->\n<g id=\"edge94\" class=\"edge\">\n<title>93&#45;&gt;94</title>\n<path fill=\"none\" stroke=\"#000000\" d=\"M1566.5,-504.9465C1566.5,-496.776 1566.5,-487.9318 1566.5,-479.3697\"/>\n<polygon fill=\"#000000\" stroke=\"#000000\" points=\"1570.0001,-479.13 1566.5,-469.13 1563.0001,-479.13 1570.0001,-479.13\"/>\n</g>\n<!-- 101 -->\n<g id=\"node102\" class=\"node\">\n<title>101</title>\n<polygon fill=\"none\" stroke=\"#000000\" points=\"1729,-461.5 1634,-461.5 1634,-408.5 1729,-408.5 1729,-461.5\"/>\n<text text-anchor=\"middle\" x=\"1681.5\" y=\"-446.3\" font-family=\"Times,serif\" font-size=\"14.00\" fill=\"#000000\">gini = 0.0</text>\n<text text-anchor=\"middle\" x=\"1681.5\" y=\"-431.3\" font-family=\"Times,serif\" font-size=\"14.00\" fill=\"#000000\">samples = 3</text>\n<text text-anchor=\"middle\" x=\"1681.5\" y=\"-416.3\" font-family=\"Times,serif\" font-size=\"14.00\" fill=\"#000000\">value = [3, 0]</text>\n</g>\n<!-- 93&#45;&gt;101 -->\n<g id=\"edge101\" class=\"edge\">\n<title>93&#45;&gt;101</title>\n<path fill=\"none\" stroke=\"#000000\" d=\"M1604.1553,-504.9465C1617.1878,-493.1606 1631.7706,-479.9726 1644.7311,-468.2519\"/>\n<polygon fill=\"#000000\" stroke=\"#000000\" points=\"1647.0812,-470.8456 1652.1505,-461.5422 1642.386,-465.6537 1647.0812,-470.8456\"/>\n</g>\n<!-- 95 -->\n<g id=\"node96\" class=\"node\">\n<title>95</title>\n<polygon fill=\"none\" stroke=\"#000000\" points=\"1565.5,-365 1459.5,-365 1459.5,-297 1565.5,-297 1565.5,-365\"/>\n<text text-anchor=\"middle\" x=\"1512.5\" y=\"-349.8\" font-family=\"Times,serif\" font-size=\"14.00\" fill=\"#000000\">X[0] &lt;= &#45;0.399</text>\n<text text-anchor=\"middle\" x=\"1512.5\" y=\"-334.8\" font-family=\"Times,serif\" font-size=\"14.00\" fill=\"#000000\">gini = 0.444</text>\n<text text-anchor=\"middle\" x=\"1512.5\" y=\"-319.8\" font-family=\"Times,serif\" font-size=\"14.00\" fill=\"#000000\">samples = 6</text>\n<text text-anchor=\"middle\" x=\"1512.5\" y=\"-304.8\" font-family=\"Times,serif\" font-size=\"14.00\" fill=\"#000000\">value = [4, 2]</text>\n</g>\n<!-- 94&#45;&gt;95 -->\n<g id=\"edge95\" class=\"edge\">\n<title>94&#45;&gt;95</title>\n<path fill=\"none\" stroke=\"#000000\" d=\"M1548.8184,-400.9465C1544.3895,-392.4169 1539.5794,-383.153 1534.9528,-374.2424\"/>\n<polygon fill=\"#000000\" stroke=\"#000000\" points=\"1537.9358,-372.3921 1530.2213,-365.13 1531.7233,-375.6178 1537.9358,-372.3921\"/>\n</g>\n<!-- 100 -->\n<g id=\"node101\" class=\"node\">\n<title>100</title>\n<polygon fill=\"none\" stroke=\"#000000\" points=\"1679,-357.5 1584,-357.5 1584,-304.5 1679,-304.5 1679,-357.5\"/>\n<text text-anchor=\"middle\" x=\"1631.5\" y=\"-342.3\" font-family=\"Times,serif\" font-size=\"14.00\" fill=\"#000000\">gini = 0.0</text>\n<text text-anchor=\"middle\" x=\"1631.5\" y=\"-327.3\" font-family=\"Times,serif\" font-size=\"14.00\" fill=\"#000000\">samples = 1</text>\n<text text-anchor=\"middle\" x=\"1631.5\" y=\"-312.3\" font-family=\"Times,serif\" font-size=\"14.00\" fill=\"#000000\">value = [1, 0]</text>\n</g>\n<!-- 94&#45;&gt;100 -->\n<g id=\"edge100\" class=\"edge\">\n<title>94&#45;&gt;100</title>\n<path fill=\"none\" stroke=\"#000000\" d=\"M1587.7834,-400.9465C1594.7366,-389.8215 1602.4705,-377.4473 1609.4769,-366.237\"/>\n<polygon fill=\"#000000\" stroke=\"#000000\" points=\"1612.5791,-367.8772 1614.9111,-357.5422 1606.6431,-364.1671 1612.5791,-367.8772\"/>\n</g>\n<!-- 96 -->\n<g id=\"node97\" class=\"node\">\n<title>96</title>\n<polygon fill=\"none\" stroke=\"#000000\" points=\"1488,-253.5 1393,-253.5 1393,-200.5 1488,-200.5 1488,-253.5\"/>\n<text text-anchor=\"middle\" x=\"1440.5\" y=\"-238.3\" font-family=\"Times,serif\" font-size=\"14.00\" fill=\"#000000\">gini = 0.0</text>\n<text text-anchor=\"middle\" x=\"1440.5\" y=\"-223.3\" font-family=\"Times,serif\" font-size=\"14.00\" fill=\"#000000\">samples = 1</text>\n<text text-anchor=\"middle\" x=\"1440.5\" y=\"-208.3\" font-family=\"Times,serif\" font-size=\"14.00\" fill=\"#000000\">value = [1, 0]</text>\n</g>\n<!-- 95&#45;&gt;96 -->\n<g id=\"edge96\" class=\"edge\">\n<title>95&#45;&gt;96</title>\n<path fill=\"none\" stroke=\"#000000\" d=\"M1488.9245,-296.9465C1481.1463,-285.7113 1472.4861,-273.2021 1464.6645,-261.9043\"/>\n<polygon fill=\"#000000\" stroke=\"#000000\" points=\"1467.4452,-259.7719 1458.8753,-253.5422 1461.6898,-263.7564 1467.4452,-259.7719\"/>\n</g>\n<!-- 97 -->\n<g id=\"node98\" class=\"node\">\n<title>97</title>\n<polygon fill=\"none\" stroke=\"#000000\" points=\"1612.5,-261 1506.5,-261 1506.5,-193 1612.5,-193 1612.5,-261\"/>\n<text text-anchor=\"middle\" x=\"1559.5\" y=\"-245.8\" font-family=\"Times,serif\" font-size=\"14.00\" fill=\"#000000\">X[2] &lt;= &#45;0.736</text>\n<text text-anchor=\"middle\" x=\"1559.5\" y=\"-230.8\" font-family=\"Times,serif\" font-size=\"14.00\" fill=\"#000000\">gini = 0.48</text>\n<text text-anchor=\"middle\" x=\"1559.5\" y=\"-215.8\" font-family=\"Times,serif\" font-size=\"14.00\" fill=\"#000000\">samples = 5</text>\n<text text-anchor=\"middle\" x=\"1559.5\" y=\"-200.8\" font-family=\"Times,serif\" font-size=\"14.00\" fill=\"#000000\">value = [3, 2]</text>\n</g>\n<!-- 95&#45;&gt;97 -->\n<g id=\"edge97\" class=\"edge\">\n<title>95&#45;&gt;97</title>\n<path fill=\"none\" stroke=\"#000000\" d=\"M1527.8896,-296.9465C1531.7037,-288.5067 1535.8428,-279.3479 1539.8306,-270.5239\"/>\n<polygon fill=\"#000000\" stroke=\"#000000\" points=\"1543.147,-271.684 1544.0759,-261.13 1536.7682,-268.8013 1543.147,-271.684\"/>\n</g>\n<!-- 98 -->\n<g id=\"node99\" class=\"node\">\n<title>98</title>\n<polygon fill=\"none\" stroke=\"#000000\" points=\"1563,-149.5 1468,-149.5 1468,-96.5 1563,-96.5 1563,-149.5\"/>\n<text text-anchor=\"middle\" x=\"1515.5\" y=\"-134.3\" font-family=\"Times,serif\" font-size=\"14.00\" fill=\"#000000\">gini = 0.444</text>\n<text text-anchor=\"middle\" x=\"1515.5\" y=\"-119.3\" font-family=\"Times,serif\" font-size=\"14.00\" fill=\"#000000\">samples = 3</text>\n<text text-anchor=\"middle\" x=\"1515.5\" y=\"-104.3\" font-family=\"Times,serif\" font-size=\"14.00\" fill=\"#000000\">value = [2, 1]</text>\n</g>\n<!-- 97&#45;&gt;98 -->\n<g id=\"edge98\" class=\"edge\">\n<title>97&#45;&gt;98</title>\n<path fill=\"none\" stroke=\"#000000\" d=\"M1545.0928,-192.9465C1540.4792,-182.0418 1535.3579,-169.9368 1530.6903,-158.9043\"/>\n<polygon fill=\"#000000\" stroke=\"#000000\" points=\"1533.8492,-157.3881 1526.7294,-149.5422 1527.4024,-160.1156 1533.8492,-157.3881\"/>\n</g>\n<!-- 99 -->\n<g id=\"node100\" class=\"node\">\n<title>99</title>\n<polygon fill=\"none\" stroke=\"#000000\" points=\"1676,-149.5 1581,-149.5 1581,-96.5 1676,-96.5 1676,-149.5\"/>\n<text text-anchor=\"middle\" x=\"1628.5\" y=\"-134.3\" font-family=\"Times,serif\" font-size=\"14.00\" fill=\"#000000\">gini = 0.5</text>\n<text text-anchor=\"middle\" x=\"1628.5\" y=\"-119.3\" font-family=\"Times,serif\" font-size=\"14.00\" fill=\"#000000\">samples = 2</text>\n<text text-anchor=\"middle\" x=\"1628.5\" y=\"-104.3\" font-family=\"Times,serif\" font-size=\"14.00\" fill=\"#000000\">value = [1, 1]</text>\n</g>\n<!-- 97&#45;&gt;99 -->\n<g id=\"edge99\" class=\"edge\">\n<title>97&#45;&gt;99</title>\n<path fill=\"none\" stroke=\"#000000\" d=\"M1582.0932,-192.9465C1589.5473,-181.7113 1597.8467,-169.2021 1605.3423,-157.9043\"/>\n<polygon fill=\"#000000\" stroke=\"#000000\" points=\"1608.2782,-159.81 1610.8903,-149.5422 1602.4453,-155.94 1608.2782,-159.81\"/>\n</g>\n<!-- 103 -->\n<g id=\"node104\" class=\"node\">\n<title>103</title>\n<polygon fill=\"none\" stroke=\"#000000\" points=\"1853.5,-469 1747.5,-469 1747.5,-401 1853.5,-401 1853.5,-469\"/>\n<text text-anchor=\"middle\" x=\"1800.5\" y=\"-453.8\" font-family=\"Times,serif\" font-size=\"14.00\" fill=\"#000000\">X[2] &lt;= &#45;0.073</text>\n<text text-anchor=\"middle\" x=\"1800.5\" y=\"-438.8\" font-family=\"Times,serif\" font-size=\"14.00\" fill=\"#000000\">gini = 0.48</text>\n<text text-anchor=\"middle\" x=\"1800.5\" y=\"-423.8\" font-family=\"Times,serif\" font-size=\"14.00\" fill=\"#000000\">samples = 5</text>\n<text text-anchor=\"middle\" x=\"1800.5\" y=\"-408.8\" font-family=\"Times,serif\" font-size=\"14.00\" fill=\"#000000\">value = [2, 3]</text>\n</g>\n<!-- 102&#45;&gt;103 -->\n<g id=\"edge103\" class=\"edge\">\n<title>102&#45;&gt;103</title>\n<path fill=\"none\" stroke=\"#000000\" d=\"M1800.5,-504.9465C1800.5,-496.776 1800.5,-487.9318 1800.5,-479.3697\"/>\n<polygon fill=\"#000000\" stroke=\"#000000\" points=\"1804.0001,-479.13 1800.5,-469.13 1797.0001,-479.13 1804.0001,-479.13\"/>\n</g>\n<!-- 106 -->\n<g id=\"node107\" class=\"node\">\n<title>106</title>\n<polygon fill=\"none\" stroke=\"#000000\" points=\"1967,-461.5 1872,-461.5 1872,-408.5 1967,-408.5 1967,-461.5\"/>\n<text text-anchor=\"middle\" x=\"1919.5\" y=\"-446.3\" font-family=\"Times,serif\" font-size=\"14.00\" fill=\"#000000\">gini = 0.0</text>\n<text text-anchor=\"middle\" x=\"1919.5\" y=\"-431.3\" font-family=\"Times,serif\" font-size=\"14.00\" fill=\"#000000\">samples = 1</text>\n<text text-anchor=\"middle\" x=\"1919.5\" y=\"-416.3\" font-family=\"Times,serif\" font-size=\"14.00\" fill=\"#000000\">value = [0, 1]</text>\n</g>\n<!-- 102&#45;&gt;106 -->\n<g id=\"edge106\" class=\"edge\">\n<title>102&#45;&gt;106</title>\n<path fill=\"none\" stroke=\"#000000\" d=\"M1839.4651,-504.9465C1852.9509,-493.1606 1868.0409,-479.9726 1881.4521,-468.2519\"/>\n<polygon fill=\"#000000\" stroke=\"#000000\" points=\"1883.9031,-470.7582 1889.1296,-461.5422 1879.2967,-465.4874 1883.9031,-470.7582\"/>\n</g>\n<!-- 104 -->\n<g id=\"node105\" class=\"node\">\n<title>104</title>\n<polygon fill=\"none\" stroke=\"#000000\" points=\"1821,-357.5 1726,-357.5 1726,-304.5 1821,-304.5 1821,-357.5\"/>\n<text text-anchor=\"middle\" x=\"1773.5\" y=\"-342.3\" font-family=\"Times,serif\" font-size=\"14.00\" fill=\"#000000\">gini = 0.5</text>\n<text text-anchor=\"middle\" x=\"1773.5\" y=\"-327.3\" font-family=\"Times,serif\" font-size=\"14.00\" fill=\"#000000\">samples = 2</text>\n<text text-anchor=\"middle\" x=\"1773.5\" y=\"-312.3\" font-family=\"Times,serif\" font-size=\"14.00\" fill=\"#000000\">value = [1, 1]</text>\n</g>\n<!-- 103&#45;&gt;104 -->\n<g id=\"edge104\" class=\"edge\">\n<title>103&#45;&gt;104</title>\n<path fill=\"none\" stroke=\"#000000\" d=\"M1791.6592,-400.9465C1788.8567,-390.1519 1785.749,-378.1813 1782.9082,-367.2389\"/>\n<polygon fill=\"#000000\" stroke=\"#000000\" points=\"1786.2914,-366.3418 1780.3908,-357.5422 1779.516,-368.1008 1786.2914,-366.3418\"/>\n</g>\n<!-- 105 -->\n<g id=\"node106\" class=\"node\">\n<title>105</title>\n<polygon fill=\"none\" stroke=\"#000000\" points=\"1934,-357.5 1839,-357.5 1839,-304.5 1934,-304.5 1934,-357.5\"/>\n<text text-anchor=\"middle\" x=\"1886.5\" y=\"-342.3\" font-family=\"Times,serif\" font-size=\"14.00\" fill=\"#000000\">gini = 0.444</text>\n<text text-anchor=\"middle\" x=\"1886.5\" y=\"-327.3\" font-family=\"Times,serif\" font-size=\"14.00\" fill=\"#000000\">samples = 3</text>\n<text text-anchor=\"middle\" x=\"1886.5\" y=\"-312.3\" font-family=\"Times,serif\" font-size=\"14.00\" fill=\"#000000\">value = [1, 2]</text>\n</g>\n<!-- 103&#45;&gt;105 -->\n<g id=\"edge105\" class=\"edge\">\n<title>103&#45;&gt;105</title>\n<path fill=\"none\" stroke=\"#000000\" d=\"M1828.6596,-400.9465C1838.0413,-389.6012 1848.4973,-376.9567 1857.9113,-365.5724\"/>\n<polygon fill=\"#000000\" stroke=\"#000000\" points=\"1860.8763,-367.4791 1864.5517,-357.5422 1855.4817,-363.0182 1860.8763,-367.4791\"/>\n</g>\n<!-- 108 -->\n<g id=\"node109\" class=\"node\">\n<title>108</title>\n<polygon fill=\"none\" stroke=\"#000000\" points=\"1277.5,-1093 1171.5,-1093 1171.5,-1025 1277.5,-1025 1277.5,-1093\"/>\n<text text-anchor=\"middle\" x=\"1224.5\" y=\"-1077.8\" font-family=\"Times,serif\" font-size=\"14.00\" fill=\"#000000\">X[2] &lt;= &#45;1.565</text>\n<text text-anchor=\"middle\" x=\"1224.5\" y=\"-1062.8\" font-family=\"Times,serif\" font-size=\"14.00\" fill=\"#000000\">gini = 0.346</text>\n<text text-anchor=\"middle\" x=\"1224.5\" y=\"-1047.8\" font-family=\"Times,serif\" font-size=\"14.00\" fill=\"#000000\">samples = 9</text>\n<text text-anchor=\"middle\" x=\"1224.5\" y=\"-1032.8\" font-family=\"Times,serif\" font-size=\"14.00\" fill=\"#000000\">value = [2, 7]</text>\n</g>\n<!-- 107&#45;&gt;108 -->\n<g id=\"edge108\" class=\"edge\">\n<title>107&#45;&gt;108</title>\n<path fill=\"none\" stroke=\"#000000\" d=\"M1304.5349,-1128.9465C1293.8505,-1119.6088 1282.1591,-1109.3911 1271.0934,-1099.7203\"/>\n<polygon fill=\"#000000\" stroke=\"#000000\" points=\"1273.3855,-1097.0752 1263.5526,-1093.13 1268.7791,-1102.346 1273.3855,-1097.0752\"/>\n</g>\n<!-- 117 -->\n<g id=\"node118\" class=\"node\">\n<title>117</title>\n<polygon fill=\"none\" stroke=\"#000000\" points=\"1391,-1085.5 1296,-1085.5 1296,-1032.5 1391,-1032.5 1391,-1085.5\"/>\n<text text-anchor=\"middle\" x=\"1343.5\" y=\"-1070.3\" font-family=\"Times,serif\" font-size=\"14.00\" fill=\"#000000\">gini = 0.0</text>\n<text text-anchor=\"middle\" x=\"1343.5\" y=\"-1055.3\" font-family=\"Times,serif\" font-size=\"14.00\" fill=\"#000000\">samples = 2</text>\n<text text-anchor=\"middle\" x=\"1343.5\" y=\"-1040.3\" font-family=\"Times,serif\" font-size=\"14.00\" fill=\"#000000\">value = [2, 0]</text>\n</g>\n<!-- 107&#45;&gt;117 -->\n<g id=\"edge117\" class=\"edge\">\n<title>107&#45;&gt;117</title>\n<path fill=\"none\" stroke=\"#000000\" d=\"M1343.5,-1128.9465C1343.5,-1118.2621 1343.5,-1106.4254 1343.5,-1095.5742\"/>\n<polygon fill=\"#000000\" stroke=\"#000000\" points=\"1347.0001,-1095.5421 1343.5,-1085.5422 1340.0001,-1095.5422 1347.0001,-1095.5421\"/>\n</g>\n<!-- 109 -->\n<g id=\"node110\" class=\"node\">\n<title>109</title>\n<polygon fill=\"none\" stroke=\"#000000\" points=\"1162,-981.5 1067,-981.5 1067,-928.5 1162,-928.5 1162,-981.5\"/>\n<text text-anchor=\"middle\" x=\"1114.5\" y=\"-966.3\" font-family=\"Times,serif\" font-size=\"14.00\" fill=\"#000000\">gini = 0.0</text>\n<text text-anchor=\"middle\" x=\"1114.5\" y=\"-951.3\" font-family=\"Times,serif\" font-size=\"14.00\" fill=\"#000000\">samples = 1</text>\n<text text-anchor=\"middle\" x=\"1114.5\" y=\"-936.3\" font-family=\"Times,serif\" font-size=\"14.00\" fill=\"#000000\">value = [1, 0]</text>\n</g>\n<!-- 108&#45;&gt;109 -->\n<g id=\"edge109\" class=\"edge\">\n<title>108&#45;&gt;109</title>\n<path fill=\"none\" stroke=\"#000000\" d=\"M1188.4819,-1024.9465C1176.1325,-1013.2707 1162.3278,-1000.219 1150.0183,-988.5809\"/>\n<polygon fill=\"#000000\" stroke=\"#000000\" points=\"1152.2445,-985.869 1142.5734,-981.5422 1147.4354,-990.9556 1152.2445,-985.869\"/>\n</g>\n<!-- 110 -->\n<g id=\"node111\" class=\"node\">\n<title>110</title>\n<polygon fill=\"none\" stroke=\"#000000\" points=\"1286.5,-989 1180.5,-989 1180.5,-921 1286.5,-921 1286.5,-989\"/>\n<text text-anchor=\"middle\" x=\"1233.5\" y=\"-973.8\" font-family=\"Times,serif\" font-size=\"14.00\" fill=\"#000000\">X[1] &lt;= &#45;0.019</text>\n<text text-anchor=\"middle\" x=\"1233.5\" y=\"-958.8\" font-family=\"Times,serif\" font-size=\"14.00\" fill=\"#000000\">gini = 0.219</text>\n<text text-anchor=\"middle\" x=\"1233.5\" y=\"-943.8\" font-family=\"Times,serif\" font-size=\"14.00\" fill=\"#000000\">samples = 8</text>\n<text text-anchor=\"middle\" x=\"1233.5\" y=\"-928.8\" font-family=\"Times,serif\" font-size=\"14.00\" fill=\"#000000\">value = [1, 7]</text>\n</g>\n<!-- 108&#45;&gt;110 -->\n<g id=\"edge110\" class=\"edge\">\n<title>108&#45;&gt;110</title>\n<path fill=\"none\" stroke=\"#000000\" d=\"M1227.4469,-1024.9465C1228.154,-1016.776 1228.9194,-1007.9318 1229.6603,-999.3697\"/>\n<polygon fill=\"#000000\" stroke=\"#000000\" points=\"1233.1712,-999.3945 1230.5464,-989.13 1226.1972,-998.791 1233.1712,-999.3945\"/>\n</g>\n<!-- 111 -->\n<g id=\"node112\" class=\"node\">\n<title>111</title>\n<polygon fill=\"none\" stroke=\"#000000\" points=\"1281,-877.5 1186,-877.5 1186,-824.5 1281,-824.5 1281,-877.5\"/>\n<text text-anchor=\"middle\" x=\"1233.5\" y=\"-862.3\" font-family=\"Times,serif\" font-size=\"14.00\" fill=\"#000000\">gini = 0.0</text>\n<text text-anchor=\"middle\" x=\"1233.5\" y=\"-847.3\" font-family=\"Times,serif\" font-size=\"14.00\" fill=\"#000000\">samples = 4</text>\n<text text-anchor=\"middle\" x=\"1233.5\" y=\"-832.3\" font-family=\"Times,serif\" font-size=\"14.00\" fill=\"#000000\">value = [0, 4]</text>\n</g>\n<!-- 110&#45;&gt;111 -->\n<g id=\"edge111\" class=\"edge\">\n<title>110&#45;&gt;111</title>\n<path fill=\"none\" stroke=\"#000000\" d=\"M1233.5,-920.9465C1233.5,-910.2621 1233.5,-898.4254 1233.5,-887.5742\"/>\n<polygon fill=\"#000000\" stroke=\"#000000\" points=\"1237.0001,-887.5421 1233.5,-877.5422 1230.0001,-887.5422 1237.0001,-887.5421\"/>\n</g>\n<!-- 112 -->\n<g id=\"node113\" class=\"node\">\n<title>112</title>\n<polygon fill=\"none\" stroke=\"#000000\" points=\"1490.5,-885 1384.5,-885 1384.5,-817 1490.5,-817 1490.5,-885\"/>\n<text text-anchor=\"middle\" x=\"1437.5\" y=\"-869.8\" font-family=\"Times,serif\" font-size=\"14.00\" fill=\"#000000\">X[2] &lt;= &#45;1.151</text>\n<text text-anchor=\"middle\" x=\"1437.5\" y=\"-854.8\" font-family=\"Times,serif\" font-size=\"14.00\" fill=\"#000000\">gini = 0.375</text>\n<text text-anchor=\"middle\" x=\"1437.5\" y=\"-839.8\" font-family=\"Times,serif\" font-size=\"14.00\" fill=\"#000000\">samples = 4</text>\n<text text-anchor=\"middle\" x=\"1437.5\" y=\"-824.8\" font-family=\"Times,serif\" font-size=\"14.00\" fill=\"#000000\">value = [1, 3]</text>\n</g>\n<!-- 110&#45;&gt;112 -->\n<g id=\"edge112\" class=\"edge\">\n<title>110&#45;&gt;112</title>\n<path fill=\"none\" stroke=\"#000000\" d=\"M1286.5181,-925.7277C1289.5499,-924.1155 1292.5597,-922.53 1295.5,-921 1321.4497,-907.4969 1350.366,-893.1225 1375.2971,-880.9352\"/>\n<polygon fill=\"#000000\" stroke=\"#000000\" points=\"1376.8353,-884.0792 1384.2891,-876.5498 1373.7668,-877.7876 1376.8353,-884.0792\"/>\n</g>\n<!-- 113 -->\n<g id=\"node114\" class=\"node\">\n<title>113</title>\n<polygon fill=\"none\" stroke=\"#000000\" points=\"1485,-773.5 1390,-773.5 1390,-720.5 1485,-720.5 1485,-773.5\"/>\n<text text-anchor=\"middle\" x=\"1437.5\" y=\"-758.3\" font-family=\"Times,serif\" font-size=\"14.00\" fill=\"#000000\">gini = 0.0</text>\n<text text-anchor=\"middle\" x=\"1437.5\" y=\"-743.3\" font-family=\"Times,serif\" font-size=\"14.00\" fill=\"#000000\">samples = 1</text>\n<text text-anchor=\"middle\" x=\"1437.5\" y=\"-728.3\" font-family=\"Times,serif\" font-size=\"14.00\" fill=\"#000000\">value = [0, 1]</text>\n</g>\n<!-- 112&#45;&gt;113 -->\n<g id=\"edge113\" class=\"edge\">\n<title>112&#45;&gt;113</title>\n<path fill=\"none\" stroke=\"#000000\" d=\"M1437.5,-816.9465C1437.5,-806.2621 1437.5,-794.4254 1437.5,-783.5742\"/>\n<polygon fill=\"#000000\" stroke=\"#000000\" points=\"1441.0001,-783.5421 1437.5,-773.5422 1434.0001,-783.5422 1441.0001,-783.5421\"/>\n</g>\n<!-- 114 -->\n<g id=\"node115\" class=\"node\">\n<title>114</title>\n<polygon fill=\"none\" stroke=\"#000000\" points=\"1731.5,-781 1625.5,-781 1625.5,-713 1731.5,-713 1731.5,-781\"/>\n<text text-anchor=\"middle\" x=\"1678.5\" y=\"-765.8\" font-family=\"Times,serif\" font-size=\"14.00\" fill=\"#000000\">X[2] &lt;= &#45;0.653</text>\n<text text-anchor=\"middle\" x=\"1678.5\" y=\"-750.8\" font-family=\"Times,serif\" font-size=\"14.00\" fill=\"#000000\">gini = 0.444</text>\n<text text-anchor=\"middle\" x=\"1678.5\" y=\"-735.8\" font-family=\"Times,serif\" font-size=\"14.00\" fill=\"#000000\">samples = 3</text>\n<text text-anchor=\"middle\" x=\"1678.5\" y=\"-720.8\" font-family=\"Times,serif\" font-size=\"14.00\" fill=\"#000000\">value = [1, 2]</text>\n</g>\n<!-- 112&#45;&gt;114 -->\n<g id=\"edge114\" class=\"edge\">\n<title>112&#45;&gt;114</title>\n<path fill=\"none\" stroke=\"#000000\" d=\"M1490.6868,-828.048C1527.6174,-812.1111 1576.9681,-790.8146 1615.8134,-774.0515\"/>\n<polygon fill=\"#000000\" stroke=\"#000000\" points=\"1617.6542,-777.0691 1625.449,-769.8934 1614.8807,-770.642 1617.6542,-777.0691\"/>\n</g>\n<!-- 115 -->\n<g id=\"node116\" class=\"node\">\n<title>115</title>\n<polygon fill=\"none\" stroke=\"#000000\" points=\"1726,-669.5 1631,-669.5 1631,-616.5 1726,-616.5 1726,-669.5\"/>\n<text text-anchor=\"middle\" x=\"1678.5\" y=\"-654.3\" font-family=\"Times,serif\" font-size=\"14.00\" fill=\"#000000\">gini = 0.5</text>\n<text text-anchor=\"middle\" x=\"1678.5\" y=\"-639.3\" font-family=\"Times,serif\" font-size=\"14.00\" fill=\"#000000\">samples = 2</text>\n<text text-anchor=\"middle\" x=\"1678.5\" y=\"-624.3\" font-family=\"Times,serif\" font-size=\"14.00\" fill=\"#000000\">value = [1, 1]</text>\n</g>\n<!-- 114&#45;&gt;115 -->\n<g id=\"edge115\" class=\"edge\">\n<title>114&#45;&gt;115</title>\n<path fill=\"none\" stroke=\"#000000\" d=\"M1678.5,-712.9465C1678.5,-702.2621 1678.5,-690.4254 1678.5,-679.5742\"/>\n<polygon fill=\"#000000\" stroke=\"#000000\" points=\"1682.0001,-679.5421 1678.5,-669.5422 1675.0001,-679.5422 1682.0001,-679.5421\"/>\n</g>\n<!-- 116 -->\n<g id=\"node117\" class=\"node\">\n<title>116</title>\n<polygon fill=\"none\" stroke=\"#000000\" points=\"1839,-669.5 1744,-669.5 1744,-616.5 1839,-616.5 1839,-669.5\"/>\n<text text-anchor=\"middle\" x=\"1791.5\" y=\"-654.3\" font-family=\"Times,serif\" font-size=\"14.00\" fill=\"#000000\">gini = 0.0</text>\n<text text-anchor=\"middle\" x=\"1791.5\" y=\"-639.3\" font-family=\"Times,serif\" font-size=\"14.00\" fill=\"#000000\">samples = 1</text>\n<text text-anchor=\"middle\" x=\"1791.5\" y=\"-624.3\" font-family=\"Times,serif\" font-size=\"14.00\" fill=\"#000000\">value = [0, 1]</text>\n</g>\n<!-- 114&#45;&gt;116 -->\n<g id=\"edge116\" class=\"edge\">\n<title>114&#45;&gt;116</title>\n<path fill=\"none\" stroke=\"#000000\" d=\"M1715.5004,-712.9465C1728.1866,-701.2707 1742.3678,-688.219 1755.013,-676.5809\"/>\n<polygon fill=\"#000000\" stroke=\"#000000\" points=\"1757.6731,-678.8895 1762.6609,-669.5422 1752.9327,-673.7389 1757.6731,-678.8895\"/>\n</g>\n<!-- 119 -->\n<g id=\"node120\" class=\"node\">\n<title>119</title>\n<polygon fill=\"none\" stroke=\"#000000\" points=\"1698.5,-1509 1588.5,-1509 1588.5,-1441 1698.5,-1441 1698.5,-1509\"/>\n<text text-anchor=\"middle\" x=\"1643.5\" y=\"-1493.8\" font-family=\"Times,serif\" font-size=\"14.00\" fill=\"#000000\">X[6] &lt;= 0.128</text>\n<text text-anchor=\"middle\" x=\"1643.5\" y=\"-1478.8\" font-family=\"Times,serif\" font-size=\"14.00\" fill=\"#000000\">gini = 0.466</text>\n<text text-anchor=\"middle\" x=\"1643.5\" y=\"-1463.8\" font-family=\"Times,serif\" font-size=\"14.00\" fill=\"#000000\">samples = 54</text>\n<text text-anchor=\"middle\" x=\"1643.5\" y=\"-1448.8\" font-family=\"Times,serif\" font-size=\"14.00\" fill=\"#000000\">value = [34, 20]</text>\n</g>\n<!-- 118&#45;&gt;119 -->\n<g id=\"edge119\" class=\"edge\">\n<title>118&#45;&gt;119</title>\n<path fill=\"none\" stroke=\"#000000\" d=\"M1643.5,-1544.9465C1643.5,-1536.776 1643.5,-1527.9318 1643.5,-1519.3697\"/>\n<polygon fill=\"#000000\" stroke=\"#000000\" points=\"1647.0001,-1519.13 1643.5,-1509.13 1640.0001,-1519.13 1647.0001,-1519.13\"/>\n</g>\n<!-- 166 -->\n<g id=\"node167\" class=\"node\">\n<title>166</title>\n<polygon fill=\"none\" stroke=\"#000000\" points=\"1812,-1501.5 1717,-1501.5 1717,-1448.5 1812,-1448.5 1812,-1501.5\"/>\n<text text-anchor=\"middle\" x=\"1764.5\" y=\"-1486.3\" font-family=\"Times,serif\" font-size=\"14.00\" fill=\"#000000\">gini = 0.0</text>\n<text text-anchor=\"middle\" x=\"1764.5\" y=\"-1471.3\" font-family=\"Times,serif\" font-size=\"14.00\" fill=\"#000000\">samples = 6</text>\n<text text-anchor=\"middle\" x=\"1764.5\" y=\"-1456.3\" font-family=\"Times,serif\" font-size=\"14.00\" fill=\"#000000\">value = [6, 0]</text>\n</g>\n<!-- 118&#45;&gt;166 -->\n<g id=\"edge166\" class=\"edge\">\n<title>118&#45;&gt;166</title>\n<path fill=\"none\" stroke=\"#000000\" d=\"M1683.1199,-1544.9465C1696.8324,-1533.1606 1712.1761,-1519.9726 1725.8127,-1508.2519\"/>\n<polygon fill=\"#000000\" stroke=\"#000000\" points=\"1728.3169,-1510.7147 1733.6192,-1501.5422 1723.7541,-1505.4061 1728.3169,-1510.7147\"/>\n</g>\n<!-- 120 -->\n<g id=\"node121\" class=\"node\">\n<title>120</title>\n<polygon fill=\"none\" stroke=\"#000000\" points=\"1696.5,-1405 1590.5,-1405 1590.5,-1337 1696.5,-1337 1696.5,-1405\"/>\n<text text-anchor=\"middle\" x=\"1643.5\" y=\"-1389.8\" font-family=\"Times,serif\" font-size=\"14.00\" fill=\"#000000\">X[1] &lt;= &#45;0.019</text>\n<text text-anchor=\"middle\" x=\"1643.5\" y=\"-1374.8\" font-family=\"Times,serif\" font-size=\"14.00\" fill=\"#000000\">gini = 0.412</text>\n<text text-anchor=\"middle\" x=\"1643.5\" y=\"-1359.8\" font-family=\"Times,serif\" font-size=\"14.00\" fill=\"#000000\">samples = 31</text>\n<text text-anchor=\"middle\" x=\"1643.5\" y=\"-1344.8\" font-family=\"Times,serif\" font-size=\"14.00\" fill=\"#000000\">value = [22, 9]</text>\n</g>\n<!-- 119&#45;&gt;120 -->\n<g id=\"edge120\" class=\"edge\">\n<title>119&#45;&gt;120</title>\n<path fill=\"none\" stroke=\"#000000\" d=\"M1643.5,-1440.9465C1643.5,-1432.776 1643.5,-1423.9318 1643.5,-1415.3697\"/>\n<polygon fill=\"#000000\" stroke=\"#000000\" points=\"1647.0001,-1415.13 1643.5,-1405.13 1640.0001,-1415.13 1647.0001,-1415.13\"/>\n</g>\n<!-- 143 -->\n<g id=\"node144\" class=\"node\">\n<title>143</title>\n<polygon fill=\"none\" stroke=\"#000000\" points=\"2220,-1405 2111,-1405 2111,-1337 2220,-1337 2220,-1405\"/>\n<text text-anchor=\"middle\" x=\"2165.5\" y=\"-1389.8\" font-family=\"Times,serif\" font-size=\"14.00\" fill=\"#000000\">X[1] &lt;= &#45;0.019</text>\n<text text-anchor=\"middle\" x=\"2165.5\" y=\"-1374.8\" font-family=\"Times,serif\" font-size=\"14.00\" fill=\"#000000\">gini = 0.499</text>\n<text text-anchor=\"middle\" x=\"2165.5\" y=\"-1359.8\" font-family=\"Times,serif\" font-size=\"14.00\" fill=\"#000000\">samples = 23</text>\n<text text-anchor=\"middle\" x=\"2165.5\" y=\"-1344.8\" font-family=\"Times,serif\" font-size=\"14.00\" fill=\"#000000\">value = [12, 11]</text>\n</g>\n<!-- 119&#45;&gt;143 -->\n<g id=\"edge143\" class=\"edge\">\n<title>119&#45;&gt;143</title>\n<path fill=\"none\" stroke=\"#000000\" d=\"M1698.8557,-1444.1808C1701.7423,-1443.0205 1704.6337,-1441.9499 1707.5,-1441 1842.9614,-1396.1096 2010.6339,-1379.8197 2100.8132,-1374.0487\"/>\n<polygon fill=\"#000000\" stroke=\"#000000\" points=\"2101.1224,-1377.5364 2110.888,-1373.4273 2100.6914,-1370.5497 2101.1224,-1377.5364\"/>\n</g>\n<!-- 121 -->\n<g id=\"node122\" class=\"node\">\n<title>121</title>\n<polygon fill=\"none\" stroke=\"#000000\" points=\"1633,-1301 1538,-1301 1538,-1233 1633,-1233 1633,-1301\"/>\n<text text-anchor=\"middle\" x=\"1585.5\" y=\"-1285.8\" font-family=\"Times,serif\" font-size=\"14.00\" fill=\"#000000\">X[2] &lt;= 1.42</text>\n<text text-anchor=\"middle\" x=\"1585.5\" y=\"-1270.8\" font-family=\"Times,serif\" font-size=\"14.00\" fill=\"#000000\">gini = 0.473</text>\n<text text-anchor=\"middle\" x=\"1585.5\" y=\"-1255.8\" font-family=\"Times,serif\" font-size=\"14.00\" fill=\"#000000\">samples = 13</text>\n<text text-anchor=\"middle\" x=\"1585.5\" y=\"-1240.8\" font-family=\"Times,serif\" font-size=\"14.00\" fill=\"#000000\">value = [8, 5]</text>\n</g>\n<!-- 120&#45;&gt;121 -->\n<g id=\"edge121\" class=\"edge\">\n<title>120&#45;&gt;121</title>\n<path fill=\"none\" stroke=\"#000000\" d=\"M1624.5086,-1336.9465C1619.7017,-1328.3271 1614.4765,-1318.9579 1609.4591,-1309.9611\"/>\n<polygon fill=\"#000000\" stroke=\"#000000\" points=\"1612.4615,-1308.1589 1604.534,-1301.13 1606.348,-1311.5684 1612.4615,-1308.1589\"/>\n</g>\n<!-- 132 -->\n<g id=\"node133\" class=\"node\">\n<title>132</title>\n<polygon fill=\"none\" stroke=\"#000000\" points=\"1753.5,-1301 1651.5,-1301 1651.5,-1233 1753.5,-1233 1753.5,-1301\"/>\n<text text-anchor=\"middle\" x=\"1702.5\" y=\"-1285.8\" font-family=\"Times,serif\" font-size=\"14.00\" fill=\"#000000\">X[2] &lt;= 0.425</text>\n<text text-anchor=\"middle\" x=\"1702.5\" y=\"-1270.8\" font-family=\"Times,serif\" font-size=\"14.00\" fill=\"#000000\">gini = 0.346</text>\n<text text-anchor=\"middle\" x=\"1702.5\" y=\"-1255.8\" font-family=\"Times,serif\" font-size=\"14.00\" fill=\"#000000\">samples = 18</text>\n<text text-anchor=\"middle\" x=\"1702.5\" y=\"-1240.8\" font-family=\"Times,serif\" font-size=\"14.00\" fill=\"#000000\">value = [14, 4]</text>\n</g>\n<!-- 120&#45;&gt;132 -->\n<g id=\"edge132\" class=\"edge\">\n<title>120&#45;&gt;132</title>\n<path fill=\"none\" stroke=\"#000000\" d=\"M1662.8188,-1336.9465C1667.7087,-1328.3271 1673.0239,-1318.9579 1678.1278,-1309.9611\"/>\n<polygon fill=\"#000000\" stroke=\"#000000\" points=\"1681.2476,-1311.5549 1683.1378,-1301.13 1675.1592,-1308.1008 1681.2476,-1311.5549\"/>\n</g>\n<!-- 122 -->\n<g id=\"node123\" class=\"node\">\n<title>122</title>\n<polygon fill=\"none\" stroke=\"#000000\" points=\"1521,-1197 1420,-1197 1420,-1129 1521,-1129 1521,-1197\"/>\n<text text-anchor=\"middle\" x=\"1470.5\" y=\"-1181.8\" font-family=\"Times,serif\" font-size=\"14.00\" fill=\"#000000\">X[5] &lt;= 1.119</text>\n<text text-anchor=\"middle\" x=\"1470.5\" y=\"-1166.8\" font-family=\"Times,serif\" font-size=\"14.00\" fill=\"#000000\">gini = 0.444</text>\n<text text-anchor=\"middle\" x=\"1470.5\" y=\"-1151.8\" font-family=\"Times,serif\" font-size=\"14.00\" fill=\"#000000\">samples = 12</text>\n<text text-anchor=\"middle\" x=\"1470.5\" y=\"-1136.8\" font-family=\"Times,serif\" font-size=\"14.00\" fill=\"#000000\">value = [8, 4]</text>\n</g>\n<!-- 121&#45;&gt;122 -->\n<g id=\"edge122\" class=\"edge\">\n<title>121&#45;&gt;122</title>\n<path fill=\"none\" stroke=\"#000000\" d=\"M1547.8447,-1232.9465C1537.6187,-1223.6986 1526.4382,-1213.5876 1515.8359,-1203.9994\"/>\n<polygon fill=\"#000000\" stroke=\"#000000\" points=\"1518.0044,-1201.2416 1508.2399,-1197.13 1513.3092,-1206.4334 1518.0044,-1201.2416\"/>\n</g>\n<!-- 131 -->\n<g id=\"node132\" class=\"node\">\n<title>131</title>\n<polygon fill=\"none\" stroke=\"#000000\" points=\"1634,-1189.5 1539,-1189.5 1539,-1136.5 1634,-1136.5 1634,-1189.5\"/>\n<text text-anchor=\"middle\" x=\"1586.5\" y=\"-1174.3\" font-family=\"Times,serif\" font-size=\"14.00\" fill=\"#000000\">gini = 0.0</text>\n<text text-anchor=\"middle\" x=\"1586.5\" y=\"-1159.3\" font-family=\"Times,serif\" font-size=\"14.00\" fill=\"#000000\">samples = 1</text>\n<text text-anchor=\"middle\" x=\"1586.5\" y=\"-1144.3\" font-family=\"Times,serif\" font-size=\"14.00\" fill=\"#000000\">value = [0, 1]</text>\n</g>\n<!-- 121&#45;&gt;131 -->\n<g id=\"edge131\" class=\"edge\">\n<title>121&#45;&gt;131</title>\n<path fill=\"none\" stroke=\"#000000\" d=\"M1585.8274,-1232.9465C1585.9302,-1222.2621 1586.044,-1210.4254 1586.1483,-1199.5742\"/>\n<polygon fill=\"#000000\" stroke=\"#000000\" points=\"1589.6484,-1199.5754 1586.2448,-1189.5422 1582.6487,-1199.508 1589.6484,-1199.5754\"/>\n</g>\n<!-- 123 -->\n<g id=\"node124\" class=\"node\">\n<title>123</title>\n<polygon fill=\"none\" stroke=\"#000000\" points=\"1515.5,-1093 1409.5,-1093 1409.5,-1025 1515.5,-1025 1515.5,-1093\"/>\n<text text-anchor=\"middle\" x=\"1462.5\" y=\"-1077.8\" font-family=\"Times,serif\" font-size=\"14.00\" fill=\"#000000\">X[0] &lt;= &#45;0.399</text>\n<text text-anchor=\"middle\" x=\"1462.5\" y=\"-1062.8\" font-family=\"Times,serif\" font-size=\"14.00\" fill=\"#000000\">gini = 0.278</text>\n<text text-anchor=\"middle\" x=\"1462.5\" y=\"-1047.8\" font-family=\"Times,serif\" font-size=\"14.00\" fill=\"#000000\">samples = 6</text>\n<text text-anchor=\"middle\" x=\"1462.5\" y=\"-1032.8\" font-family=\"Times,serif\" font-size=\"14.00\" fill=\"#000000\">value = [5, 1]</text>\n</g>\n<!-- 122&#45;&gt;123 -->\n<g id=\"edge123\" class=\"edge\">\n<title>122&#45;&gt;123</title>\n<path fill=\"none\" stroke=\"#000000\" d=\"M1467.8805,-1128.9465C1467.252,-1120.776 1466.5717,-1111.9318 1465.9131,-1103.3697\"/>\n<polygon fill=\"#000000\" stroke=\"#000000\" points=\"1469.3821,-1102.8321 1465.1254,-1093.13 1462.4027,-1103.369 1469.3821,-1102.8321\"/>\n</g>\n<!-- 126 -->\n<g id=\"node127\" class=\"node\">\n<title>126</title>\n<polygon fill=\"none\" stroke=\"#000000\" points=\"1629,-1093 1534,-1093 1534,-1025 1629,-1025 1629,-1093\"/>\n<text text-anchor=\"middle\" x=\"1581.5\" y=\"-1077.8\" font-family=\"Times,serif\" font-size=\"14.00\" fill=\"#000000\">X[2] &lt;= 0.59</text>\n<text text-anchor=\"middle\" x=\"1581.5\" y=\"-1062.8\" font-family=\"Times,serif\" font-size=\"14.00\" fill=\"#000000\">gini = 0.5</text>\n<text text-anchor=\"middle\" x=\"1581.5\" y=\"-1047.8\" font-family=\"Times,serif\" font-size=\"14.00\" fill=\"#000000\">samples = 6</text>\n<text text-anchor=\"middle\" x=\"1581.5\" y=\"-1032.8\" font-family=\"Times,serif\" font-size=\"14.00\" fill=\"#000000\">value = [3, 3]</text>\n</g>\n<!-- 122&#45;&gt;126 -->\n<g id=\"edge126\" class=\"edge\">\n<title>122&#45;&gt;126</title>\n<path fill=\"none\" stroke=\"#000000\" d=\"M1506.8456,-1128.9465C1516.7159,-1119.6986 1527.5075,-1109.5876 1537.741,-1099.9994\"/>\n<polygon fill=\"#000000\" stroke=\"#000000\" points=\"1540.1684,-1102.5214 1545.0728,-1093.13 1535.3823,-1097.4131 1540.1684,-1102.5214\"/>\n</g>\n<!-- 124 -->\n<g id=\"node125\" class=\"node\">\n<title>124</title>\n<polygon fill=\"none\" stroke=\"#000000\" points=\"1400,-981.5 1305,-981.5 1305,-928.5 1400,-928.5 1400,-981.5\"/>\n<text text-anchor=\"middle\" x=\"1352.5\" y=\"-966.3\" font-family=\"Times,serif\" font-size=\"14.00\" fill=\"#000000\">gini = 0.0</text>\n<text text-anchor=\"middle\" x=\"1352.5\" y=\"-951.3\" font-family=\"Times,serif\" font-size=\"14.00\" fill=\"#000000\">samples = 5</text>\n<text text-anchor=\"middle\" x=\"1352.5\" y=\"-936.3\" font-family=\"Times,serif\" font-size=\"14.00\" fill=\"#000000\">value = [5, 0]</text>\n</g>\n<!-- 123&#45;&gt;124 -->\n<g id=\"edge124\" class=\"edge\">\n<title>123&#45;&gt;124</title>\n<path fill=\"none\" stroke=\"#000000\" d=\"M1426.4819,-1024.9465C1414.1325,-1013.2707 1400.3278,-1000.219 1388.0183,-988.5809\"/>\n<polygon fill=\"#000000\" stroke=\"#000000\" points=\"1390.2445,-985.869 1380.5734,-981.5422 1385.4354,-990.9556 1390.2445,-985.869\"/>\n</g>\n<!-- 125 -->\n<g id=\"node126\" class=\"node\">\n<title>125</title>\n<polygon fill=\"none\" stroke=\"#000000\" points=\"1513,-981.5 1418,-981.5 1418,-928.5 1513,-928.5 1513,-981.5\"/>\n<text text-anchor=\"middle\" x=\"1465.5\" y=\"-966.3\" font-family=\"Times,serif\" font-size=\"14.00\" fill=\"#000000\">gini = 0.0</text>\n<text text-anchor=\"middle\" x=\"1465.5\" y=\"-951.3\" font-family=\"Times,serif\" font-size=\"14.00\" fill=\"#000000\">samples = 1</text>\n<text text-anchor=\"middle\" x=\"1465.5\" y=\"-936.3\" font-family=\"Times,serif\" font-size=\"14.00\" fill=\"#000000\">value = [0, 1]</text>\n</g>\n<!-- 123&#45;&gt;125 -->\n<g id=\"edge125\" class=\"edge\">\n<title>123&#45;&gt;125</title>\n<path fill=\"none\" stroke=\"#000000\" d=\"M1463.4823,-1024.9465C1463.7905,-1014.2621 1464.132,-1002.4254 1464.445,-991.5742\"/>\n<polygon fill=\"#000000\" stroke=\"#000000\" points=\"1467.9445,-991.639 1464.7344,-981.5422 1460.9474,-991.4371 1467.9445,-991.639\"/>\n</g>\n<!-- 127 -->\n<g id=\"node128\" class=\"node\">\n<title>127</title>\n<polygon fill=\"none\" stroke=\"#000000\" points=\"1626,-981.5 1531,-981.5 1531,-928.5 1626,-928.5 1626,-981.5\"/>\n<text text-anchor=\"middle\" x=\"1578.5\" y=\"-966.3\" font-family=\"Times,serif\" font-size=\"14.00\" fill=\"#000000\">gini = 0.0</text>\n<text text-anchor=\"middle\" x=\"1578.5\" y=\"-951.3\" font-family=\"Times,serif\" font-size=\"14.00\" fill=\"#000000\">samples = 2</text>\n<text text-anchor=\"middle\" x=\"1578.5\" y=\"-936.3\" font-family=\"Times,serif\" font-size=\"14.00\" fill=\"#000000\">value = [2, 0]</text>\n</g>\n<!-- 126&#45;&gt;127 -->\n<g id=\"edge127\" class=\"edge\">\n<title>126&#45;&gt;127</title>\n<path fill=\"none\" stroke=\"#000000\" d=\"M1580.5177,-1024.9465C1580.2095,-1014.2621 1579.868,-1002.4254 1579.555,-991.5742\"/>\n<polygon fill=\"#000000\" stroke=\"#000000\" points=\"1583.0526,-991.4371 1579.2656,-981.5422 1576.0555,-991.639 1583.0526,-991.4371\"/>\n</g>\n<!-- 128 -->\n<g id=\"node129\" class=\"node\">\n<title>128</title>\n<polygon fill=\"none\" stroke=\"#000000\" points=\"1745,-989 1644,-989 1644,-921 1745,-921 1745,-989\"/>\n<text text-anchor=\"middle\" x=\"1694.5\" y=\"-973.8\" font-family=\"Times,serif\" font-size=\"14.00\" fill=\"#000000\">X[2] &lt;= 1.254</text>\n<text text-anchor=\"middle\" x=\"1694.5\" y=\"-958.8\" font-family=\"Times,serif\" font-size=\"14.00\" fill=\"#000000\">gini = 0.375</text>\n<text text-anchor=\"middle\" x=\"1694.5\" y=\"-943.8\" font-family=\"Times,serif\" font-size=\"14.00\" fill=\"#000000\">samples = 4</text>\n<text text-anchor=\"middle\" x=\"1694.5\" y=\"-928.8\" font-family=\"Times,serif\" font-size=\"14.00\" fill=\"#000000\">value = [1, 3]</text>\n</g>\n<!-- 126&#45;&gt;128 -->\n<g id=\"edge128\" class=\"edge\">\n<title>126&#45;&gt;128</title>\n<path fill=\"none\" stroke=\"#000000\" d=\"M1618.5004,-1024.9465C1628.5486,-1015.6986 1639.5347,-1005.5876 1649.9526,-995.9994\"/>\n<polygon fill=\"#000000\" stroke=\"#000000\" points=\"1652.4286,-998.4773 1657.4164,-989.13 1647.6882,-993.3267 1652.4286,-998.4773\"/>\n</g>\n<!-- 129 -->\n<g id=\"node130\" class=\"node\">\n<title>129</title>\n<polygon fill=\"none\" stroke=\"#000000\" points=\"1632,-877.5 1537,-877.5 1537,-824.5 1632,-824.5 1632,-877.5\"/>\n<text text-anchor=\"middle\" x=\"1584.5\" y=\"-862.3\" font-family=\"Times,serif\" font-size=\"14.00\" fill=\"#000000\">gini = 0.0</text>\n<text text-anchor=\"middle\" x=\"1584.5\" y=\"-847.3\" font-family=\"Times,serif\" font-size=\"14.00\" fill=\"#000000\">samples = 3</text>\n<text text-anchor=\"middle\" x=\"1584.5\" y=\"-832.3\" font-family=\"Times,serif\" font-size=\"14.00\" fill=\"#000000\">value = [0, 3]</text>\n</g>\n<!-- 128&#45;&gt;129 -->\n<g id=\"edge129\" class=\"edge\">\n<title>128&#45;&gt;129</title>\n<path fill=\"none\" stroke=\"#000000\" d=\"M1658.4819,-920.9465C1646.1325,-909.2707 1632.3278,-896.219 1620.0183,-884.5809\"/>\n<polygon fill=\"#000000\" stroke=\"#000000\" points=\"1622.2445,-881.869 1612.5734,-877.5422 1617.4354,-886.9556 1622.2445,-881.869\"/>\n</g>\n<!-- 130 -->\n<g id=\"node131\" class=\"node\">\n<title>130</title>\n<polygon fill=\"none\" stroke=\"#000000\" points=\"1745,-877.5 1650,-877.5 1650,-824.5 1745,-824.5 1745,-877.5\"/>\n<text text-anchor=\"middle\" x=\"1697.5\" y=\"-862.3\" font-family=\"Times,serif\" font-size=\"14.00\" fill=\"#000000\">gini = 0.0</text>\n<text text-anchor=\"middle\" x=\"1697.5\" y=\"-847.3\" font-family=\"Times,serif\" font-size=\"14.00\" fill=\"#000000\">samples = 1</text>\n<text text-anchor=\"middle\" x=\"1697.5\" y=\"-832.3\" font-family=\"Times,serif\" font-size=\"14.00\" fill=\"#000000\">value = [1, 0]</text>\n</g>\n<!-- 128&#45;&gt;130 -->\n<g id=\"edge130\" class=\"edge\">\n<title>128&#45;&gt;130</title>\n<path fill=\"none\" stroke=\"#000000\" d=\"M1695.4823,-920.9465C1695.7905,-910.2621 1696.132,-898.4254 1696.445,-887.5742\"/>\n<polygon fill=\"#000000\" stroke=\"#000000\" points=\"1699.9445,-887.639 1696.7344,-877.5422 1692.9474,-887.4371 1699.9445,-887.639\"/>\n</g>\n<!-- 133 -->\n<g id=\"node134\" class=\"node\">\n<title>133</title>\n<polygon fill=\"none\" stroke=\"#000000\" points=\"1748,-1189.5 1653,-1189.5 1653,-1136.5 1748,-1136.5 1748,-1189.5\"/>\n<text text-anchor=\"middle\" x=\"1700.5\" y=\"-1174.3\" font-family=\"Times,serif\" font-size=\"14.00\" fill=\"#000000\">gini = 0.5</text>\n<text text-anchor=\"middle\" x=\"1700.5\" y=\"-1159.3\" font-family=\"Times,serif\" font-size=\"14.00\" fill=\"#000000\">samples = 4</text>\n<text text-anchor=\"middle\" x=\"1700.5\" y=\"-1144.3\" font-family=\"Times,serif\" font-size=\"14.00\" fill=\"#000000\">value = [2, 2]</text>\n</g>\n<!-- 132&#45;&gt;133 -->\n<g id=\"edge133\" class=\"edge\">\n<title>132&#45;&gt;133</title>\n<path fill=\"none\" stroke=\"#000000\" d=\"M1701.8451,-1232.9465C1701.6397,-1222.2621 1701.412,-1210.4254 1701.2034,-1199.5742\"/>\n<polygon fill=\"#000000\" stroke=\"#000000\" points=\"1704.7021,-1199.473 1701.0104,-1189.5422 1697.7034,-1199.6076 1704.7021,-1199.473\"/>\n</g>\n<!-- 134 -->\n<g id=\"node135\" class=\"node\">\n<title>134</title>\n<polygon fill=\"none\" stroke=\"#000000\" points=\"1868.5,-1197 1766.5,-1197 1766.5,-1129 1868.5,-1129 1868.5,-1197\"/>\n<text text-anchor=\"middle\" x=\"1817.5\" y=\"-1181.8\" font-family=\"Times,serif\" font-size=\"14.00\" fill=\"#000000\">X[7] &lt;= 0.14</text>\n<text text-anchor=\"middle\" x=\"1817.5\" y=\"-1166.8\" font-family=\"Times,serif\" font-size=\"14.00\" fill=\"#000000\">gini = 0.245</text>\n<text text-anchor=\"middle\" x=\"1817.5\" y=\"-1151.8\" font-family=\"Times,serif\" font-size=\"14.00\" fill=\"#000000\">samples = 14</text>\n<text text-anchor=\"middle\" x=\"1817.5\" y=\"-1136.8\" font-family=\"Times,serif\" font-size=\"14.00\" fill=\"#000000\">value = [12, 2]</text>\n</g>\n<!-- 132&#45;&gt;134 -->\n<g id=\"edge134\" class=\"edge\">\n<title>132&#45;&gt;134</title>\n<path fill=\"none\" stroke=\"#000000\" d=\"M1740.1553,-1232.9465C1750.3813,-1223.6986 1761.5618,-1213.5876 1772.1641,-1203.9994\"/>\n<polygon fill=\"#000000\" stroke=\"#000000\" points=\"1774.6908,-1206.4334 1779.7601,-1197.13 1769.9956,-1201.2416 1774.6908,-1206.4334\"/>\n</g>\n<!-- 135 -->\n<g id=\"node136\" class=\"node\">\n<title>135</title>\n<polygon fill=\"none\" stroke=\"#000000\" points=\"1757,-1085.5 1662,-1085.5 1662,-1032.5 1757,-1032.5 1757,-1085.5\"/>\n<text text-anchor=\"middle\" x=\"1709.5\" y=\"-1070.3\" font-family=\"Times,serif\" font-size=\"14.00\" fill=\"#000000\">gini = 0.0</text>\n<text text-anchor=\"middle\" x=\"1709.5\" y=\"-1055.3\" font-family=\"Times,serif\" font-size=\"14.00\" fill=\"#000000\">samples = 4</text>\n<text text-anchor=\"middle\" x=\"1709.5\" y=\"-1040.3\" font-family=\"Times,serif\" font-size=\"14.00\" fill=\"#000000\">value = [4, 0]</text>\n</g>\n<!-- 134&#45;&gt;135 -->\n<g id=\"edge135\" class=\"edge\">\n<title>134&#45;&gt;135</title>\n<path fill=\"none\" stroke=\"#000000\" d=\"M1782.1368,-1128.9465C1770.0119,-1117.2707 1756.4582,-1104.219 1744.3725,-1092.5809\"/>\n<polygon fill=\"#000000\" stroke=\"#000000\" points=\"1746.694,-1089.9575 1737.063,-1085.5422 1741.8385,-1094.9997 1746.694,-1089.9575\"/>\n</g>\n<!-- 136 -->\n<g id=\"node137\" class=\"node\">\n<title>136</title>\n<polygon fill=\"none\" stroke=\"#000000\" points=\"1876,-1093 1775,-1093 1775,-1025 1876,-1025 1876,-1093\"/>\n<text text-anchor=\"middle\" x=\"1825.5\" y=\"-1077.8\" font-family=\"Times,serif\" font-size=\"14.00\" fill=\"#000000\">X[2] &lt;= 1.254</text>\n<text text-anchor=\"middle\" x=\"1825.5\" y=\"-1062.8\" font-family=\"Times,serif\" font-size=\"14.00\" fill=\"#000000\">gini = 0.32</text>\n<text text-anchor=\"middle\" x=\"1825.5\" y=\"-1047.8\" font-family=\"Times,serif\" font-size=\"14.00\" fill=\"#000000\">samples = 10</text>\n<text text-anchor=\"middle\" x=\"1825.5\" y=\"-1032.8\" font-family=\"Times,serif\" font-size=\"14.00\" fill=\"#000000\">value = [8, 2]</text>\n</g>\n<!-- 134&#45;&gt;136 -->\n<g id=\"edge136\" class=\"edge\">\n<title>134&#45;&gt;136</title>\n<path fill=\"none\" stroke=\"#000000\" d=\"M1820.1195,-1128.9465C1820.748,-1120.776 1821.4283,-1111.9318 1822.0869,-1103.3697\"/>\n<polygon fill=\"#000000\" stroke=\"#000000\" points=\"1825.5973,-1103.369 1822.8746,-1093.13 1818.6179,-1102.8321 1825.5973,-1103.369\"/>\n</g>\n<!-- 137 -->\n<g id=\"node138\" class=\"node\">\n<title>137</title>\n<polygon fill=\"none\" stroke=\"#000000\" points=\"1864,-989 1763,-989 1763,-921 1864,-921 1864,-989\"/>\n<text text-anchor=\"middle\" x=\"1813.5\" y=\"-973.8\" font-family=\"Times,serif\" font-size=\"14.00\" fill=\"#000000\">X[2] &lt;= 0.673</text>\n<text text-anchor=\"middle\" x=\"1813.5\" y=\"-958.8\" font-family=\"Times,serif\" font-size=\"14.00\" fill=\"#000000\">gini = 0.375</text>\n<text text-anchor=\"middle\" x=\"1813.5\" y=\"-943.8\" font-family=\"Times,serif\" font-size=\"14.00\" fill=\"#000000\">samples = 8</text>\n<text text-anchor=\"middle\" x=\"1813.5\" y=\"-928.8\" font-family=\"Times,serif\" font-size=\"14.00\" fill=\"#000000\">value = [6, 2]</text>\n</g>\n<!-- 136&#45;&gt;137 -->\n<g id=\"edge137\" class=\"edge\">\n<title>136&#45;&gt;137</title>\n<path fill=\"none\" stroke=\"#000000\" d=\"M1821.5708,-1024.9465C1820.6176,-1016.6863 1819.5851,-1007.7374 1818.587,-999.0875\"/>\n<polygon fill=\"#000000\" stroke=\"#000000\" points=\"1822.0613,-998.6629 1817.4381,-989.13 1815.1075,-999.4653 1822.0613,-998.6629\"/>\n</g>\n<!-- 142 -->\n<g id=\"node143\" class=\"node\">\n<title>142</title>\n<polygon fill=\"none\" stroke=\"#000000\" points=\"1977,-981.5 1882,-981.5 1882,-928.5 1977,-928.5 1977,-981.5\"/>\n<text text-anchor=\"middle\" x=\"1929.5\" y=\"-966.3\" font-family=\"Times,serif\" font-size=\"14.00\" fill=\"#000000\">gini = 0.0</text>\n<text text-anchor=\"middle\" x=\"1929.5\" y=\"-951.3\" font-family=\"Times,serif\" font-size=\"14.00\" fill=\"#000000\">samples = 2</text>\n<text text-anchor=\"middle\" x=\"1929.5\" y=\"-936.3\" font-family=\"Times,serif\" font-size=\"14.00\" fill=\"#000000\">value = [2, 0]</text>\n</g>\n<!-- 136&#45;&gt;142 -->\n<g id=\"edge142\" class=\"edge\">\n<title>136&#45;&gt;142</title>\n<path fill=\"none\" stroke=\"#000000\" d=\"M1859.5535,-1024.9465C1871.1191,-1013.3809 1884.0348,-1000.4652 1895.5893,-988.9107\"/>\n<polygon fill=\"#000000\" stroke=\"#000000\" points=\"1898.3616,-991.0881 1902.9578,-981.5422 1893.4119,-986.1384 1898.3616,-991.0881\"/>\n</g>\n<!-- 138 -->\n<g id=\"node139\" class=\"node\">\n<title>138</title>\n<polygon fill=\"none\" stroke=\"#000000\" points=\"1859,-877.5 1764,-877.5 1764,-824.5 1859,-824.5 1859,-877.5\"/>\n<text text-anchor=\"middle\" x=\"1811.5\" y=\"-862.3\" font-family=\"Times,serif\" font-size=\"14.00\" fill=\"#000000\">gini = 0.444</text>\n<text text-anchor=\"middle\" x=\"1811.5\" y=\"-847.3\" font-family=\"Times,serif\" font-size=\"14.00\" fill=\"#000000\">samples = 3</text>\n<text text-anchor=\"middle\" x=\"1811.5\" y=\"-832.3\" font-family=\"Times,serif\" font-size=\"14.00\" fill=\"#000000\">value = [2, 1]</text>\n</g>\n<!-- 137&#45;&gt;138 -->\n<g id=\"edge138\" class=\"edge\">\n<title>137&#45;&gt;138</title>\n<path fill=\"none\" stroke=\"#000000\" d=\"M1812.8451,-920.9465C1812.6397,-910.2621 1812.412,-898.4254 1812.2034,-887.5742\"/>\n<polygon fill=\"#000000\" stroke=\"#000000\" points=\"1815.7021,-887.473 1812.0104,-877.5422 1808.7034,-887.6076 1815.7021,-887.473\"/>\n</g>\n<!-- 139 -->\n<g id=\"node140\" class=\"node\">\n<title>139</title>\n<polygon fill=\"none\" stroke=\"#000000\" points=\"1978,-885 1877,-885 1877,-817 1978,-817 1978,-885\"/>\n<text text-anchor=\"middle\" x=\"1927.5\" y=\"-869.8\" font-family=\"Times,serif\" font-size=\"14.00\" fill=\"#000000\">X[2] &lt;= 0.922</text>\n<text text-anchor=\"middle\" x=\"1927.5\" y=\"-854.8\" font-family=\"Times,serif\" font-size=\"14.00\" fill=\"#000000\">gini = 0.32</text>\n<text text-anchor=\"middle\" x=\"1927.5\" y=\"-839.8\" font-family=\"Times,serif\" font-size=\"14.00\" fill=\"#000000\">samples = 5</text>\n<text text-anchor=\"middle\" x=\"1927.5\" y=\"-824.8\" font-family=\"Times,serif\" font-size=\"14.00\" fill=\"#000000\">value = [4, 1]</text>\n</g>\n<!-- 137&#45;&gt;139 -->\n<g id=\"edge139\" class=\"edge\">\n<title>137&#45;&gt;139</title>\n<path fill=\"none\" stroke=\"#000000\" d=\"M1850.8279,-920.9465C1860.965,-911.6986 1872.0483,-901.5876 1882.5583,-891.9994\"/>\n<polygon fill=\"#000000\" stroke=\"#000000\" points=\"1885.0595,-894.4553 1890.0883,-885.13 1880.3417,-889.284 1885.0595,-894.4553\"/>\n</g>\n<!-- 140 -->\n<g id=\"node141\" class=\"node\">\n<title>140</title>\n<polygon fill=\"none\" stroke=\"#000000\" points=\"1862,-773.5 1767,-773.5 1767,-720.5 1862,-720.5 1862,-773.5\"/>\n<text text-anchor=\"middle\" x=\"1814.5\" y=\"-758.3\" font-family=\"Times,serif\" font-size=\"14.00\" fill=\"#000000\">gini = 0.0</text>\n<text text-anchor=\"middle\" x=\"1814.5\" y=\"-743.3\" font-family=\"Times,serif\" font-size=\"14.00\" fill=\"#000000\">samples = 2</text>\n<text text-anchor=\"middle\" x=\"1814.5\" y=\"-728.3\" font-family=\"Times,serif\" font-size=\"14.00\" fill=\"#000000\">value = [2, 0]</text>\n</g>\n<!-- 139&#45;&gt;140 -->\n<g id=\"edge140\" class=\"edge\">\n<title>139&#45;&gt;140</title>\n<path fill=\"none\" stroke=\"#000000\" d=\"M1890.4996,-816.9465C1877.8134,-805.2707 1863.6322,-792.219 1850.987,-780.5809\"/>\n<polygon fill=\"#000000\" stroke=\"#000000\" points=\"1853.0673,-777.7389 1843.3391,-773.5422 1848.3269,-782.8895 1853.0673,-777.7389\"/>\n</g>\n<!-- 141 -->\n<g id=\"node142\" class=\"node\">\n<title>141</title>\n<polygon fill=\"none\" stroke=\"#000000\" points=\"1975,-773.5 1880,-773.5 1880,-720.5 1975,-720.5 1975,-773.5\"/>\n<text text-anchor=\"middle\" x=\"1927.5\" y=\"-758.3\" font-family=\"Times,serif\" font-size=\"14.00\" fill=\"#000000\">gini = 0.444</text>\n<text text-anchor=\"middle\" x=\"1927.5\" y=\"-743.3\" font-family=\"Times,serif\" font-size=\"14.00\" fill=\"#000000\">samples = 3</text>\n<text text-anchor=\"middle\" x=\"1927.5\" y=\"-728.3\" font-family=\"Times,serif\" font-size=\"14.00\" fill=\"#000000\">value = [2, 1]</text>\n</g>\n<!-- 139&#45;&gt;141 -->\n<g id=\"edge141\" class=\"edge\">\n<title>139&#45;&gt;141</title>\n<path fill=\"none\" stroke=\"#000000\" d=\"M1927.5,-816.9465C1927.5,-806.2621 1927.5,-794.4254 1927.5,-783.5742\"/>\n<polygon fill=\"#000000\" stroke=\"#000000\" points=\"1931.0001,-783.5421 1927.5,-773.5422 1924.0001,-783.5422 1931.0001,-783.5421\"/>\n</g>\n<!-- 144 -->\n<g id=\"node145\" class=\"node\">\n<title>144</title>\n<polygon fill=\"none\" stroke=\"#000000\" points=\"2216,-1301 2115,-1301 2115,-1233 2216,-1233 2216,-1301\"/>\n<text text-anchor=\"middle\" x=\"2165.5\" y=\"-1285.8\" font-family=\"Times,serif\" font-size=\"14.00\" fill=\"#000000\">X[2] &lt;= 0.922</text>\n<text text-anchor=\"middle\" x=\"2165.5\" y=\"-1270.8\" font-family=\"Times,serif\" font-size=\"14.00\" fill=\"#000000\">gini = 0.397</text>\n<text text-anchor=\"middle\" x=\"2165.5\" y=\"-1255.8\" font-family=\"Times,serif\" font-size=\"14.00\" fill=\"#000000\">samples = 11</text>\n<text text-anchor=\"middle\" x=\"2165.5\" y=\"-1240.8\" font-family=\"Times,serif\" font-size=\"14.00\" fill=\"#000000\">value = [8, 3]</text>\n</g>\n<!-- 143&#45;&gt;144 -->\n<g id=\"edge144\" class=\"edge\">\n<title>143&#45;&gt;144</title>\n<path fill=\"none\" stroke=\"#000000\" d=\"M2165.5,-1336.9465C2165.5,-1328.776 2165.5,-1319.9318 2165.5,-1311.3697\"/>\n<polygon fill=\"#000000\" stroke=\"#000000\" points=\"2169.0001,-1311.13 2165.5,-1301.13 2162.0001,-1311.13 2169.0001,-1311.13\"/>\n</g>\n<!-- 155 -->\n<g id=\"node156\" class=\"node\">\n<title>155</title>\n<polygon fill=\"none\" stroke=\"#000000\" points=\"2579,-1301 2484,-1301 2484,-1233 2579,-1233 2579,-1301\"/>\n<text text-anchor=\"middle\" x=\"2531.5\" y=\"-1285.8\" font-family=\"Times,serif\" font-size=\"14.00\" fill=\"#000000\">X[2] &lt;= 0.59</text>\n<text text-anchor=\"middle\" x=\"2531.5\" y=\"-1270.8\" font-family=\"Times,serif\" font-size=\"14.00\" fill=\"#000000\">gini = 0.444</text>\n<text text-anchor=\"middle\" x=\"2531.5\" y=\"-1255.8\" font-family=\"Times,serif\" font-size=\"14.00\" fill=\"#000000\">samples = 12</text>\n<text text-anchor=\"middle\" x=\"2531.5\" y=\"-1240.8\" font-family=\"Times,serif\" font-size=\"14.00\" fill=\"#000000\">value = [4, 8]</text>\n</g>\n<!-- 143&#45;&gt;155 -->\n<g id=\"edge155\" class=\"edge\">\n<title>143&#45;&gt;155</title>\n<path fill=\"none\" stroke=\"#000000\" d=\"M2220.2939,-1355.4301C2288.5289,-1336.041 2404.5547,-1303.0719 2474.0177,-1283.3338\"/>\n<polygon fill=\"#000000\" stroke=\"#000000\" points=\"2475.2548,-1286.6209 2483.9173,-1280.5208 2473.3414,-1279.8874 2475.2548,-1286.6209\"/>\n</g>\n<!-- 145 -->\n<g id=\"node146\" class=\"node\">\n<title>145</title>\n<polygon fill=\"none\" stroke=\"#000000\" points=\"2156,-1197 2055,-1197 2055,-1129 2156,-1129 2156,-1197\"/>\n<text text-anchor=\"middle\" x=\"2105.5\" y=\"-1181.8\" font-family=\"Times,serif\" font-size=\"14.00\" fill=\"#000000\">X[2] &lt;= 0.508</text>\n<text text-anchor=\"middle\" x=\"2105.5\" y=\"-1166.8\" font-family=\"Times,serif\" font-size=\"14.00\" fill=\"#000000\">gini = 0.5</text>\n<text text-anchor=\"middle\" x=\"2105.5\" y=\"-1151.8\" font-family=\"Times,serif\" font-size=\"14.00\" fill=\"#000000\">samples = 4</text>\n<text text-anchor=\"middle\" x=\"2105.5\" y=\"-1136.8\" font-family=\"Times,serif\" font-size=\"14.00\" fill=\"#000000\">value = [2, 2]</text>\n</g>\n<!-- 144&#45;&gt;145 -->\n<g id=\"edge145\" class=\"edge\">\n<title>144&#45;&gt;145</title>\n<path fill=\"none\" stroke=\"#000000\" d=\"M2145.8538,-1232.9465C2140.881,-1224.3271 2135.4757,-1214.9579 2130.2852,-1205.9611\"/>\n<polygon fill=\"#000000\" stroke=\"#000000\" points=\"2133.2193,-1204.0428 2125.1904,-1197.13 2127.156,-1207.5409 2133.2193,-1204.0428\"/>\n</g>\n<!-- 150 -->\n<g id=\"node151\" class=\"node\">\n<title>150</title>\n<polygon fill=\"none\" stroke=\"#000000\" points=\"2275,-1197 2174,-1197 2174,-1129 2275,-1129 2275,-1197\"/>\n<text text-anchor=\"middle\" x=\"2224.5\" y=\"-1181.8\" font-family=\"Times,serif\" font-size=\"14.00\" fill=\"#000000\">X[2] &lt;= 2.249</text>\n<text text-anchor=\"middle\" x=\"2224.5\" y=\"-1166.8\" font-family=\"Times,serif\" font-size=\"14.00\" fill=\"#000000\">gini = 0.245</text>\n<text text-anchor=\"middle\" x=\"2224.5\" y=\"-1151.8\" font-family=\"Times,serif\" font-size=\"14.00\" fill=\"#000000\">samples = 7</text>\n<text text-anchor=\"middle\" x=\"2224.5\" y=\"-1136.8\" font-family=\"Times,serif\" font-size=\"14.00\" fill=\"#000000\">value = [6, 1]</text>\n</g>\n<!-- 144&#45;&gt;150 -->\n<g id=\"edge150\" class=\"edge\">\n<title>144&#45;&gt;150</title>\n<path fill=\"none\" stroke=\"#000000\" d=\"M2184.8188,-1232.9465C2189.7087,-1224.3271 2195.0239,-1214.9579 2200.1278,-1205.9611\"/>\n<polygon fill=\"#000000\" stroke=\"#000000\" points=\"2203.2476,-1207.5549 2205.1378,-1197.13 2197.1592,-1204.1008 2203.2476,-1207.5549\"/>\n</g>\n<!-- 146 -->\n<g id=\"node147\" class=\"node\">\n<title>146</title>\n<polygon fill=\"none\" stroke=\"#000000\" points=\"2039,-1085.5 1944,-1085.5 1944,-1032.5 2039,-1032.5 2039,-1085.5\"/>\n<text text-anchor=\"middle\" x=\"1991.5\" y=\"-1070.3\" font-family=\"Times,serif\" font-size=\"14.00\" fill=\"#000000\">gini = 0.0</text>\n<text text-anchor=\"middle\" x=\"1991.5\" y=\"-1055.3\" font-family=\"Times,serif\" font-size=\"14.00\" fill=\"#000000\">samples = 1</text>\n<text text-anchor=\"middle\" x=\"1991.5\" y=\"-1040.3\" font-family=\"Times,serif\" font-size=\"14.00\" fill=\"#000000\">value = [1, 0]</text>\n</g>\n<!-- 145&#45;&gt;146 -->\n<g id=\"edge146\" class=\"edge\">\n<title>145&#45;&gt;146</title>\n<path fill=\"none\" stroke=\"#000000\" d=\"M2068.1721,-1128.9465C2055.3737,-1117.2707 2041.067,-1104.219 2028.3099,-1092.5809\"/>\n<polygon fill=\"#000000\" stroke=\"#000000\" points=\"2030.3409,-1089.6961 2020.5943,-1085.5422 2025.6231,-1094.8675 2030.3409,-1089.6961\"/>\n</g>\n<!-- 147 -->\n<g id=\"node148\" class=\"node\">\n<title>147</title>\n<polygon fill=\"none\" stroke=\"#000000\" points=\"2155.5,-1093 2057.5,-1093 2057.5,-1025 2155.5,-1025 2155.5,-1093\"/>\n<text text-anchor=\"middle\" x=\"2106.5\" y=\"-1077.8\" font-family=\"Times,serif\" font-size=\"14.00\" fill=\"#000000\">X[1] &lt;= &#45;1.46</text>\n<text text-anchor=\"middle\" x=\"2106.5\" y=\"-1062.8\" font-family=\"Times,serif\" font-size=\"14.00\" fill=\"#000000\">gini = 0.444</text>\n<text text-anchor=\"middle\" x=\"2106.5\" y=\"-1047.8\" font-family=\"Times,serif\" font-size=\"14.00\" fill=\"#000000\">samples = 3</text>\n<text text-anchor=\"middle\" x=\"2106.5\" y=\"-1032.8\" font-family=\"Times,serif\" font-size=\"14.00\" fill=\"#000000\">value = [1, 2]</text>\n</g>\n<!-- 145&#45;&gt;147 -->\n<g id=\"edge147\" class=\"edge\">\n<title>145&#45;&gt;147</title>\n<path fill=\"none\" stroke=\"#000000\" d=\"M2105.8274,-1128.9465C2105.906,-1120.776 2105.991,-1111.9318 2106.0734,-1103.3697\"/>\n<polygon fill=\"#000000\" stroke=\"#000000\" points=\"2109.5754,-1103.1632 2106.1718,-1093.13 2102.5757,-1103.0958 2109.5754,-1103.1632\"/>\n</g>\n<!-- 148 -->\n<g id=\"node149\" class=\"node\">\n<title>148</title>\n<polygon fill=\"none\" stroke=\"#000000\" points=\"2090,-981.5 1995,-981.5 1995,-928.5 2090,-928.5 2090,-981.5\"/>\n<text text-anchor=\"middle\" x=\"2042.5\" y=\"-966.3\" font-family=\"Times,serif\" font-size=\"14.00\" fill=\"#000000\">gini = 0.0</text>\n<text text-anchor=\"middle\" x=\"2042.5\" y=\"-951.3\" font-family=\"Times,serif\" font-size=\"14.00\" fill=\"#000000\">samples = 1</text>\n<text text-anchor=\"middle\" x=\"2042.5\" y=\"-936.3\" font-family=\"Times,serif\" font-size=\"14.00\" fill=\"#000000\">value = [1, 0]</text>\n</g>\n<!-- 147&#45;&gt;148 -->\n<g id=\"edge148\" class=\"edge\">\n<title>147&#45;&gt;148</title>\n<path fill=\"none\" stroke=\"#000000\" d=\"M2085.544,-1024.9465C2078.6978,-1013.8215 2071.0829,-1001.4473 2064.1843,-990.237\"/>\n<polygon fill=\"#000000\" stroke=\"#000000\" points=\"2067.0555,-988.2244 2058.8336,-981.5422 2061.0939,-991.8931 2067.0555,-988.2244\"/>\n</g>\n<!-- 149 -->\n<g id=\"node150\" class=\"node\">\n<title>149</title>\n<polygon fill=\"none\" stroke=\"#000000\" points=\"2203,-981.5 2108,-981.5 2108,-928.5 2203,-928.5 2203,-981.5\"/>\n<text text-anchor=\"middle\" x=\"2155.5\" y=\"-966.3\" font-family=\"Times,serif\" font-size=\"14.00\" fill=\"#000000\">gini = 0.0</text>\n<text text-anchor=\"middle\" x=\"2155.5\" y=\"-951.3\" font-family=\"Times,serif\" font-size=\"14.00\" fill=\"#000000\">samples = 2</text>\n<text text-anchor=\"middle\" x=\"2155.5\" y=\"-936.3\" font-family=\"Times,serif\" font-size=\"14.00\" fill=\"#000000\">value = [0, 2]</text>\n</g>\n<!-- 147&#45;&gt;149 -->\n<g id=\"edge149\" class=\"edge\">\n<title>147&#45;&gt;149</title>\n<path fill=\"none\" stroke=\"#000000\" d=\"M2122.5444,-1024.9465C2127.6822,-1014.0418 2133.3855,-1001.9368 2138.5836,-990.9043\"/>\n<polygon fill=\"#000000\" stroke=\"#000000\" points=\"2141.8985,-992.0802 2142.9946,-981.5422 2135.5662,-989.0966 2141.8985,-992.0802\"/>\n</g>\n<!-- 151 -->\n<g id=\"node152\" class=\"node\">\n<title>151</title>\n<polygon fill=\"none\" stroke=\"#000000\" points=\"2271,-1085.5 2176,-1085.5 2176,-1032.5 2271,-1032.5 2271,-1085.5\"/>\n<text text-anchor=\"middle\" x=\"2223.5\" y=\"-1070.3\" font-family=\"Times,serif\" font-size=\"14.00\" fill=\"#000000\">gini = 0.0</text>\n<text text-anchor=\"middle\" x=\"2223.5\" y=\"-1055.3\" font-family=\"Times,serif\" font-size=\"14.00\" fill=\"#000000\">samples = 4</text>\n<text text-anchor=\"middle\" x=\"2223.5\" y=\"-1040.3\" font-family=\"Times,serif\" font-size=\"14.00\" fill=\"#000000\">value = [4, 0]</text>\n</g>\n<!-- 150&#45;&gt;151 -->\n<g id=\"edge151\" class=\"edge\">\n<title>150&#45;&gt;151</title>\n<path fill=\"none\" stroke=\"#000000\" d=\"M2224.1726,-1128.9465C2224.0698,-1118.2621 2223.956,-1106.4254 2223.8517,-1095.5742\"/>\n<polygon fill=\"#000000\" stroke=\"#000000\" points=\"2227.3513,-1095.508 2223.7552,-1085.5422 2220.3516,-1095.5754 2227.3513,-1095.508\"/>\n</g>\n<!-- 152 -->\n<g id=\"node153\" class=\"node\">\n<title>152</title>\n<polygon fill=\"none\" stroke=\"#000000\" points=\"2384,-1093 2289,-1093 2289,-1025 2384,-1025 2384,-1093\"/>\n<text text-anchor=\"middle\" x=\"2336.5\" y=\"-1077.8\" font-family=\"Times,serif\" font-size=\"14.00\" fill=\"#000000\">X[2] &lt;= 2.58</text>\n<text text-anchor=\"middle\" x=\"2336.5\" y=\"-1062.8\" font-family=\"Times,serif\" font-size=\"14.00\" fill=\"#000000\">gini = 0.444</text>\n<text text-anchor=\"middle\" x=\"2336.5\" y=\"-1047.8\" font-family=\"Times,serif\" font-size=\"14.00\" fill=\"#000000\">samples = 3</text>\n<text text-anchor=\"middle\" x=\"2336.5\" y=\"-1032.8\" font-family=\"Times,serif\" font-size=\"14.00\" fill=\"#000000\">value = [2, 1]</text>\n</g>\n<!-- 150&#45;&gt;152 -->\n<g id=\"edge152\" class=\"edge\">\n<title>150&#45;&gt;152</title>\n<path fill=\"none\" stroke=\"#000000\" d=\"M2261.173,-1128.9465C2271.1323,-1119.6986 2282.0211,-1109.5876 2292.3468,-1099.9994\"/>\n<polygon fill=\"#000000\" stroke=\"#000000\" points=\"2294.7982,-1102.4993 2299.7446,-1093.13 2290.0351,-1097.3698 2294.7982,-1102.4993\"/>\n</g>\n<!-- 153 -->\n<g id=\"node154\" class=\"node\">\n<title>153</title>\n<polygon fill=\"none\" stroke=\"#000000\" points=\"2316,-981.5 2221,-981.5 2221,-928.5 2316,-928.5 2316,-981.5\"/>\n<text text-anchor=\"middle\" x=\"2268.5\" y=\"-966.3\" font-family=\"Times,serif\" font-size=\"14.00\" fill=\"#000000\">gini = 0.0</text>\n<text text-anchor=\"middle\" x=\"2268.5\" y=\"-951.3\" font-family=\"Times,serif\" font-size=\"14.00\" fill=\"#000000\">samples = 1</text>\n<text text-anchor=\"middle\" x=\"2268.5\" y=\"-936.3\" font-family=\"Times,serif\" font-size=\"14.00\" fill=\"#000000\">value = [0, 1]</text>\n</g>\n<!-- 152&#45;&gt;153 -->\n<g id=\"edge153\" class=\"edge\">\n<title>152&#45;&gt;153</title>\n<path fill=\"none\" stroke=\"#000000\" d=\"M2314.2343,-1024.9465C2306.9602,-1013.8215 2298.8694,-1001.4473 2291.5396,-990.237\"/>\n<polygon fill=\"#000000\" stroke=\"#000000\" points=\"2294.2564,-987.9965 2285.8545,-981.5422 2288.3976,-991.8273 2294.2564,-987.9965\"/>\n</g>\n<!-- 154 -->\n<g id=\"node155\" class=\"node\">\n<title>154</title>\n<polygon fill=\"none\" stroke=\"#000000\" points=\"2429,-981.5 2334,-981.5 2334,-928.5 2429,-928.5 2429,-981.5\"/>\n<text text-anchor=\"middle\" x=\"2381.5\" y=\"-966.3\" font-family=\"Times,serif\" font-size=\"14.00\" fill=\"#000000\">gini = 0.0</text>\n<text text-anchor=\"middle\" x=\"2381.5\" y=\"-951.3\" font-family=\"Times,serif\" font-size=\"14.00\" fill=\"#000000\">samples = 2</text>\n<text text-anchor=\"middle\" x=\"2381.5\" y=\"-936.3\" font-family=\"Times,serif\" font-size=\"14.00\" fill=\"#000000\">value = [2, 0]</text>\n</g>\n<!-- 152&#45;&gt;154 -->\n<g id=\"edge154\" class=\"edge\">\n<title>152&#45;&gt;154</title>\n<path fill=\"none\" stroke=\"#000000\" d=\"M2351.2347,-1024.9465C2355.9531,-1014.0418 2361.1908,-1001.9368 2365.9645,-990.9043\"/>\n<polygon fill=\"#000000\" stroke=\"#000000\" points=\"2369.2564,-992.1098 2370.0154,-981.5422 2362.832,-989.33 2369.2564,-992.1098\"/>\n</g>\n<!-- 156 -->\n<g id=\"node157\" class=\"node\">\n<title>156</title>\n<polygon fill=\"none\" stroke=\"#000000\" points=\"2584.5,-1197 2478.5,-1197 2478.5,-1129 2584.5,-1129 2584.5,-1197\"/>\n<text text-anchor=\"middle\" x=\"2531.5\" y=\"-1181.8\" font-family=\"Times,serif\" font-size=\"14.00\" fill=\"#000000\">X[0] &lt;= &#45;0.399</text>\n<text text-anchor=\"middle\" x=\"2531.5\" y=\"-1166.8\" font-family=\"Times,serif\" font-size=\"14.00\" fill=\"#000000\">gini = 0.48</text>\n<text text-anchor=\"middle\" x=\"2531.5\" y=\"-1151.8\" font-family=\"Times,serif\" font-size=\"14.00\" fill=\"#000000\">samples = 5</text>\n<text text-anchor=\"middle\" x=\"2531.5\" y=\"-1136.8\" font-family=\"Times,serif\" font-size=\"14.00\" fill=\"#000000\">value = [3, 2]</text>\n</g>\n<!-- 155&#45;&gt;156 -->\n<g id=\"edge156\" class=\"edge\">\n<title>155&#45;&gt;156</title>\n<path fill=\"none\" stroke=\"#000000\" d=\"M2531.5,-1232.9465C2531.5,-1224.776 2531.5,-1215.9318 2531.5,-1207.3697\"/>\n<polygon fill=\"#000000\" stroke=\"#000000\" points=\"2535.0001,-1207.13 2531.5,-1197.13 2528.0001,-1207.13 2535.0001,-1207.13\"/>\n</g>\n<!-- 161 -->\n<g id=\"node162\" class=\"node\">\n<title>161</title>\n<polygon fill=\"none\" stroke=\"#000000\" points=\"2771,-1197 2670,-1197 2670,-1129 2771,-1129 2771,-1197\"/>\n<text text-anchor=\"middle\" x=\"2720.5\" y=\"-1181.8\" font-family=\"Times,serif\" font-size=\"14.00\" fill=\"#000000\">X[2] &lt;= 1.254</text>\n<text text-anchor=\"middle\" x=\"2720.5\" y=\"-1166.8\" font-family=\"Times,serif\" font-size=\"14.00\" fill=\"#000000\">gini = 0.245</text>\n<text text-anchor=\"middle\" x=\"2720.5\" y=\"-1151.8\" font-family=\"Times,serif\" font-size=\"14.00\" fill=\"#000000\">samples = 7</text>\n<text text-anchor=\"middle\" x=\"2720.5\" y=\"-1136.8\" font-family=\"Times,serif\" font-size=\"14.00\" fill=\"#000000\">value = [1, 6]</text>\n</g>\n<!-- 155&#45;&gt;161 -->\n<g id=\"edge161\" class=\"edge\">\n<title>155&#45;&gt;161</title>\n<path fill=\"none\" stroke=\"#000000\" d=\"M2579.1927,-1240.7564C2604.0496,-1227.0786 2634.6868,-1210.2199 2661.0729,-1195.7006\"/>\n<polygon fill=\"#000000\" stroke=\"#000000\" points=\"2662.7699,-1198.7618 2669.8437,-1190.8744 2659.3952,-1192.629 2662.7699,-1198.7618\"/>\n</g>\n<!-- 157 -->\n<g id=\"node158\" class=\"node\">\n<title>157</title>\n<polygon fill=\"none\" stroke=\"#000000\" points=\"2521,-1085.5 2426,-1085.5 2426,-1032.5 2521,-1032.5 2521,-1085.5\"/>\n<text text-anchor=\"middle\" x=\"2473.5\" y=\"-1070.3\" font-family=\"Times,serif\" font-size=\"14.00\" fill=\"#000000\">gini = 0.0</text>\n<text text-anchor=\"middle\" x=\"2473.5\" y=\"-1055.3\" font-family=\"Times,serif\" font-size=\"14.00\" fill=\"#000000\">samples = 1</text>\n<text text-anchor=\"middle\" x=\"2473.5\" y=\"-1040.3\" font-family=\"Times,serif\" font-size=\"14.00\" fill=\"#000000\">value = [0, 1]</text>\n</g>\n<!-- 156&#45;&gt;157 -->\n<g id=\"edge157\" class=\"edge\">\n<title>156&#45;&gt;157</title>\n<path fill=\"none\" stroke=\"#000000\" d=\"M2512.5086,-1128.9465C2506.3657,-1117.9316 2499.5399,-1105.6922 2493.3373,-1094.5703\"/>\n<polygon fill=\"#000000\" stroke=\"#000000\" points=\"2496.2299,-1092.5711 2488.3024,-1085.5422 2490.1163,-1095.9806 2496.2299,-1092.5711\"/>\n</g>\n<!-- 158 -->\n<g id=\"node159\" class=\"node\">\n<title>158</title>\n<polygon fill=\"none\" stroke=\"#000000\" points=\"2640,-1093 2539,-1093 2539,-1025 2640,-1025 2640,-1093\"/>\n<text text-anchor=\"middle\" x=\"2589.5\" y=\"-1077.8\" font-family=\"Times,serif\" font-size=\"14.00\" fill=\"#000000\">X[2] &lt;= 0.425</text>\n<text text-anchor=\"middle\" x=\"2589.5\" y=\"-1062.8\" font-family=\"Times,serif\" font-size=\"14.00\" fill=\"#000000\">gini = 0.375</text>\n<text text-anchor=\"middle\" x=\"2589.5\" y=\"-1047.8\" font-family=\"Times,serif\" font-size=\"14.00\" fill=\"#000000\">samples = 4</text>\n<text text-anchor=\"middle\" x=\"2589.5\" y=\"-1032.8\" font-family=\"Times,serif\" font-size=\"14.00\" fill=\"#000000\">value = [3, 1]</text>\n</g>\n<!-- 156&#45;&gt;158 -->\n<g id=\"edge158\" class=\"edge\">\n<title>156&#45;&gt;158</title>\n<path fill=\"none\" stroke=\"#000000\" d=\"M2550.4914,-1128.9465C2555.2983,-1120.3271 2560.5235,-1110.9579 2565.5409,-1101.9611\"/>\n<polygon fill=\"#000000\" stroke=\"#000000\" points=\"2568.652,-1103.5684 2570.466,-1093.13 2562.5385,-1100.1589 2568.652,-1103.5684\"/>\n</g>\n<!-- 159 -->\n<g id=\"node160\" class=\"node\">\n<title>159</title>\n<polygon fill=\"none\" stroke=\"#000000\" points=\"2542,-981.5 2447,-981.5 2447,-928.5 2542,-928.5 2542,-981.5\"/>\n<text text-anchor=\"middle\" x=\"2494.5\" y=\"-966.3\" font-family=\"Times,serif\" font-size=\"14.00\" fill=\"#000000\">gini = 0.0</text>\n<text text-anchor=\"middle\" x=\"2494.5\" y=\"-951.3\" font-family=\"Times,serif\" font-size=\"14.00\" fill=\"#000000\">samples = 1</text>\n<text text-anchor=\"middle\" x=\"2494.5\" y=\"-936.3\" font-family=\"Times,serif\" font-size=\"14.00\" fill=\"#000000\">value = [1, 0]</text>\n</g>\n<!-- 158&#45;&gt;159 -->\n<g id=\"edge159\" class=\"edge\">\n<title>158&#45;&gt;159</title>\n<path fill=\"none\" stroke=\"#000000\" d=\"M2558.3934,-1024.9465C2547.9293,-1013.491 2536.2553,-1000.711 2525.778,-989.2412\"/>\n<polygon fill=\"#000000\" stroke=\"#000000\" points=\"2528.0738,-986.565 2518.7452,-981.5422 2522.9055,-991.2861 2528.0738,-986.565\"/>\n</g>\n<!-- 160 -->\n<g id=\"node161\" class=\"node\">\n<title>160</title>\n<polygon fill=\"none\" stroke=\"#000000\" points=\"2655,-981.5 2560,-981.5 2560,-928.5 2655,-928.5 2655,-981.5\"/>\n<text text-anchor=\"middle\" x=\"2607.5\" y=\"-966.3\" font-family=\"Times,serif\" font-size=\"14.00\" fill=\"#000000\">gini = 0.444</text>\n<text text-anchor=\"middle\" x=\"2607.5\" y=\"-951.3\" font-family=\"Times,serif\" font-size=\"14.00\" fill=\"#000000\">samples = 3</text>\n<text text-anchor=\"middle\" x=\"2607.5\" y=\"-936.3\" font-family=\"Times,serif\" font-size=\"14.00\" fill=\"#000000\">value = [2, 1]</text>\n</g>\n<!-- 158&#45;&gt;160 -->\n<g id=\"edge160\" class=\"edge\">\n<title>158&#45;&gt;160</title>\n<path fill=\"none\" stroke=\"#000000\" d=\"M2595.3939,-1024.9465C2597.2431,-1014.2621 2599.2918,-1002.4254 2601.1698,-991.5742\"/>\n<polygon fill=\"#000000\" stroke=\"#000000\" points=\"2604.6494,-991.9926 2602.9062,-981.5422 2597.7519,-990.7987 2604.6494,-991.9926\"/>\n</g>\n<!-- 162 -->\n<g id=\"node163\" class=\"node\">\n<title>162</title>\n<polygon fill=\"none\" stroke=\"#000000\" points=\"2771,-1093 2670,-1093 2670,-1025 2771,-1025 2771,-1093\"/>\n<text text-anchor=\"middle\" x=\"2720.5\" y=\"-1077.8\" font-family=\"Times,serif\" font-size=\"14.00\" fill=\"#000000\">X[2] &lt;= 0.839</text>\n<text text-anchor=\"middle\" x=\"2720.5\" y=\"-1062.8\" font-family=\"Times,serif\" font-size=\"14.00\" fill=\"#000000\">gini = 0.375</text>\n<text text-anchor=\"middle\" x=\"2720.5\" y=\"-1047.8\" font-family=\"Times,serif\" font-size=\"14.00\" fill=\"#000000\">samples = 4</text>\n<text text-anchor=\"middle\" x=\"2720.5\" y=\"-1032.8\" font-family=\"Times,serif\" font-size=\"14.00\" fill=\"#000000\">value = [1, 3]</text>\n</g>\n<!-- 161&#45;&gt;162 -->\n<g id=\"edge162\" class=\"edge\">\n<title>161&#45;&gt;162</title>\n<path fill=\"none\" stroke=\"#000000\" d=\"M2720.5,-1128.9465C2720.5,-1120.776 2720.5,-1111.9318 2720.5,-1103.3697\"/>\n<polygon fill=\"#000000\" stroke=\"#000000\" points=\"2724.0001,-1103.13 2720.5,-1093.13 2717.0001,-1103.13 2724.0001,-1103.13\"/>\n</g>\n<!-- 165 -->\n<g id=\"node166\" class=\"node\">\n<title>165</title>\n<polygon fill=\"none\" stroke=\"#000000\" points=\"2884,-1085.5 2789,-1085.5 2789,-1032.5 2884,-1032.5 2884,-1085.5\"/>\n<text text-anchor=\"middle\" x=\"2836.5\" y=\"-1070.3\" font-family=\"Times,serif\" font-size=\"14.00\" fill=\"#000000\">gini = 0.0</text>\n<text text-anchor=\"middle\" x=\"2836.5\" y=\"-1055.3\" font-family=\"Times,serif\" font-size=\"14.00\" fill=\"#000000\">samples = 3</text>\n<text text-anchor=\"middle\" x=\"2836.5\" y=\"-1040.3\" font-family=\"Times,serif\" font-size=\"14.00\" fill=\"#000000\">value = [0, 3]</text>\n</g>\n<!-- 161&#45;&gt;165 -->\n<g id=\"edge165\" class=\"edge\">\n<title>161&#45;&gt;165</title>\n<path fill=\"none\" stroke=\"#000000\" d=\"M2758.4827,-1128.9465C2771.6286,-1117.1606 2786.3382,-1103.9726 2799.4113,-1092.2519\"/>\n<polygon fill=\"#000000\" stroke=\"#000000\" points=\"2801.786,-1094.8236 2806.8953,-1085.5422 2797.1131,-1089.6116 2801.786,-1094.8236\"/>\n</g>\n<!-- 163 -->\n<g id=\"node164\" class=\"node\">\n<title>163</title>\n<polygon fill=\"none\" stroke=\"#000000\" points=\"2768,-981.5 2673,-981.5 2673,-928.5 2768,-928.5 2768,-981.5\"/>\n<text text-anchor=\"middle\" x=\"2720.5\" y=\"-966.3\" font-family=\"Times,serif\" font-size=\"14.00\" fill=\"#000000\">gini = 0.0</text>\n<text text-anchor=\"middle\" x=\"2720.5\" y=\"-951.3\" font-family=\"Times,serif\" font-size=\"14.00\" fill=\"#000000\">samples = 1</text>\n<text text-anchor=\"middle\" x=\"2720.5\" y=\"-936.3\" font-family=\"Times,serif\" font-size=\"14.00\" fill=\"#000000\">value = [0, 1]</text>\n</g>\n<!-- 162&#45;&gt;163 -->\n<g id=\"edge163\" class=\"edge\">\n<title>162&#45;&gt;163</title>\n<path fill=\"none\" stroke=\"#000000\" d=\"M2720.5,-1024.9465C2720.5,-1014.2621 2720.5,-1002.4254 2720.5,-991.5742\"/>\n<polygon fill=\"#000000\" stroke=\"#000000\" points=\"2724.0001,-991.5421 2720.5,-981.5422 2717.0001,-991.5422 2724.0001,-991.5421\"/>\n</g>\n<!-- 164 -->\n<g id=\"node165\" class=\"node\">\n<title>164</title>\n<polygon fill=\"none\" stroke=\"#000000\" points=\"2881,-981.5 2786,-981.5 2786,-928.5 2881,-928.5 2881,-981.5\"/>\n<text text-anchor=\"middle\" x=\"2833.5\" y=\"-966.3\" font-family=\"Times,serif\" font-size=\"14.00\" fill=\"#000000\">gini = 0.444</text>\n<text text-anchor=\"middle\" x=\"2833.5\" y=\"-951.3\" font-family=\"Times,serif\" font-size=\"14.00\" fill=\"#000000\">samples = 3</text>\n<text text-anchor=\"middle\" x=\"2833.5\" y=\"-936.3\" font-family=\"Times,serif\" font-size=\"14.00\" fill=\"#000000\">value = [1, 2]</text>\n</g>\n<!-- 162&#45;&gt;164 -->\n<g id=\"edge164\" class=\"edge\">\n<title>162&#45;&gt;164</title>\n<path fill=\"none\" stroke=\"#000000\" d=\"M2757.5004,-1024.9465C2770.1866,-1013.2707 2784.3678,-1000.219 2797.013,-988.5809\"/>\n<polygon fill=\"#000000\" stroke=\"#000000\" points=\"2799.6731,-990.8895 2804.6609,-981.5422 2794.9327,-985.7389 2799.6731,-990.8895\"/>\n</g>\n</g>\n</svg>\n"
          },
          "metadata": {
            "tags": []
          },
          "execution_count": 105
        }
      ]
    },
    {
      "cell_type": "markdown",
      "metadata": {
        "id": "zJw-9tXvXRey"
      },
      "source": [
        "# Support vector machine"
      ]
    },
    {
      "cell_type": "code",
      "metadata": {
        "id": "aAVPJs3vXH5q"
      },
      "source": [
        "from sklearn import svm\n",
        "clf_svm= svm.LinearSVC(random_state=7)\n",
        "clf_svm.fit(X_train, y_train)\n",
        "y_pred= clf_svm.predict(X_train)"
      ],
      "execution_count": 106,
      "outputs": []
    },
    {
      "cell_type": "code",
      "metadata": {
        "id": "ca3XKN9QYRWQ",
        "outputId": "dc2570f2-8851-47e0-f1fd-c34529a296eb",
        "colab": {
          "base_uri": "https://localhost:8080/",
          "height": 104
        }
      },
      "source": [
        "print(\"Clf_svm jaccard score :\",jaccard_similarity_score( y_train, y_pred))\n",
        "print(\"clf_svm f1 score : \", f1_score(y_train, y_pred, average='weighted'))"
      ],
      "execution_count": 107,
      "outputs": [
        {
          "output_type": "stream",
          "text": [
            "Clf_svm jaccard score : 0.7608695652173914\n",
            "clf_svm f1 score :  0.7323845584715151\n"
          ],
          "name": "stdout"
        },
        {
          "output_type": "stream",
          "text": [
            "/usr/local/lib/python3.6/dist-packages/sklearn/metrics/_classification.py:664: FutureWarning: jaccard_similarity_score has been deprecated and replaced with jaccard_score. It will be removed in version 0.23. This implementation has surprising behavior for binary and multiclass classification tasks.\n",
            "  FutureWarning)\n"
          ],
          "name": "stderr"
        }
      ]
    },
    {
      "cell_type": "markdown",
      "metadata": {
        "id": "6thMvm1WYtM8"
      },
      "source": [
        "# Logistic regression"
      ]
    },
    {
      "cell_type": "code",
      "metadata": {
        "id": "5P0y3vvRYhm0"
      },
      "source": [
        "from sklearn.linear_model import LogisticRegression\n",
        "clf_lr = LogisticRegression(random_state=0, solver='lbfgs',multi_class='multinomial')\n",
        "clf_lr.fit(X_train, y_train)\n",
        "y_pred= clf_lr.predict(X_train)\n",
        "y_proba= clf_lr.predict_proba(X_train)"
      ],
      "execution_count": 108,
      "outputs": []
    },
    {
      "cell_type": "code",
      "metadata": {
        "id": "OGZ09Yi2Yv34",
        "outputId": "d784b171-4fe1-4ebd-898e-70910ed6cf9f",
        "colab": {
          "base_uri": "https://localhost:8080/",
          "height": 121
        }
      },
      "source": [
        "print(\"Clf_lr jaccard score :\",jaccard_similarity_score( y_train, y_pred))\n",
        "print(\"clf_lr f1 score : \", f1_score(y_train, y_pred, average='weighted'))\n",
        "print(\"Clf_lr log_loss score :\",log_loss( y_train, y_proba))\n"
      ],
      "execution_count": 109,
      "outputs": [
        {
          "output_type": "stream",
          "text": [
            "Clf_lr jaccard score : 0.7681159420289855\n",
            "clf_lr f1 score :  0.7449651797477884\n",
            "Clf_lr log_loss score : 0.4204854735541303\n"
          ],
          "name": "stdout"
        },
        {
          "output_type": "stream",
          "text": [
            "/usr/local/lib/python3.6/dist-packages/sklearn/metrics/_classification.py:664: FutureWarning: jaccard_similarity_score has been deprecated and replaced with jaccard_score. It will be removed in version 0.23. This implementation has surprising behavior for binary and multiclass classification tasks.\n",
            "  FutureWarning)\n"
          ],
          "name": "stderr"
        }
      ]
    },
    {
      "cell_type": "markdown",
      "metadata": {
        "id": "lMuzHnLnbk-m"
      },
      "source": [
        "# Model Evaluation using Test set"
      ]
    },
    {
      "cell_type": "code",
      "metadata": {
        "id": "DUpl7bM2bGik",
        "outputId": "5de32445-95b3-47a3-e839-660ae0d06a17",
        "colab": {
          "base_uri": "https://localhost:8080/",
          "height": 202
        }
      },
      "source": [
        "!wget -O loan_test.csv https://s3-api.us-geo.objectstorage.softlayer.net/cf-courses-data/CognitiveClass/ML0101ENv3/labs/loan_test.csv"
      ],
      "execution_count": 110,
      "outputs": [
        {
          "output_type": "stream",
          "text": [
            "--2020-10-28 09:14:48--  https://s3-api.us-geo.objectstorage.softlayer.net/cf-courses-data/CognitiveClass/ML0101ENv3/labs/loan_test.csv\n",
            "Resolving s3-api.us-geo.objectstorage.softlayer.net (s3-api.us-geo.objectstorage.softlayer.net)... 67.228.254.196\n",
            "Connecting to s3-api.us-geo.objectstorage.softlayer.net (s3-api.us-geo.objectstorage.softlayer.net)|67.228.254.196|:443... connected.\n",
            "HTTP request sent, awaiting response... 200 OK\n",
            "Length: 3642 (3.6K) [text/csv]\n",
            "Saving to: ‘loan_test.csv’\n",
            "\n",
            "loan_test.csv       100%[===================>]   3.56K  --.-KB/s    in 0s      \n",
            "\n",
            "2020-10-28 09:14:48 (624 MB/s) - ‘loan_test.csv’ saved [3642/3642]\n",
            "\n"
          ],
          "name": "stdout"
        }
      ]
    },
    {
      "cell_type": "code",
      "metadata": {
        "id": "OjykqsD_btbP",
        "outputId": "398891c7-df92-4bf1-cee4-eed074fb82a8",
        "colab": {
          "base_uri": "https://localhost:8080/",
          "height": 195
        }
      },
      "source": [
        "test_df = pd.read_csv('loan_test.csv')\n",
        "test_df.head()"
      ],
      "execution_count": 111,
      "outputs": [
        {
          "output_type": "execute_result",
          "data": {
            "text/html": [
              "<div>\n",
              "<style scoped>\n",
              "    .dataframe tbody tr th:only-of-type {\n",
              "        vertical-align: middle;\n",
              "    }\n",
              "\n",
              "    .dataframe tbody tr th {\n",
              "        vertical-align: top;\n",
              "    }\n",
              "\n",
              "    .dataframe thead th {\n",
              "        text-align: right;\n",
              "    }\n",
              "</style>\n",
              "<table border=\"1\" class=\"dataframe\">\n",
              "  <thead>\n",
              "    <tr style=\"text-align: right;\">\n",
              "      <th></th>\n",
              "      <th>Unnamed: 0</th>\n",
              "      <th>Unnamed: 0.1</th>\n",
              "      <th>loan_status</th>\n",
              "      <th>Principal</th>\n",
              "      <th>terms</th>\n",
              "      <th>effective_date</th>\n",
              "      <th>due_date</th>\n",
              "      <th>age</th>\n",
              "      <th>education</th>\n",
              "      <th>Gender</th>\n",
              "    </tr>\n",
              "  </thead>\n",
              "  <tbody>\n",
              "    <tr>\n",
              "      <th>0</th>\n",
              "      <td>1</td>\n",
              "      <td>1</td>\n",
              "      <td>PAIDOFF</td>\n",
              "      <td>1000</td>\n",
              "      <td>30</td>\n",
              "      <td>9/8/2016</td>\n",
              "      <td>10/7/2016</td>\n",
              "      <td>50</td>\n",
              "      <td>Bechalor</td>\n",
              "      <td>female</td>\n",
              "    </tr>\n",
              "    <tr>\n",
              "      <th>1</th>\n",
              "      <td>5</td>\n",
              "      <td>5</td>\n",
              "      <td>PAIDOFF</td>\n",
              "      <td>300</td>\n",
              "      <td>7</td>\n",
              "      <td>9/9/2016</td>\n",
              "      <td>9/15/2016</td>\n",
              "      <td>35</td>\n",
              "      <td>Master or Above</td>\n",
              "      <td>male</td>\n",
              "    </tr>\n",
              "    <tr>\n",
              "      <th>2</th>\n",
              "      <td>21</td>\n",
              "      <td>21</td>\n",
              "      <td>PAIDOFF</td>\n",
              "      <td>1000</td>\n",
              "      <td>30</td>\n",
              "      <td>9/10/2016</td>\n",
              "      <td>10/9/2016</td>\n",
              "      <td>43</td>\n",
              "      <td>High School or Below</td>\n",
              "      <td>female</td>\n",
              "    </tr>\n",
              "    <tr>\n",
              "      <th>3</th>\n",
              "      <td>24</td>\n",
              "      <td>24</td>\n",
              "      <td>PAIDOFF</td>\n",
              "      <td>1000</td>\n",
              "      <td>30</td>\n",
              "      <td>9/10/2016</td>\n",
              "      <td>10/9/2016</td>\n",
              "      <td>26</td>\n",
              "      <td>college</td>\n",
              "      <td>male</td>\n",
              "    </tr>\n",
              "    <tr>\n",
              "      <th>4</th>\n",
              "      <td>35</td>\n",
              "      <td>35</td>\n",
              "      <td>PAIDOFF</td>\n",
              "      <td>800</td>\n",
              "      <td>15</td>\n",
              "      <td>9/11/2016</td>\n",
              "      <td>9/25/2016</td>\n",
              "      <td>29</td>\n",
              "      <td>Bechalor</td>\n",
              "      <td>male</td>\n",
              "    </tr>\n",
              "  </tbody>\n",
              "</table>\n",
              "</div>"
            ],
            "text/plain": [
              "   Unnamed: 0  Unnamed: 0.1 loan_status  ...  age             education  Gender\n",
              "0           1             1     PAIDOFF  ...   50              Bechalor  female\n",
              "1           5             5     PAIDOFF  ...   35       Master or Above    male\n",
              "2          21            21     PAIDOFF  ...   43  High School or Below  female\n",
              "3          24            24     PAIDOFF  ...   26               college    male\n",
              "4          35            35     PAIDOFF  ...   29              Bechalor    male\n",
              "\n",
              "[5 rows x 10 columns]"
            ]
          },
          "metadata": {
            "tags": []
          },
          "execution_count": 111
        }
      ]
    },
    {
      "cell_type": "code",
      "metadata": {
        "id": "9FdbCgZ7byN0",
        "outputId": "b2df0ad9-9280-438a-d5b2-48f9935191ff",
        "colab": {
          "base_uri": "https://localhost:8080/",
          "height": 34
        }
      },
      "source": [
        "test_df.shape"
      ],
      "execution_count": 112,
      "outputs": [
        {
          "output_type": "execute_result",
          "data": {
            "text/plain": [
              "(54, 10)"
            ]
          },
          "metadata": {
            "tags": []
          },
          "execution_count": 112
        }
      ]
    },
    {
      "cell_type": "code",
      "metadata": {
        "id": "1TfG-fw8b2Jp",
        "outputId": "7ba1725f-cd26-4a6d-917c-2b46018e4979",
        "colab": {
          "base_uri": "https://localhost:8080/",
          "height": 67
        }
      },
      "source": [
        "# Count of the loan status \n",
        "test_df['loan_status'].value_counts()"
      ],
      "execution_count": 113,
      "outputs": [
        {
          "output_type": "execute_result",
          "data": {
            "text/plain": [
              "PAIDOFF       40\n",
              "COLLECTION    14\n",
              "Name: loan_status, dtype: int64"
            ]
          },
          "metadata": {
            "tags": []
          },
          "execution_count": 113
        }
      ]
    },
    {
      "cell_type": "code",
      "metadata": {
        "id": "kwIzxv1rb6oL",
        "outputId": "b85294a9-cb5a-4f2a-e9d2-a970df6d0a5c",
        "colab": {
          "base_uri": "https://localhost:8080/",
          "height": 195
        }
      },
      "source": [
        "test_df['due_date'] = pd.to_datetime(test_df['due_date'])\n",
        "test_df['effective_date'] = pd.to_datetime(test_df['effective_date'])\n",
        "test_df['dayofweek'] = test_df['effective_date'].dt.dayofweek\n",
        "test_df['weekend'] = test_df['dayofweek'].apply(lambda x: 1 if (x>3)  else 0)\n",
        "test_df['loan_status'].replace(to_replace=['PAIDOFF','COLLECTION'], value=[0,1],inplace=True)\n",
        "test_df['Gender'].replace(to_replace=['male','female'], value=[0,1],inplace=True)\n",
        "Feature = test_df[['Principal','terms','age','Gender','weekend']]\n",
        "Feature = pd.concat([Feature,pd.get_dummies(test_df['education'])], axis=1)\n",
        "Feature.drop(['Master or Above'], axis = 1,inplace=True)\n",
        "Feature.head()"
      ],
      "execution_count": 114,
      "outputs": [
        {
          "output_type": "execute_result",
          "data": {
            "text/html": [
              "<div>\n",
              "<style scoped>\n",
              "    .dataframe tbody tr th:only-of-type {\n",
              "        vertical-align: middle;\n",
              "    }\n",
              "\n",
              "    .dataframe tbody tr th {\n",
              "        vertical-align: top;\n",
              "    }\n",
              "\n",
              "    .dataframe thead th {\n",
              "        text-align: right;\n",
              "    }\n",
              "</style>\n",
              "<table border=\"1\" class=\"dataframe\">\n",
              "  <thead>\n",
              "    <tr style=\"text-align: right;\">\n",
              "      <th></th>\n",
              "      <th>Principal</th>\n",
              "      <th>terms</th>\n",
              "      <th>age</th>\n",
              "      <th>Gender</th>\n",
              "      <th>weekend</th>\n",
              "      <th>Bechalor</th>\n",
              "      <th>High School or Below</th>\n",
              "      <th>college</th>\n",
              "    </tr>\n",
              "  </thead>\n",
              "  <tbody>\n",
              "    <tr>\n",
              "      <th>0</th>\n",
              "      <td>1000</td>\n",
              "      <td>30</td>\n",
              "      <td>50</td>\n",
              "      <td>1</td>\n",
              "      <td>0</td>\n",
              "      <td>1</td>\n",
              "      <td>0</td>\n",
              "      <td>0</td>\n",
              "    </tr>\n",
              "    <tr>\n",
              "      <th>1</th>\n",
              "      <td>300</td>\n",
              "      <td>7</td>\n",
              "      <td>35</td>\n",
              "      <td>0</td>\n",
              "      <td>1</td>\n",
              "      <td>0</td>\n",
              "      <td>0</td>\n",
              "      <td>0</td>\n",
              "    </tr>\n",
              "    <tr>\n",
              "      <th>2</th>\n",
              "      <td>1000</td>\n",
              "      <td>30</td>\n",
              "      <td>43</td>\n",
              "      <td>1</td>\n",
              "      <td>1</td>\n",
              "      <td>0</td>\n",
              "      <td>1</td>\n",
              "      <td>0</td>\n",
              "    </tr>\n",
              "    <tr>\n",
              "      <th>3</th>\n",
              "      <td>1000</td>\n",
              "      <td>30</td>\n",
              "      <td>26</td>\n",
              "      <td>0</td>\n",
              "      <td>1</td>\n",
              "      <td>0</td>\n",
              "      <td>0</td>\n",
              "      <td>1</td>\n",
              "    </tr>\n",
              "    <tr>\n",
              "      <th>4</th>\n",
              "      <td>800</td>\n",
              "      <td>15</td>\n",
              "      <td>29</td>\n",
              "      <td>0</td>\n",
              "      <td>1</td>\n",
              "      <td>1</td>\n",
              "      <td>0</td>\n",
              "      <td>0</td>\n",
              "    </tr>\n",
              "  </tbody>\n",
              "</table>\n",
              "</div>"
            ],
            "text/plain": [
              "   Principal  terms  age  ...  Bechalor  High School or Below  college\n",
              "0       1000     30   50  ...         1                     0        0\n",
              "1        300      7   35  ...         0                     0        0\n",
              "2       1000     30   43  ...         0                     1        0\n",
              "3       1000     30   26  ...         0                     0        1\n",
              "4        800     15   29  ...         1                     0        0\n",
              "\n",
              "[5 rows x 8 columns]"
            ]
          },
          "metadata": {
            "tags": []
          },
          "execution_count": 114
        }
      ]
    },
    {
      "cell_type": "code",
      "metadata": {
        "id": "7aTj-Qo7cA0l"
      },
      "source": [
        "X_test = Feature\n",
        "\n",
        "y_test = test_df['loan_status'].values\n",
        "\n",
        "X_test = preprocessing.StandardScaler().fit(X_test).transform(X_test)"
      ],
      "execution_count": 122,
      "outputs": []
    },
    {
      "cell_type": "code",
      "metadata": {
        "id": "_x9EeKmJcSQI",
        "outputId": "af1f8852-5cc6-403f-8ede-d7e657ab3f41",
        "colab": {
          "base_uri": "https://localhost:8080/",
          "height": 185
        }
      },
      "source": [
        "X_test[0:5]"
      ],
      "execution_count": 123,
      "outputs": [
        {
          "output_type": "execute_result",
          "data": {
            "text/plain": [
              "array([[ 0.49362588,  0.92844966,  3.05981865,  1.97714211, -1.30384048,\n",
              "         2.39791576, -0.79772404, -0.86135677],\n",
              "       [-3.56269116, -1.70427745,  0.53336288, -0.50578054,  0.76696499,\n",
              "        -0.41702883, -0.79772404, -0.86135677],\n",
              "       [ 0.49362588,  0.92844966,  1.88080596,  1.97714211,  0.76696499,\n",
              "        -0.41702883,  1.25356634, -0.86135677],\n",
              "       [ 0.49362588,  0.92844966, -0.98251057, -0.50578054,  0.76696499,\n",
              "        -0.41702883, -0.79772404,  1.16095912],\n",
              "       [-0.66532184, -0.78854628, -0.47721942, -0.50578054,  0.76696499,\n",
              "         2.39791576, -0.79772404, -0.86135677]])"
            ]
          },
          "metadata": {
            "tags": []
          },
          "execution_count": 123
        }
      ]
    },
    {
      "cell_type": "code",
      "metadata": {
        "id": "J0ia20MpflDF",
        "outputId": "662ac5cc-7779-47b2-9642-d36c3f780584",
        "colab": {
          "base_uri": "https://localhost:8080/",
          "height": 34
        }
      },
      "source": [
        "y= test_df['loan_status'].values\n",
        "y[0:5]"
      ],
      "execution_count": 124,
      "outputs": [
        {
          "output_type": "execute_result",
          "data": {
            "text/plain": [
              "array([0, 0, 0, 0, 0])"
            ]
          },
          "metadata": {
            "tags": []
          },
          "execution_count": 124
        }
      ]
    },
    {
      "cell_type": "code",
      "metadata": {
        "id": "Hizi7tR5fsLO",
        "outputId": "02245ddd-56e2-43ff-9195-4591bfad1da4",
        "colab": {
          "base_uri": "https://localhost:8080/",
          "height": 70
        }
      },
      "source": [
        "test_scores={}\n",
        "knn_pred = clf_knn.predict(X_test)\n",
        "test_scores['KNN f1 score']=f1_score(y, knn_pred, average='weighted') \n",
        "test_scores['KNN jaccard score']= jaccard_similarity_score(y, knn_pred)"
      ],
      "execution_count": 125,
      "outputs": [
        {
          "output_type": "stream",
          "text": [
            "/usr/local/lib/python3.6/dist-packages/sklearn/metrics/_classification.py:664: FutureWarning: jaccard_similarity_score has been deprecated and replaced with jaccard_score. It will be removed in version 0.23. This implementation has surprising behavior for binary and multiclass classification tasks.\n",
            "  FutureWarning)\n"
          ],
          "name": "stderr"
        }
      ]
    },
    {
      "cell_type": "code",
      "metadata": {
        "id": "fiIgenHhf3Bc",
        "outputId": "e61287ed-a835-471b-a88c-d6c54decb2b3",
        "colab": {
          "base_uri": "https://localhost:8080/",
          "height": 70
        }
      },
      "source": [
        "tree_pred = clf_tree.predict(X_test)\n",
        "test_scores['Tree f1 score']=f1_score(y, tree_pred, average='weighted') \n",
        "test_scores['Tree jaccard score']= jaccard_similarity_score(y, tree_pred)"
      ],
      "execution_count": 127,
      "outputs": [
        {
          "output_type": "stream",
          "text": [
            "/usr/local/lib/python3.6/dist-packages/sklearn/metrics/_classification.py:664: FutureWarning: jaccard_similarity_score has been deprecated and replaced with jaccard_score. It will be removed in version 0.23. This implementation has surprising behavior for binary and multiclass classification tasks.\n",
            "  FutureWarning)\n"
          ],
          "name": "stderr"
        }
      ]
    },
    {
      "cell_type": "code",
      "metadata": {
        "id": "yBEkGYrAhNXR",
        "outputId": "c0c12326-5ff7-491d-e65e-3ba631658e9c",
        "colab": {
          "base_uri": "https://localhost:8080/",
          "height": 70
        }
      },
      "source": [
        "svm_pred = clf_svm.predict(X_test)\n",
        "test_scores['svm f1 score']=f1_score(y, svm_pred, average='weighted') \n",
        "test_scores['svm jaccard score']= jaccard_similarity_score(y, svm_pred)"
      ],
      "execution_count": 128,
      "outputs": [
        {
          "output_type": "stream",
          "text": [
            "/usr/local/lib/python3.6/dist-packages/sklearn/metrics/_classification.py:664: FutureWarning: jaccard_similarity_score has been deprecated and replaced with jaccard_score. It will be removed in version 0.23. This implementation has surprising behavior for binary and multiclass classification tasks.\n",
            "  FutureWarning)\n"
          ],
          "name": "stderr"
        }
      ]
    },
    {
      "cell_type": "code",
      "metadata": {
        "id": "ESudLFwRhgGH",
        "outputId": "c0c42ea0-4345-46ff-b2f7-0ff48d770cf9",
        "colab": {
          "base_uri": "https://localhost:8080/",
          "height": 70
        }
      },
      "source": [
        "lr_pred = clf_lr.predict(X_test)\n",
        "lr_proba=clf_lr.predict_proba(X_test)\n",
        "test_scores['logistic f1 score']=f1_score(y, lr_pred, average='weighted') \n",
        "test_scores['logistic jaccard score']= jaccard_similarity_score(y, lr_pred)\n",
        "test_scores['logistic logloss score']= log_loss(y, lr_proba)\n",
        "\n"
      ],
      "execution_count": 132,
      "outputs": [
        {
          "output_type": "stream",
          "text": [
            "/usr/local/lib/python3.6/dist-packages/sklearn/metrics/_classification.py:664: FutureWarning: jaccard_similarity_score has been deprecated and replaced with jaccard_score. It will be removed in version 0.23. This implementation has surprising behavior for binary and multiclass classification tasks.\n",
            "  FutureWarning)\n"
          ],
          "name": "stderr"
        }
      ]
    },
    {
      "cell_type": "code",
      "metadata": {
        "id": "U1DNXj1Zh1Ff",
        "outputId": "0ec66a1f-16d0-4ab0-e305-d3c40662a0e8",
        "colab": {
          "base_uri": "https://localhost:8080/",
          "height": 168
        }
      },
      "source": [
        "test_scores"
      ],
      "execution_count": 133,
      "outputs": [
        {
          "output_type": "execute_result",
          "data": {
            "text/plain": [
              "{'KNN f1 score': 0.6328400281888654,\n",
              " 'KNN jaccard score': 0.6666666666666666,\n",
              " 'Tree f1 score': 0.6886205279919816,\n",
              " 'Tree jaccard score': 0.6851851851851852,\n",
              " 'logistic f1 score': 0.6959228135698723,\n",
              " 'logistic jaccard score': 0.7592592592592593,\n",
              " 'logistic logloss score': 0.4704674734730516,\n",
              " 'svm f1 score': 0.683127572016461,\n",
              " 'svm jaccard score': 0.7407407407407407}"
            ]
          },
          "metadata": {
            "tags": []
          },
          "execution_count": 133
        }
      ]
    },
    {
      "cell_type": "code",
      "metadata": {
        "id": "wtBU7aSkjDjF",
        "outputId": "7184a7c0-29a8-4907-9632-71079061f916",
        "colab": {
          "base_uri": "https://localhost:8080/",
          "height": 151
        }
      },
      "source": [
        "list(Feature.columns)"
      ],
      "execution_count": 134,
      "outputs": [
        {
          "output_type": "execute_result",
          "data": {
            "text/plain": [
              "['Principal',\n",
              " 'terms',\n",
              " 'age',\n",
              " 'Gender',\n",
              " 'weekend',\n",
              " 'Bechalor',\n",
              " 'High School or Below',\n",
              " 'college']"
            ]
          },
          "metadata": {
            "tags": []
          },
          "execution_count": 134
        }
      ]
    },
    {
      "cell_type": "markdown",
      "metadata": {
        "id": "Nw3vP6LQjntA"
      },
      "source": [
        "# Report\n",
        "You should be able to report the accuracy of the built model using different evaluation metrics:\n",
        "\n",
        "| Algorithm          | Jaccard | F1-score | LogLoss |\n",
        "|--------------------|---------|----------|---------|\n",
        "| KNN                | 0.6666      | .6328       | NA      |\n",
        "| Decision Tree      | 0.6851     | 0.6886      | NA      |\n",
        "| SVM                | 0.7407    | 0.6831       | NA      |\n",
        "| LogisticRegression | 0.7592      | 0.6959       | 0.4704     |"
      ]
    },
    {
      "cell_type": "markdown",
      "metadata": {
        "id": "XBV6sUqCkbUi"
      },
      "source": [
        "# note: \n",
        "I used google colab because jaccard metrics was not working in ibm or my notebook. "
      ]
    },
    {
      "cell_type": "code",
      "metadata": {
        "id": "IjFCfGEejaZp"
      },
      "source": [
        ""
      ],
      "execution_count": null,
      "outputs": []
    }
  ]
}